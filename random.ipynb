{
 "cells": [
  {
   "cell_type": "code",
   "execution_count": null,
   "outputs": [],
   "source": [
    "import pandas as pd\n",
    "import numpy as np\n",
    "from sklearn.model_selection import cross_val_score\n",
    "from sklearn.metrics import make_scorer\n",
    "from sklearn.base import BaseEstimator\n",
    "from sklearn.preprocessing import MultiLabelBinarizer\n",
    "from sklearn.preprocessing import StandardScaler\n",
    "from sklearn.preprocessing import OneHotEncoder, StandardScaler\n",
    "import pandas as pd\n",
    "from sklearn.cluster import KMeans\n",
    "from sklearn.model_selection import train_test_split\n",
    "from itertools import islice"
   ],
   "metadata": {
    "collapsed": false
   },
   "id": "882dca60c1e40eb4"
  },
  {
   "cell_type": "code",
   "execution_count": null,
   "outputs": [],
   "source": [
    "def cluster_rule_based_prediction(user_id, movie_id):\n",
    "    cluster = int(movies_hot_df.loc[movie_id][\"Cluster\"])\n",
    "    user_pred = users_df.loc[user_id][f\"Cluster_mean_{cluster}\"]\n",
    "    class_pred = cluster_ratings[cluster]\n",
    "    film_pred = movies_hot_df.loc[movie_id][\"rating_mean\"]\n",
    "\n",
    "    # return round((user_pred * 0.7 + class_pred * 0.1 + film_pred * 0.3) * 2) / 2\n",
    "    # return round(film_pred * 2) / 2\n",
    "    return round(user_pred * 2) / 2\n",
    "\n",
    "class ClusterRuleBasedEstimator(BaseEstimator):\n",
    "    def fit(self, X, y=None):\n",
    "        return self\n",
    "\n",
    "    def predict(self, X):\n",
    "        return np.array([cluster_rule_based_prediction(user, movie) for user, movie in X])\n",
    "\n",
    "def custom_scorer(y_true, y_pred):\n",
    "    return np.mean((y_true - y_pred) ** 2)\n",
    "\n",
    "def custom_mae_scorer(y_true, y_pred):\n",
    "    return np.mean(abs(y_true - y_pred))\n",
    "\n",
    "def custom_accuracy_scorer(y_true, y_pred, tol=(0.5 + 1e-9)):\n",
    "    accuracy = np.isclose(y_pred, y_true, atol=tol).mean()\n",
    "    return accuracy"
   ],
   "metadata": {
    "collapsed": false
   },
   "id": "cbc8fae245fc1726"
  },
  {
   "cell_type": "code",
   "execution_count": null,
   "outputs": [],
   "source": [
    "ratings_df = pd.read_csv(\"data/ratings.csv\")\n",
    "movies_df = pd.read_csv(\"data/movies.csv\", index_col=\"movieId\")\n",
    "\n",
    "X = ratings_df.drop([\"rating\"], axis=1)\n",
    "y = ratings_df[\"rating\"]\n",
    "X_train, X_test, y_train, y_test = train_test_split(X, y, train_size=0.9, random_state=42)"
   ],
   "metadata": {
    "collapsed": false
   },
   "id": "4015a7d29ce678b2"
  },
  {
   "cell_type": "code",
   "execution_count": null,
   "outputs": [],
   "source": [
    "X_train.shape, X_test.shape, y_train.shape, y_test.shape"
   ],
   "metadata": {
    "collapsed": false
   },
   "id": "5c267f5b3f27857c"
  },
  {
   "cell_type": "code",
   "execution_count": null,
   "outputs": [],
   "source": [
    "ratings_train_df = pd.concat([X_train, y_train], axis=1)\n",
    "ratings_test_df = pd.concat([X_test, y_test], axis=1)"
   ],
   "metadata": {
    "collapsed": false
   },
   "id": "dec327c6c3e28fe1"
  },
  {
   "cell_type": "code",
   "execution_count": null,
   "outputs": [],
   "source": [
    "n_movie_clusters = 2\n",
    "n_user_clusters = 100\n",
    "\n",
    "movies_df['Genres_Split'] = movies_df['genres'].apply(lambda x: x.split('|'))\n",
    "mlb = MultiLabelBinarizer()\n",
    "binary_matrix = mlb.fit_transform(movies_df['Genres_Split'])\n",
    "binary_df = pd.DataFrame(binary_matrix, columns=mlb.classes_)\n",
    "\n",
    "movies_df.reset_index(inplace=True)\n",
    "movies_hot_df = pd.concat([movies_df, binary_df], axis=1)\n",
    "movies_hot_df = movies_hot_df.drop(['genres', 'Genres_Split'], axis=1)\n",
    "movies_hot_df = movies_hot_df.merge(ratings_train_df.groupby(\"movieId\")[\"rating\"].mean().reset_index(), on=\"movieId\")\n",
    "movies_hot_df.rename(columns={\"rating\": \"rating_mean\"}, inplace=True)\n",
    "movies_hot_df = movies_hot_df.drop([\"title\"], axis=1).set_index(\"movieId\")\n",
    "\n",
    "# movies_hot_df[\"rating_mean\"] *= 0 # to change\n",
    "\n",
    "kmeans = KMeans(n_clusters=n_movie_clusters, random_state=42)\n",
    "movies_hot_df['Cluster'] = kmeans.fit_predict(movies_hot_df)\n",
    "\n",
    "ratings_with_clusters = ratings_train_df.merge(movies_hot_df, left_on='movieId', right_index=True)\n",
    "\n",
    "user_cluster_stats = ratings_with_clusters.groupby(['userId', 'Cluster'])['rating'].agg(['count', 'sum']).reset_index()\n",
    "user_cluster_pivot = user_cluster_stats.pivot(index='userId', columns='Cluster', values=['count', 'sum']).fillna(0)\n",
    "user_cluster_pivot.columns = [f'Cluster_{stat}_{cluster}' for stat, cluster in user_cluster_pivot.columns]\n",
    "\n",
    "for cluster in range(n_movie_clusters):\n",
    "    count_col = f'Cluster_count_{cluster}'\n",
    "    sum_col = f'Cluster_sum_{cluster}'\n",
    "    mean_col = f'Cluster_mean_{cluster}'\n",
    "    if count_col in user_cluster_pivot.columns and sum_col in user_cluster_pivot.columns:\n",
    "        user_cluster_pivot[mean_col] = user_cluster_pivot[sum_col] / user_cluster_pivot[count_col]\n",
    "    else:\n",
    "        user_cluster_pivot[count_col] = 0\n",
    "        user_cluster_pivot[sum_col] = 0\n",
    "        user_cluster_pivot[mean_col] = 0\n",
    "\n",
    "user_cluster_pivot = user_cluster_pivot.fillna(0)\n",
    "users_df = user_cluster_pivot.reset_index()\n",
    "users_df.set_index(\"userId\", inplace=True)\n",
    "users_df.head()"
   ],
   "metadata": {
    "collapsed": false
   },
   "id": "1c831e095435f26a"
  },
  {
   "cell_type": "code",
   "execution_count": null,
   "outputs": [],
   "source": [
    "cluster_ratings = ratings_train_df.merge(\n",
    "    movies_hot_df.reset_index()[[\"Cluster\", \"movieId\"]], \n",
    "    on=\"movieId\")\\\n",
    ".groupby(\"Cluster\")[\"rating\"].mean()\n",
    "\n",
    "cluster_ratings"
   ],
   "metadata": {
    "collapsed": false
   },
   "id": "73c94bab019ea5d1"
  },
  {
   "cell_type": "code",
   "execution_count": null,
   "outputs": [],
   "source": [
    "y_pred, y_true = [], []\n",
    "unknown_count = 0\n",
    "\n",
    "for i, row in islice(ratings_test_df.iterrows(), 0, 100_000):\n",
    "    try:\n",
    "        y_pred.append(cluster_rule_based_prediction(row[\"userId\"], row[\"movieId\"]))\n",
    "    except:\n",
    "        y_pred.append(3.5)\n",
    "        unknown_count += 1\n",
    "        \n",
    "    y_true.append(row[\"rating\"])\n",
    "    \n",
    "acc_mse = custom_scorer(np.array(y_pred), np.array(y_true))\n",
    "acc = custom_mae_scorer(np.array(y_pred), np.array(y_true))"
   ],
   "metadata": {
    "collapsed": false
   },
   "id": "4f6e63b7a1641c0"
  },
  {
   "cell_type": "code",
   "execution_count": null,
   "outputs": [],
   "source": [
    "print(\"MSE:\", acc_mse)\n",
    "print(\"MAE:\", acc)\n",
    "print(\"Unknown\", unknown_count)"
   ],
   "metadata": {
    "collapsed": false
   },
   "id": "49d1531bc68bdc15"
  },
  {
   "cell_type": "markdown",
   "source": [
    "# Cross - validation"
   ],
   "metadata": {
    "collapsed": false
   },
   "id": "a59800e5b8346459"
  },
  {
   "cell_type": "code",
   "execution_count": null,
   "outputs": [],
   "source": [
    "n = 100_000\n",
    "\n",
    "mse_scorer = make_scorer(custom_scorer, greater_is_better=False)\n",
    "X = ratings_df[['userId', 'movieId']].values[:n]\n",
    "y = ratings_df['rating'].values[:n]\n",
    "estimator = ClusterRuleBasedEstimator()\n",
    "scores = cross_val_score(estimator, X, y, scoring=mse_scorer, cv=5)\n",
    "print(f\"Cross-validated MSE: {-scores.mean()}\")\n",
    "\n",
    "accuracy_scorer = make_scorer(custom_accuracy_scorer)\n",
    "accuracy_scores = cross_val_score(estimator, X, y, scoring=accuracy_scorer, cv=5)\n",
    "print(f\"Cross-validated Accuracy: {accuracy_scores.mean()}\")\n",
    "\n",
    "estimator.fit(X, y)\n",
    "y_pred = estimator.predict(X)\n",
    "num_exactly_correct = (y_pred == y).sum()\n",
    "print(f\"Number of exactly correct predictions: {num_exactly_correct}\")"
   ],
   "metadata": {
    "collapsed": false
   },
   "id": "131924338a94c876"
  },
  {
   "cell_type": "code",
   "execution_count": null,
   "outputs": [],
   "source": [
    "ratings_df = pd.read_csv(\"data/ratings.csv\")\n",
    "movies_df = pd.read_csv(\"data/movies.csv\", index_col=\"movieId\")\n",
    "n_movie_clusters = 10\n",
    "n_user_clusters = 100\n",
    "\n",
    "movies_df['Genres_Split'] = movies_df['genres'].apply(lambda x: x.split('|'))\n",
    "mlb = MultiLabelBinarizer()\n",
    "binary_matrix = mlb.fit_transform(movies_df['Genres_Split'])\n",
    "binary_df = pd.DataFrame(binary_matrix, columns=mlb.classes_)\n",
    "\n",
    "movies_hot_df = movies_df.join(binary_df)\n",
    "movies_hot_df = movies_hot_df.drop(['genres', 'Genres_Split'], axis=1)\n",
    "kmeans = KMeans(n_clusters=n_movie_clusters, random_state=42)\n",
    "movies_hot_df['Cluster'] = kmeans.fit_predict(binary_df)\n",
    "ratings_with_clusters = ratings_df.merge(movies_hot_df, left_on='movieId', right_index=True)\n",
    "\n",
    "user_cluster_stats = ratings_with_clusters.groupby(['userId', 'Cluster'])['rating'].agg(['count', 'sum']).reset_index()\n",
    "user_cluster_pivot = user_cluster_stats.pivot(index='userId', columns='Cluster', values=['count', 'sum']).fillna(0)\n",
    "user_cluster_pivot.columns = [f'Cluster_{stat}_{cluster}' for stat, cluster in user_cluster_pivot.columns]\n",
    "\n",
    "for cluster in range(n_movie_clusters):\n",
    "    count_col = f'Cluster_count_{cluster}'\n",
    "    sum_col = f'Cluster_sum_{cluster}'\n",
    "    mean_col = f'Cluster_mean_{cluster}'\n",
    "    if count_col in user_cluster_pivot.columns and sum_col in user_cluster_pivot.columns:\n",
    "        user_cluster_pivot[mean_col] = user_cluster_pivot[sum_col] / user_cluster_pivot[count_col]\n",
    "    else:\n",
    "        user_cluster_pivot[count_col] = 0\n",
    "        user_cluster_pgivot[sum_col] = 0\n",
    "        user_cluster_pivot[mean_col] = 0\n",
    "\n",
    "user_cluster_pivot = user_cluster_pivot.fillna(0)\n",
    "users_df = user_cluster_pivot.reset_index()\n",
    "users_df.set_index(\"userId\", inplace=True)\n",
    "users_df.head()"
   ],
   "metadata": {
    "collapsed": false
   },
   "id": "dc4c2eda5d9ec24"
  },
  {
   "cell_type": "markdown",
   "source": [
    "# Cross-validation"
   ],
   "metadata": {
    "collapsed": false
   },
   "id": "4df5fb917f0cfe58"
  },
  {
   "cell_type": "code",
   "execution_count": null,
   "outputs": [],
   "source": [
    "n = 100_000\n",
    "\n",
    "mse_scorer = make_scorer(custom_scorer, greater_is_better=False)\n",
    "X = ratings_df[['userId', 'movieId']].values[:n]\n",
    "y = ratings_df['rating'].values[:n]\n",
    "estimator = ClusterRuleBasedEstimator()\n",
    "scores = cross_val_score(estimator, X, y, scoring=mse_scorer, cv=5)\n",
    "print(f\"Cross-validated MSE: {-scores.mean()}\")\n",
    "\n",
    "accuracy_scorer = make_scorer(custom_accuracy_scorer)\n",
    "accuracy_scores = cross_val_score(estimator, X, y, scoring=accuracy_scorer, cv=5)\n",
    "print(f\"Cross-validated Accuracy: {accuracy_scores.mean()}\")\n",
    "\n",
    "estimator.fit(X, y)\n",
    "y_pred = estimator.predict(X)\n",
    "num_exactly_correct = (y_pred == y).sum()\n",
    "print(f\"Number of exactly correct predictions: {num_exactly_correct}\")"
   ],
   "metadata": {
    "collapsed": false
   },
   "id": "e209d1ada9de1be8"
  },
  {
   "cell_type": "code",
   "execution_count": null,
   "outputs": [],
   "source": [
    "movies_df[\"movieId\"].unique()"
   ],
   "metadata": {
    "collapsed": false
   },
   "id": "2ccaeaa8e1c20b7"
  },
  {
   "cell_type": "markdown",
   "source": [
    "# Part with years"
   ],
   "metadata": {
    "collapsed": false
   },
   "id": "e2805c7a1f77a4e9"
  },
  {
   "cell_type": "code",
   "execution_count": null,
   "outputs": [],
   "source": [
    "ratings_df = pd.read_csv(\"data/ratings.csv\")\n",
    "movies_df = pd.read_csv(\"data/movies.csv\", index_col=\"movieId\")\n",
    "n_movie_clusters = 100\n",
    "n_user_clusters = 100\n",
    "\n",
    "movies_df['Genres_Split'] = movies_df['genres'].apply(lambda x: x.split('|'))\n",
    "mlb = MultiLabelBinarizer()\n",
    "binary_matrix = mlb.fit_transform(movies_df['Genres_Split'])\n",
    "binary_df = pd.DataFrame(binary_matrix, columns=mlb.classes_)\n",
    "\n",
    "movies_df.reset_index(inplace=True)\n",
    "movies_hot_df = pd.concat([movies_df, binary_df], axis=1)\n",
    "movies_hot_df = movies_hot_df.drop(['genres', 'Genres_Split'], axis=1)\n",
    "movies_hot_df = movies_hot_df.merge(ratings_df.groupby(\"movieId\")[\"rating\"].mean().reset_index(), on=\"movieId\")\n",
    "movies_hot_df.rename(columns={\"rating\": \"rating_mean\"}, inplace=True)\n",
    "movies_hot_df = movies_hot_df.drop([\"title\"], axis=1).set_index(\"movieId\")\n",
    "\n",
    "movies_hot_df[\"rating_mean\"] *= 2\n",
    "\n",
    "# movies_hot_year_df = movies_hot_df.copy()\n",
    "# years = movies_df[movies_df['movieId'].isin(movies_hot_df.index)]['title'].str.extract(r'\\((\\d{4})\\)')\n",
    "# years.index = movies_hot_year_df.index\n",
    "# years[0] = pd.to_numeric(years[0], errors='coerce')\n",
    "# years = years.fillna(years.median())\n",
    "# scaler = StandardScaler()\n",
    "# scaled_years = scaler.fit_transform(years)\n",
    "# scaled_years_df = pd.DataFrame(scaled_years, index=years.index, columns=years.columns)\n",
    "# movies_hot_df['year'] = scaled_years_df\n",
    "\n",
    "# movies_hot_year_df = movies_hot_df.copy()\n",
    "# years = movies_df[movies_df['movieId'].isin(movies_hot_df.index)]['title'].str.extract(r'\\((\\d{4})\\)')\n",
    "# years.index = movies_hot_year_df.index\n",
    "# years[0] = pd.to_numeric(years[0], errors='coerce')\n",
    "# years = years.fillna(years.median())\n",
    "# scaled_years_df = years / 10\n",
    "# movies_hot_df['year'] = scaled_years_df\n",
    "\n",
    "\n",
    "kmeans = KMeans(n_clusters=n_movie_clusters, random_state=42)\n",
    "movies_hot_df['Cluster'] = kmeans.fit_predict(movies_hot_df)\n",
    "\n",
    "ratings_with_clusters = ratings_df.merge(movies_hot_df, left_on='movieId', right_index=True)\n",
    "\n",
    "user_cluster_stats = ratings_with_clusters.groupby(['userId', 'Cluster'])['rating'].agg(['count', 'sum']).reset_index()\n",
    "user_cluster_pivot = user_cluster_stats.pivot(index='userId', columns='Cluster', values=['count', 'sum']).fillna(0)\n",
    "user_cluster_pivot.columns = [f'Cluster_{stat}_{cluster}' for stat, cluster in user_cluster_pivot.columns]\n",
    "\n",
    "for cluster in range(n_movie_clusters):\n",
    "    count_col = f'Cluster_count_{cluster}'\n",
    "    sum_col = f'Cluster_sum_{cluster}'\n",
    "    mean_col = f'Cluster_mean_{cluster}'\n",
    "    if count_col in user_cluster_pivot.columns and sum_col in user_cluster_pivot.columns:\n",
    "        user_cluster_pivot[mean_col] = user_cluster_pivot[sum_col] / user_cluster_pivot[count_col]\n",
    "    else:\n",
    "        user_cluster_pivot[count_col] = 0\n",
    "        user_cluster_pivot[sum_col] = 0\n",
    "        user_cluster_pivot[mean_col] = 0\n",
    "\n",
    "user_cluster_pivot = user_cluster_pivot.fillna(0)\n",
    "users_df = user_cluster_pivot.reset_index()\n",
    "users_df.set_index(\"userId\", inplace=True)\n",
    "users_df.head()"
   ],
   "metadata": {
    "collapsed": false
   },
   "id": "12d61210a2c1ecca"
  },
  {
   "cell_type": "code",
   "execution_count": null,
   "outputs": [],
   "source": [
    "n = 100_000\n",
    "\n",
    "mse_scorer = make_scorer(custom_scorer, greater_is_better=False)\n",
    "X = ratings_df[['userId', 'movieId']].values[:n]\n",
    "y = ratings_df['rating'].values[:n]\n",
    "estimator = ClusterRuleBasedEstimator()\n",
    "scores = cross_val_score(estimator, X, y, scoring=mse_scorer, cv=5)\n",
    "print(f\"Cross-validated MSE: {-scores.mean()}\")\n",
    "\n",
    "accuracy_scorer = make_scorer(custom_accuracy_scorer)\n",
    "accuracy_scores = cross_val_score(estimator, X, y, scoring=accuracy_scorer, cv=5)\n",
    "print(f\"Cross-validated Accuracy: {accuracy_scores.mean()}\")\n",
    "\n",
    "estimator.fit(X, y)\n",
    "y_pred = estimator.predict(X)\n",
    "num_exactly_correct = (y_pred == y).sum()\n",
    "print(f\"Number of exactly correct predictions: {num_exactly_correct}\")"
   ],
   "metadata": {
    "collapsed": false
   },
   "id": "ea8de979ad425317"
  },
  {
   "cell_type": "code",
   "execution_count": null,
   "outputs": [],
   "source": [],
   "metadata": {
    "collapsed": false
   },
   "id": "f0606006a48d4047"
  },
  {
   "cell_type": "markdown",
   "source": [
    "# Hyper-rule based genres"
   ],
   "metadata": {
    "collapsed": false
   },
   "id": "d4172184d0ff3b22"
  },
  {
   "cell_type": "code",
   "execution_count": null,
   "outputs": [],
   "source": [
    "ratings_df = pd.read_csv(\"data/ratings.csv\")\n",
    "movies_df = pd.read_csv(\"data/movies.csv\", index_col=\"movieId\")\n",
    "\n",
    "X = ratings_df.drop([\"rating\"], axis=1)\n",
    "y = ratings_df[\"rating\"]\n",
    "X_train, X_test, y_train, y_test = train_test_split(X, y, train_size=0.9, random_state=42)\n",
    "ratings_train_df = pd.concat([X_train, y_train], axis=1)\n",
    "ratings_test_df = pd.concat([X_test, y_test], axis=1)\n",
    "\n",
    "movies_df['Genres_Split'] = movies_df['genres'].apply(lambda x: x.split('|'))\n",
    "mlb = MultiLabelBinarizer()\n",
    "binary_matrix = mlb.fit_transform(movies_df['Genres_Split'])\n",
    "binary_df = pd.DataFrame(binary_matrix, columns=mlb.classes_)\n",
    "movies_hot_rule_df = movies_df.join(binary_df)\n",
    "\n",
    "user_genre_df = pd.DataFrame({\"userId\": ratings_train_df[\"userId\"].unique()})\n",
    "genres = movies_hot_rule_df[\"Genres_Split\"].explode().unique()\n",
    "\n",
    "for genre in genres:\n",
    "    user_genre_df[genre] = pd.Series(np.zeros(user_genre_df.shape[0]))\n",
    "    user_genre_df[\"count_\"+genre] = pd.Series(np.zeros(user_genre_df.shape[0]))\n",
    "\n",
    "user_genre_df.set_index(\"userId\", inplace=True)\n",
    "\n",
    "movies_df = movies_df.explode('Genres_Split').rename(columns={'Genres_Split': 'genre'})\n",
    "merged_df = ratings_train_df.merge(movies_df, on='movieId')\n",
    "\n",
    "agg_df = merged_df.groupby(['userId', 'genre']).agg(\n",
    "    total_rating=('rating', 'sum'),\n",
    "    count=('rating', 'count')\n",
    ").reset_index()\n",
    "\n",
    "agg_df['average_rating'] = agg_df['total_rating'] / agg_df['count']\n",
    "\n",
    "user_genre_df = agg_df.pivot(index='userId', columns='genre', values=['average_rating', 'count'])\n",
    "user_genre_df.columns = [f'{stat}_{genre}' for stat, genre in user_genre_df.columns]\n",
    "user_genre_df = user_genre_df.reset_index()\n",
    "user_genre_df.fillna(3.5, inplace=True)\n",
    "user_genre_df.drop([\"count_\"+col for col in genres], axis=1, inplace=True)\n",
    "user_genre_df.set_index(\"userId\", inplace=True)"
   ],
   "metadata": {
    "collapsed": false
   },
   "id": "82c645f4bddee7ff"
  },
  {
   "cell_type": "code",
   "execution_count": null,
   "outputs": [],
   "source": [
    "def genre_rule_based_prediction(user_id, movie_id):\n",
    "    movie_genres = movies_hot_rule_df.loc[movie_id][\"Genres_Split\"]\n",
    "    movie_genres = [\"average_rating_\"+x for x in movie_genres]\n",
    "    return user_genre_df.loc[user_id][movie_genres].mean()"
   ],
   "metadata": {
    "collapsed": false
   },
   "id": "d89c1ba38f9f0187"
  },
  {
   "cell_type": "code",
   "execution_count": null,
   "outputs": [],
   "source": [
    "y_pred, y_true = [], []\n",
    "unknown_count = 0\n",
    "\n",
    "for i, row in islice(ratings_test_df.iterrows(), 0, 100_000):\n",
    "    try:\n",
    "        y_pred.append(genre_rule_based_prediction(row[\"userId\"], row[\"movieId\"]))\n",
    "    except:\n",
    "        y_pred.append(3.5)\n",
    "        unknown_count += 1\n",
    "\n",
    "    y_true.append(row[\"rating\"])\n",
    "\n",
    "\n",
    "acc_mse = custom_scorer(np.array(y_pred), np.array(y_true))\n",
    "acc = custom_mae_scorer(np.array(y_pred), np.array(y_true))"
   ],
   "metadata": {
    "collapsed": false
   },
   "id": "d20e7f624b6141e0"
  },
  {
   "cell_type": "code",
   "execution_count": null,
   "outputs": [],
   "source": [
    "print(\"MSE:\", acc_mse)\n",
    "print(\"MAE:\", acc)"
   ],
   "metadata": {
    "collapsed": false
   },
   "id": "50dd64073493dba5"
  },
  {
   "cell_type": "code",
   "execution_count": null,
   "outputs": [],
   "source": [],
   "metadata": {
    "collapsed": false
   },
   "id": "3ea91f6f779ab32f"
  }
 ],
 "metadata": {
  "kernelspec": {
   "display_name": "Python 3",
   "language": "python",
   "name": "python3"
  },
  "language_info": {
   "codemirror_mode": {
    "name": "ipython",
    "version": 2
   },
   "file_extension": ".py",
   "mimetype": "text/x-python",
   "name": "python",
   "nbconvert_exporter": "python",
   "pygments_lexer": "ipython2",
   "version": "2.7.6"
  }
 },
 "nbformat": 4,
 "nbformat_minor": 5
}
