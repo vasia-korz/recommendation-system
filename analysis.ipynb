{
 "cells": [
  {
   "cell_type": "markdown",
   "source": [
    "# Analysis of the model"
   ],
   "metadata": {
    "collapsed": false
   },
   "id": "6cefbc92b5e972f8"
  },
  {
   "cell_type": "code",
   "execution_count": 1,
   "id": "initial_id",
   "metadata": {
    "collapsed": true,
    "ExecuteTime": {
     "end_time": "2024-05-31T09:47:09.403012400Z",
     "start_time": "2024-05-31T09:47:08.794815200Z"
    }
   },
   "outputs": [],
   "source": [
    "from movie_lens_lib import *\n",
    "import pandas as pd\n",
    "from sklearn.model_selection import train_test_split\n",
    "import matplotlib.pyplot as plt\n",
    "import numpy as np"
   ]
  },
  {
   "cell_type": "markdown",
   "source": [
    "## Constants"
   ],
   "metadata": {
    "collapsed": false
   },
   "id": "6b43064a0f320c38"
  },
  {
   "cell_type": "code",
   "execution_count": 2,
   "outputs": [],
   "source": [
    "n_movie_clusters = 5\n",
    "rating_multiplier = 5\n",
    "year_multiplier = 0.05\n",
    "test_sample_size = 1_000\n",
    "weight_genre, weight_cluster, weight_movie = 0.35, 0.45, 0.2\n",
    "train_size = 0.9\n",
    "random_state = 42"
   ],
   "metadata": {
    "collapsed": false,
    "ExecuteTime": {
     "end_time": "2024-05-31T09:47:09.556310700Z",
     "start_time": "2024-05-31T09:47:09.530502400Z"
    }
   },
   "id": "7d100c47f40bcdee"
  },
  {
   "cell_type": "markdown",
   "source": [
    "## Import & Split dataset"
   ],
   "metadata": {
    "collapsed": false
   },
   "id": "4764bf252c89eba0"
  },
  {
   "cell_type": "code",
   "execution_count": 3,
   "outputs": [],
   "source": [
    "ratings_df = pd.read_csv(\"data/ratings.csv\")\n",
    "movies_df = pd.read_csv(\"data/movies.csv\", index_col=\"movieId\")\n",
    "\n",
    "X = ratings_df.drop([\"rating\"], axis=1)\n",
    "y = ratings_df[\"rating\"]\n",
    "\n",
    "X_train, X_test, y_train, y_test = train_test_split(X, y, train_size=train_size, random_state=random_state)\n",
    "ratings_train_df = pd.concat([X_train, y_train], axis=1)\n",
    "ratings_test_df = pd.concat([X_test, y_test], axis=1)"
   ],
   "metadata": {
    "collapsed": false,
    "ExecuteTime": {
     "end_time": "2024-05-31T09:47:26.579703500Z",
     "start_time": "2024-05-31T09:47:10.723504500Z"
    }
   },
   "id": "8e3c53ecc77f381c"
  },
  {
   "cell_type": "markdown",
   "source": [
    "## Preprocess"
   ],
   "metadata": {
    "collapsed": false
   },
   "id": "475ac2ffa4e881ca"
  },
  {
   "cell_type": "code",
   "execution_count": 4,
   "outputs": [],
   "source": [
    "movies_hot_df = PreProcessingAggregated().transform((movies_df, ratings_train_df))"
   ],
   "metadata": {
    "collapsed": false,
    "ExecuteTime": {
     "end_time": "2024-05-31T09:47:27.897746800Z",
     "start_time": "2024-05-31T09:47:26.579703500Z"
    }
   },
   "id": "56d8ca551496f065"
  },
  {
   "cell_type": "markdown",
   "source": [
    "In the cell below we calculate the number of occurrences of a user in the training set."
   ],
   "metadata": {
    "collapsed": false
   },
   "id": "8dee8ee602a55175"
  },
  {
   "cell_type": "code",
   "execution_count": null,
   "outputs": [],
   "source": [
    "ratings_test_grouped = ratings_train_df.copy()\n",
    "ratings_test_grouped[\"rating_count\"] = np.ones(ratings_test_grouped.shape[0])\n",
    "ratings_test_grouped = ratings_test_grouped.groupby(\"userId\")[\"rating_count\"].sum().to_frame()\n",
    "ratings_test_df = ratings_test_df.merge(ratings_test_grouped, on=\"userId\")\n",
    "ratings_test_df.head()"
   ],
   "metadata": {
    "collapsed": false
   },
   "id": "6aaa1902dc04bed6"
  },
  {
   "cell_type": "markdown",
   "source": [
    "## Conduct calculations\n",
    "Fit the regressor"
   ],
   "metadata": {
    "collapsed": false
   },
   "id": "1e96e854d58f8de8"
  },
  {
   "cell_type": "code",
   "execution_count": null,
   "outputs": [],
   "source": [
    "hybrid_regressor = HybridRegressor(movies_hot_df).fit(X_train, y_train)"
   ],
   "metadata": {
    "collapsed": false
   },
   "id": "d7a9d9f2423e1a7"
  },
  {
   "cell_type": "markdown",
   "source": [
    "Function for gauging the experiment results for the purpose of creating a visualization."
   ],
   "metadata": {
    "collapsed": false
   },
   "id": "b453aa13169bd51e"
  },
  {
   "cell_type": "code",
   "execution_count": null,
   "outputs": [],
   "source": [
    "def hybrid_step(threshold, upper_bound=None):\n",
    "    if upper_bound:\n",
    "        x_test_sample = ratings_test_df[\n",
    "            (ratings_test_df[\"rating_count\"] >= threshold) &\n",
    "            (ratings_test_df[\"rating_count\"] < upper_bound)\n",
    "        ]\n",
    "    else:\n",
    "        x_test_sample = ratings_test_df[\n",
    "            (ratings_test_df[\"rating_count\"] >= threshold)\n",
    "        ]\n",
    "        \n",
    "    x_test_sample = x_test_sample.sample(frac=1, random_state=42)\n",
    "    x_test_sample = x_test_sample[:min(test_sample_size, x_test_sample.shape[0])]\n",
    "    y_true = x_test_sample[\"rating\"].values\n",
    "    \n",
    "    hybrid_predictions = hybrid_regressor.predict(x_test_sample, False)\n",
    "    hybrid_results = get_performance_stats(y_true, hybrid_predictions)\n",
    "    results[threshold] = hybrid_results"
   ],
   "metadata": {
    "collapsed": false
   },
   "id": "c3526dd046706c5c"
  },
  {
   "cell_type": "markdown",
   "source": [
    "Conduct the experiment."
   ],
   "metadata": {
    "collapsed": false
   },
   "id": "fd4699b68d6efaf6"
  },
  {
   "cell_type": "code",
   "execution_count": null,
   "outputs": [],
   "source": [
    "results = {}\n",
    "thresholds = [0, 5, 10, 20, 50, 100, 200]\n",
    "\n",
    "for i in range(1, len(thresholds)):\n",
    "    hybrid_step(thresholds[i-1], thresholds[i])\n",
    "hybrid_step(thresholds[-1])"
   ],
   "metadata": {
    "collapsed": false
   },
   "id": "688aef6260d6246c"
  },
  {
   "cell_type": "markdown",
   "source": [
    "## Performance vs Number of records in the training set\n",
    "Visualize the results."
   ],
   "metadata": {
    "collapsed": false
   },
   "id": "ac41301e869fdc8b"
  },
  {
   "cell_type": "code",
   "execution_count": null,
   "outputs": [],
   "source": [
    "mse_values = [results[thresh]['mse'] for thresh in thresholds]\n",
    "mae_values = [results[thresh]['mae'] for thresh in thresholds]\n",
    "accuracy_values = [results[thresh]['accuracy'] for thresh in thresholds]\n",
    "\n",
    "bar_width = 0.3\n",
    "thresholds_indices = np.arange(len(thresholds))\n",
    "\n",
    "fig, ax1 = plt.subplots(figsize=(10, 6))\n",
    "\n",
    "bars1 = ax1.bar(thresholds_indices - bar_width/2, mse_values, bar_width, label='MSE', color='tab:blue', alpha=0.7)\n",
    "bars2 = ax1.bar(thresholds_indices + bar_width/2, mae_values, bar_width, label='MAE', color='tab:orange', alpha=0.7)\n",
    "\n",
    "ax2 = ax1.twinx()\n",
    "ax2.plot(thresholds_indices, accuracy_values, marker='o', label='Accuracy', color='tab:green', linewidth=2)\n",
    "\n",
    "ax1.set_xlabel('Number of records in the training set', fontsize=14)\n",
    "ax1.set_ylabel('MSE & MAE', color='black', fontsize=14)\n",
    "ax2.set_ylabel('Accuracy', color='black', fontsize=14)\n",
    "\n",
    "range_labels = [f'{thresholds[i]} - {thresholds[i+1]}' for i in range(len(thresholds)-1)]\n",
    "range_labels.append(f'> {thresholds[-1]}')\n",
    "ax1.set_xticks(thresholds_indices)\n",
    "ax1.set_xticklabels(range_labels, rotation=45)\n",
    "\n",
    "plt.title('Performance vs Number of records in the training set', fontsize=16)\n",
    "lines_labels = [bars1, bars2, ax2.get_lines()[0]]\n",
    "labels = [line.get_label() for line in lines_labels]\n",
    "ax1.legend(lines_labels, labels, loc='upper left')\n",
    "\n",
    "ax1.grid(True)\n",
    "ax2.grid(False)\n",
    "fig.tight_layout()\n",
    "plt.show()"
   ],
   "metadata": {
    "collapsed": false
   },
   "id": "45c6a400b86a2b6e"
  },
  {
   "cell_type": "markdown",
   "source": [
    "There is an obvious tendency that users who have more ratings in the training set get better performance of prediction when encountered in the testing set. The plot above shows the relation between the number of ratings upon which the model was trained (for each user) and the predictive performance of the model. E.g. for the column 10-20, we tested performance of our hybrid model only on the users who had between 10 and 20 records in the training dataset."
   ],
   "metadata": {
    "collapsed": false
   },
   "id": "4786e73a69a4c206"
  },
  {
   "cell_type": "markdown",
   "source": [
    "## Performance based on the number of clusters"
   ],
   "metadata": {
    "collapsed": false
   },
   "id": "12e02264e793e3a6"
  },
  {
   "cell_type": "code",
   "execution_count": 12,
   "outputs": [],
   "source": [
    "x_test_sample = ratings_test_df.sample(frac=1, random_state=42)\n",
    "x_test_sample = x_test_sample[:test_sample_size]\n",
    "y_true = x_test_sample[\"rating\"].values\n",
    "\n",
    "hybrid_results = {}"
   ],
   "metadata": {
    "collapsed": false,
    "ExecuteTime": {
     "end_time": "2024-05-31T09:51:01.361750500Z",
     "start_time": "2024-05-31T09:51:00.579880700Z"
    }
   },
   "id": "3509d1fea01ae48b"
  },
  {
   "cell_type": "code",
   "execution_count": 14,
   "outputs": [],
   "source": [
    "for n in range(2, 11):\n",
    "    hybrid_regressor = HybridRegressor(\n",
    "        movies_hot_df,\n",
    "        cluster_based_regressor = ClusterBasedRegressor(\n",
    "            movies_hot_df,\n",
    "            n,\n",
    "            rating_multiplier,\n",
    "            year_multiplier,\n",
    "            random_state\n",
    "        )\n",
    "    ).fit(X_train, y_train)\n",
    "    hybrid_predictions = hybrid_regressor.predict(x_test_sample, False)\n",
    "    hybrid_results[n] = get_performance_stats(y_true, hybrid_predictions)"
   ],
   "metadata": {
    "collapsed": false,
    "ExecuteTime": {
     "end_time": "2024-05-31T09:59:49.936908100Z",
     "start_time": "2024-05-31T09:51:43.908283700Z"
    }
   },
   "id": "312d6fd9e2588e80"
  },
  {
   "cell_type": "code",
   "execution_count": 15,
   "outputs": [
    {
     "data": {
      "text/plain": "<Figure size 500x800 with 2 Axes>",
      "image/png": "[encoded data removed]"
     },
     "metadata": {},
     "output_type": "display_data"
    }
   ],
   "source": [
    "metrics_to_plot = ['mse', 'mae']\n",
    "fig, axs = plt.subplots(len(metrics_to_plot), 1, figsize=(5, 8))\n",
    "\n",
    "for i, metric in enumerate(metrics_to_plot):\n",
    "    data = [hybrid_results[k][metric] for k in sorted(hybrid_results.keys())]\n",
    "    \n",
    "    axs[i].plot(sorted(hybrid_results.keys()), data, marker='o')\n",
    "    axs[i].set_title(metric.upper(), fontsize=14)\n",
    "    axs[i].set_xlabel('Number of clusters', fontsize=12)\n",
    "    axs[i].set_ylabel(metric.upper(), fontsize=12)\n",
    "\n",
    "plt.tight_layout()\n",
    "plt.show()"
   ],
   "metadata": {
    "collapsed": false,
    "ExecuteTime": {
     "end_time": "2024-05-31T09:59:50.410457Z",
     "start_time": "2024-05-31T09:59:49.948908100Z"
    }
   },
   "id": "939ef1ad7e16c8bc"
  },
  {
   "cell_type": "code",
   "execution_count": null,
   "outputs": [],
   "source": [],
   "metadata": {
    "collapsed": false
   },
   "id": "4de702155b6fdfb"
  }
 ],
 "metadata": {
  "kernelspec": {
   "display_name": "Python 3",
   "language": "python",
   "name": "python3"
  },
  "language_info": {
   "codemirror_mode": {
    "name": "ipython",
    "version": 2
   },
   "file_extension": ".py",
   "mimetype": "text/x-python",
   "name": "python",
   "nbconvert_exporter": "python",
   "pygments_lexer": "ipython2",
   "version": "2.7.6"
  }
 },
 "nbformat": 4,
 "nbformat_minor": 5
}
