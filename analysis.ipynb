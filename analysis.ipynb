{
 "cells": [
  {
   "cell_type": "code",
   "execution_count": 1,
   "id": "initial_id",
   "metadata": {
    "collapsed": true,
    "ExecuteTime": {
     "end_time": "2024-05-30T17:43:34.402386500Z",
     "start_time": "2024-05-30T17:43:15.862897100Z"
    }
   },
   "outputs": [],
   "source": [
    "from movie_lens_lib import *\n",
    "import pandas as pd\n",
    "from sklearn.model_selection import train_test_split\n",
    "\n",
    "## Constants\n",
    "n_movie_clusters = 5\n",
    "rating_multiplier = 5\n",
    "year_multiplier = 0.05\n",
    "test_sample_size = 100_000\n",
    "weight_genre, weight_cluster, weight_movie = 0.35, 0.45, 0.2\n",
    "train_size = 0.9\n",
    "random_state = 42\n",
    "\n",
    "## Import & Split dataset\n",
    "ratings_df = pd.read_csv(\"data/ratings.csv\")\n",
    "movies_df = pd.read_csv(\"data/movies.csv\", index_col=\"movieId\")\n",
    "\n",
    "X = ratings_df.drop([\"rating\"], axis=1)\n",
    "y = ratings_df[\"rating\"]\n",
    "\n",
    "X_train, X_test, y_train, y_test = train_test_split(X, y, train_size=train_size, random_state=random_state)\n",
    "ratings_train_df = pd.concat([X_train, y_train], axis=1)\n",
    "ratings_test_df = pd.concat([X_test, y_test], axis=1)\n",
    "\n",
    "## Preprocess\n",
    "movies_hot_df = PreProcessingAggregated().transform((movies_df, ratings_train_df))"
   ]
  },
  {
   "cell_type": "code",
   "execution_count": 3,
   "outputs": [
    {
     "data": {
      "text/plain": "   userId  movieId   timestamp  rating  rating_count\n0   23474     8636  1623093417     2.0         158.0\n1   23474      593  1622908173     4.5         158.0\n2   23474     4963  1622907887     3.5         158.0\n3   23474    81845  1622908031     4.0         158.0\n4   23474    84152  1622991895     3.5         158.0",
      "text/html": "<div>\n<style scoped>\n    .dataframe tbody tr th:only-of-type {\n        vertical-align: middle;\n    }\n\n    .dataframe tbody tr th {\n        vertical-align: top;\n    }\n\n    .dataframe thead th {\n        text-align: right;\n    }\n</style>\n<table border=\"1\" class=\"dataframe\">\n  <thead>\n    <tr style=\"text-align: right;\">\n      <th></th>\n      <th>userId</th>\n      <th>movieId</th>\n      <th>timestamp</th>\n      <th>rating</th>\n      <th>rating_count</th>\n    </tr>\n  </thead>\n  <tbody>\n    <tr>\n      <th>0</th>\n      <td>23474</td>\n      <td>8636</td>\n      <td>1623093417</td>\n      <td>2.0</td>\n      <td>158.0</td>\n    </tr>\n    <tr>\n      <th>1</th>\n      <td>23474</td>\n      <td>593</td>\n      <td>1622908173</td>\n      <td>4.5</td>\n      <td>158.0</td>\n    </tr>\n    <tr>\n      <th>2</th>\n      <td>23474</td>\n      <td>4963</td>\n      <td>1622907887</td>\n      <td>3.5</td>\n      <td>158.0</td>\n    </tr>\n    <tr>\n      <th>3</th>\n      <td>23474</td>\n      <td>81845</td>\n      <td>1622908031</td>\n      <td>4.0</td>\n      <td>158.0</td>\n    </tr>\n    <tr>\n      <th>4</th>\n      <td>23474</td>\n      <td>84152</td>\n      <td>1622991895</td>\n      <td>3.5</td>\n      <td>158.0</td>\n    </tr>\n  </tbody>\n</table>\n</div>"
     },
     "execution_count": 3,
     "metadata": {},
     "output_type": "execute_result"
    }
   ],
   "source": [
    "ratings_test_grouped = ratings_train_df.copy()\n",
    "ratings_test_grouped[\"rating_count\"] = np.ones(ratings_test_grouped.shape[0])\n",
    "ratings_test_grouped = ratings_test_grouped.groupby(\"userId\")[\"rating_count\"].sum().to_frame()\n",
    "ratings_test_df = ratings_test_df.merge(ratings_test_grouped, on=\"userId\")\n",
    "ratings_test_df.head()"
   ],
   "metadata": {
    "collapsed": false,
    "ExecuteTime": {
     "end_time": "2024-05-30T17:44:40.491711Z",
     "start_time": "2024-05-30T17:44:36.978303900Z"
    }
   },
   "id": "6aaa1902dc04bed6"
  },
  {
   "cell_type": "code",
   "execution_count": 2,
   "outputs": [],
   "source": [
    "results = []"
   ],
   "metadata": {
    "collapsed": false,
    "ExecuteTime": {
     "end_time": "2024-05-30T17:43:50.189390Z",
     "start_time": "2024-05-30T17:43:49.661873200Z"
    }
   },
   "id": "7d20122f1ec7fb03"
  },
  {
   "cell_type": "code",
   "execution_count": null,
   "outputs": [],
   "source": [
    "x_test_sample = ratings_test_df.sample(frac=1, random_state=42)\n",
    "x_test_sample = x_test_sample[:test_sample_size]\n",
    "y_true = x_test_sample[\"rating\"].values\n",
    "\n",
    "hybrid_regressor = HybridRegressor(movies_hot_df).fit(X_train, y_train)\n",
    "hybrid_predictions = hybrid_regressor.predict(x_test_sample, False)\n",
    "print_stats(hybrid_results := get_performance_stats(y_true, hybrid_predictions))"
   ],
   "metadata": {
    "collapsed": false
   },
   "id": "688aef6260d6246c"
  }
 ],
 "metadata": {
  "kernelspec": {
   "display_name": "Python 3",
   "language": "python",
   "name": "python3"
  },
  "language_info": {
   "codemirror_mode": {
    "name": "ipython",
    "version": 2
   },
   "file_extension": ".py",
   "mimetype": "text/x-python",
   "name": "python",
   "nbconvert_exporter": "python",
   "pygments_lexer": "ipython2",
   "version": "2.7.6"
  }
 },
 "nbformat": 4,
 "nbformat_minor": 5
}
