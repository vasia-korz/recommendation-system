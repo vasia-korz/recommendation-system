{
 "cells": [
  {
   "cell_type": "code",
   "execution_count": 40,
   "id": "initial_id",
   "metadata": {
    "collapsed": true,
    "ExecuteTime": {
     "end_time": "2024-05-28T17:24:03.106476300Z",
     "start_time": "2024-05-28T17:24:03.106476300Z"
    }
   },
   "outputs": [],
   "source": [
    "import pandas as pd\n",
    "import numpy as np\n",
    "from sklearn.model_selection import cross_val_score\n",
    "from sklearn.metrics import make_scorer\n",
    "from sklearn.base import BaseEstimator\n",
    "from sklearn.preprocessing import MultiLabelBinarizer\n",
    "from sklearn.preprocessing import StandardScaler\n",
    "from sklearn.preprocessing import OneHotEncoder, StandardScaler\n",
    "import pandas as pd\n",
    "from sklearn.cluster import KMeans"
   ]
  },
  {
   "cell_type": "code",
   "execution_count": 41,
   "outputs": [],
   "source": [
    "ratings_df = pd.read_csv(\"data/ratings.csv\")\n",
    "movies_df = pd.read_csv(\"data/movies.csv\", index_col=\"movieId\")"
   ],
   "metadata": {
    "collapsed": false,
    "ExecuteTime": {
     "end_time": "2024-05-28T17:24:58.162065300Z",
     "start_time": "2024-05-28T17:24:48.820217500Z"
    }
   },
   "id": "c94340d85d9df890"
  },
  {
   "cell_type": "markdown",
   "source": [
    "### Rule based"
   ],
   "metadata": {
    "collapsed": false
   },
   "id": "545dd01d5229b45c"
  },
  {
   "cell_type": "code",
   "execution_count": 21,
   "outputs": [],
   "source": [
    "def rule_based_prediction(user_id, movie_id):\n",
    "    user_avg_rating = ratings_df[ratings_df['userId'] == user_id]['rating'].mean()\n",
    "    film_avg_rating = ratings_df[ratings_df['movieId'] == movie_id]['rating'].mean()\n",
    "    \n",
    "    genres = movies_df.loc[movie_id][\"genres\"].split(\"|\")\n",
    "    movie_idx = set()\n",
    "    for genre in genres:\n",
    "        movie_idx.update(movies_df[movies_df[\"genres\"].str.contains(genre)].index)\n",
    "    genre_avg_rating = ratings_df[ratings_df['movieId'].isin(movie_idx)]['rating'].mean()\n",
    "\n",
    "    return (user_avg_rating + film_avg_rating + genre_avg_rating) / 3"
   ],
   "metadata": {
    "collapsed": false,
    "ExecuteTime": {
     "end_time": "2024-05-28T15:51:46.845077200Z",
     "start_time": "2024-05-28T15:51:46.845077200Z"
    }
   },
   "id": "2f1fbe810fe3fcd6"
  },
  {
   "cell_type": "code",
   "execution_count": 22,
   "outputs": [
    {
     "name": "stdout",
     "output_type": "stream",
     "text": [
      "CPU times: total: 2 s\n",
      "Wall time: 2.91 s\n"
     ]
    },
    {
     "data": {
      "text/plain": "3.9494551923200674"
     },
     "execution_count": 22,
     "metadata": {},
     "output_type": "execute_result"
    }
   ],
   "source": [
    "%%time\n",
    "rule_based_prediction(1, 50)"
   ],
   "metadata": {
    "collapsed": false,
    "ExecuteTime": {
     "end_time": "2024-05-28T15:52:01.295185700Z",
     "start_time": "2024-05-28T15:51:58.369514900Z"
    }
   },
   "id": "f83051e0b6149a32"
  },
  {
   "cell_type": "code",
   "execution_count": 3,
   "outputs": [],
   "source": [
    "class RuleBasedEstimator(BaseEstimator):\n",
    "    def fit(self, X, y=None):\n",
    "        return self\n",
    "    \n",
    "    def predict(self, X):\n",
    "        return np.array([rule_based_prediction(user, movie) for user, movie in X])\n",
    "\n",
    "def custom_scorer(y_true, y_pred):\n",
    "    return np.mean((y_true - y_pred) ** 2)  # Mean Squared Error"
   ],
   "metadata": {
    "collapsed": false,
    "ExecuteTime": {
     "end_time": "2024-05-28T15:47:12.288856100Z",
     "start_time": "2024-05-28T15:47:12.282695700Z"
    }
   },
   "id": "b9c0bb66ace9eb2d"
  },
  {
   "cell_type": "code",
   "execution_count": 76,
   "outputs": [
    {
     "name": "stdout",
     "output_type": "stream",
     "text": [
      "Cross-validated MSE: 0.7235005480434722\n"
     ]
    }
   ],
   "source": [
    "n = 100\n",
    "\n",
    "mse_scorer = make_scorer(custom_scorer, greater_is_better=False)\n",
    "X = ratings_df[['userId', 'movieId']].values[:n]\n",
    "y = ratings_df['rating'].values[:n]\n",
    "estimator = RuleBasedEstimator()\n",
    "scores = cross_val_score(estimator, X, y, scoring=mse_scorer, cv=5)\n",
    "\n",
    "print(f\"Cross-validated MSE: {-scores.mean()}\")"
   ],
   "metadata": {
    "collapsed": false,
    "ExecuteTime": {
     "end_time": "2024-05-27T18:13:17.470792200Z",
     "start_time": "2024-05-27T18:10:43.354122400Z"
    }
   },
   "id": "1ea98211dd23b72f"
  },
  {
   "cell_type": "code",
   "execution_count": 4,
   "outputs": [],
   "source": [
    "n_movie_clusters = 10\n",
    "n_user_clusters = 100"
   ],
   "metadata": {
    "collapsed": false,
    "ExecuteTime": {
     "end_time": "2024-05-28T15:47:12.369247Z",
     "start_time": "2024-05-28T15:47:12.337985400Z"
    }
   },
   "id": "88d07711eb8a5f81"
  },
  {
   "cell_type": "code",
   "execution_count": 5,
   "outputs": [
    {
     "name": "stderr",
     "output_type": "stream",
     "text": [
      "C:\\Users\\Василий\\AppData\\Roaming\\Python\\Python311\\site-packages\\sklearn\\cluster\\_kmeans.py:1416: FutureWarning: The default value of `n_init` will change from 10 to 'auto' in 1.4. Set the value of `n_init` explicitly to suppress the warning\n",
      "  super()._check_params_vs_input(X, default_n_init=10)\n"
     ]
    }
   ],
   "source": [
    "# Step 1: Split the string values\n",
    "movies_df['Genres_Split'] = movies_df['genres'].apply(lambda x: x.split('|'))\n",
    "\n",
    "# Step 2: Create a binary matrix (One-Hot Encoding)\n",
    "mlb = MultiLabelBinarizer()\n",
    "binary_matrix = mlb.fit_transform(movies_df['Genres_Split'])\n",
    "binary_df = pd.DataFrame(binary_matrix, columns=mlb.classes_)\n",
    "\n",
    "# Combine the original DataFrame with the binary matrix\n",
    "movies_hot_df = movies_df.join(binary_df)\n",
    "\n",
    "# Drop the original and split columns as they are no longer needed\n",
    "movies_hot_df = movies_hot_df.drop(['genres', 'Genres_Split'], axis=1)\n",
    "\n",
    "# Step 3: Clustering\n",
    "# For demonstration, we'll use K-means with 2 clusters\n",
    "kmeans = KMeans(n_clusters=n_movie_clusters, random_state=42)\n",
    "movies_hot_df['Cluster'] = kmeans.fit_predict(binary_df)"
   ],
   "metadata": {
    "collapsed": false,
    "ExecuteTime": {
     "end_time": "2024-05-28T15:47:14.001315700Z",
     "start_time": "2024-05-28T15:47:12.509954500Z"
    }
   },
   "id": "585b42935226be41"
  },
  {
   "cell_type": "code",
   "execution_count": 6,
   "outputs": [
    {
     "data": {
      "text/plain": "                                      title  (no genres listed)  Action  \\\nmovieId                                                                   \n1                          Toy Story (1995)                 0.0     0.0   \n2                            Jumanji (1995)                 0.0     0.0   \n3                   Grumpier Old Men (1995)                 0.0     0.0   \n4                  Waiting to Exhale (1995)                 0.0     0.0   \n5        Father of the Bride Part II (1995)                 0.0     1.0   \n\n         Adventure  Animation  Children  Comedy  Crime  Documentary  Drama  \\\nmovieId                                                                      \n1              1.0        0.0       1.0     0.0    0.0          0.0    0.0   \n2              0.0        0.0       0.0     1.0    0.0          0.0    0.0   \n3              0.0        0.0       0.0     1.0    0.0          0.0    1.0   \n4              0.0        0.0       0.0     1.0    0.0          0.0    0.0   \n5              0.0        0.0       0.0     0.0    1.0          0.0    0.0   \n\n         ...  Horror  IMAX  Musical  Mystery  Romance  Sci-Fi  Thriller  War  \\\nmovieId  ...                                                                   \n1        ...     0.0   0.0      0.0      0.0      0.0     0.0       0.0  0.0   \n2        ...     0.0   0.0      0.0      0.0      1.0     0.0       0.0  0.0   \n3        ...     0.0   0.0      0.0      0.0      1.0     0.0       0.0  0.0   \n4        ...     0.0   0.0      0.0      0.0      0.0     0.0       0.0  0.0   \n5        ...     0.0   0.0      0.0      0.0      0.0     0.0       1.0  0.0   \n\n         Western  Cluster  \nmovieId                    \n1            0.0        9  \n2            0.0        9  \n3            0.0        0  \n4            0.0        3  \n5            0.0        0  \n\n[5 rows x 22 columns]",
      "text/html": "<div>\n<style scoped>\n    .dataframe tbody tr th:only-of-type {\n        vertical-align: middle;\n    }\n\n    .dataframe tbody tr th {\n        vertical-align: top;\n    }\n\n    .dataframe thead th {\n        text-align: right;\n    }\n</style>\n<table border=\"1\" class=\"dataframe\">\n  <thead>\n    <tr style=\"text-align: right;\">\n      <th></th>\n      <th>title</th>\n      <th>(no genres listed)</th>\n      <th>Action</th>\n      <th>Adventure</th>\n      <th>Animation</th>\n      <th>Children</th>\n      <th>Comedy</th>\n      <th>Crime</th>\n      <th>Documentary</th>\n      <th>Drama</th>\n      <th>...</th>\n      <th>Horror</th>\n      <th>IMAX</th>\n      <th>Musical</th>\n      <th>Mystery</th>\n      <th>Romance</th>\n      <th>Sci-Fi</th>\n      <th>Thriller</th>\n      <th>War</th>\n      <th>Western</th>\n      <th>Cluster</th>\n    </tr>\n    <tr>\n      <th>movieId</th>\n      <th></th>\n      <th></th>\n      <th></th>\n      <th></th>\n      <th></th>\n      <th></th>\n      <th></th>\n      <th></th>\n      <th></th>\n      <th></th>\n      <th></th>\n      <th></th>\n      <th></th>\n      <th></th>\n      <th></th>\n      <th></th>\n      <th></th>\n      <th></th>\n      <th></th>\n      <th></th>\n      <th></th>\n    </tr>\n  </thead>\n  <tbody>\n    <tr>\n      <th>1</th>\n      <td>Toy Story (1995)</td>\n      <td>0.0</td>\n      <td>0.0</td>\n      <td>1.0</td>\n      <td>0.0</td>\n      <td>1.0</td>\n      <td>0.0</td>\n      <td>0.0</td>\n      <td>0.0</td>\n      <td>0.0</td>\n      <td>...</td>\n      <td>0.0</td>\n      <td>0.0</td>\n      <td>0.0</td>\n      <td>0.0</td>\n      <td>0.0</td>\n      <td>0.0</td>\n      <td>0.0</td>\n      <td>0.0</td>\n      <td>0.0</td>\n      <td>9</td>\n    </tr>\n    <tr>\n      <th>2</th>\n      <td>Jumanji (1995)</td>\n      <td>0.0</td>\n      <td>0.0</td>\n      <td>0.0</td>\n      <td>0.0</td>\n      <td>0.0</td>\n      <td>1.0</td>\n      <td>0.0</td>\n      <td>0.0</td>\n      <td>0.0</td>\n      <td>...</td>\n      <td>0.0</td>\n      <td>0.0</td>\n      <td>0.0</td>\n      <td>0.0</td>\n      <td>1.0</td>\n      <td>0.0</td>\n      <td>0.0</td>\n      <td>0.0</td>\n      <td>0.0</td>\n      <td>9</td>\n    </tr>\n    <tr>\n      <th>3</th>\n      <td>Grumpier Old Men (1995)</td>\n      <td>0.0</td>\n      <td>0.0</td>\n      <td>0.0</td>\n      <td>0.0</td>\n      <td>0.0</td>\n      <td>1.0</td>\n      <td>0.0</td>\n      <td>0.0</td>\n      <td>1.0</td>\n      <td>...</td>\n      <td>0.0</td>\n      <td>0.0</td>\n      <td>0.0</td>\n      <td>0.0</td>\n      <td>1.0</td>\n      <td>0.0</td>\n      <td>0.0</td>\n      <td>0.0</td>\n      <td>0.0</td>\n      <td>0</td>\n    </tr>\n    <tr>\n      <th>4</th>\n      <td>Waiting to Exhale (1995)</td>\n      <td>0.0</td>\n      <td>0.0</td>\n      <td>0.0</td>\n      <td>0.0</td>\n      <td>0.0</td>\n      <td>1.0</td>\n      <td>0.0</td>\n      <td>0.0</td>\n      <td>0.0</td>\n      <td>...</td>\n      <td>0.0</td>\n      <td>0.0</td>\n      <td>0.0</td>\n      <td>0.0</td>\n      <td>0.0</td>\n      <td>0.0</td>\n      <td>0.0</td>\n      <td>0.0</td>\n      <td>0.0</td>\n      <td>3</td>\n    </tr>\n    <tr>\n      <th>5</th>\n      <td>Father of the Bride Part II (1995)</td>\n      <td>0.0</td>\n      <td>1.0</td>\n      <td>0.0</td>\n      <td>0.0</td>\n      <td>0.0</td>\n      <td>0.0</td>\n      <td>1.0</td>\n      <td>0.0</td>\n      <td>0.0</td>\n      <td>...</td>\n      <td>0.0</td>\n      <td>0.0</td>\n      <td>0.0</td>\n      <td>0.0</td>\n      <td>0.0</td>\n      <td>0.0</td>\n      <td>1.0</td>\n      <td>0.0</td>\n      <td>0.0</td>\n      <td>0</td>\n    </tr>\n  </tbody>\n</table>\n<p>5 rows × 22 columns</p>\n</div>"
     },
     "execution_count": 6,
     "metadata": {},
     "output_type": "execute_result"
    }
   ],
   "source": [
    "movies_hot_df.head()"
   ],
   "metadata": {
    "collapsed": false,
    "ExecuteTime": {
     "end_time": "2024-05-28T15:47:14.092378Z",
     "start_time": "2024-05-28T15:47:14.001315700Z"
    }
   },
   "id": "8ad79e2e2eafbb79"
  },
  {
   "cell_type": "code",
   "execution_count": 7,
   "outputs": [],
   "source": [
    "ratings_with_clusters = ratings_df.merge(movies_hot_df, left_on='movieId', right_index=True)\n",
    "\n",
    "# Group by userId and cluster to calculate counts and sums\n",
    "user_cluster_stats = ratings_with_clusters.groupby(['userId', 'Cluster'])['rating'].agg(['count', 'sum']).reset_index()\n",
    "\n",
    "# Pivot the table to get counts and sums for each cluster as separate columns\n",
    "user_cluster_pivot = user_cluster_stats.pivot(index='userId', columns='Cluster', values=['count', 'sum']).fillna(0)\n",
    "\n",
    "# Flatten the MultiIndex columns\n",
    "user_cluster_pivot.columns = [f'Cluster_{stat}_{cluster}' for stat, cluster in user_cluster_pivot.columns]\n",
    "\n",
    "# Calculate the mean ratings\n",
    "for cluster in range(n_movie_clusters):\n",
    "    count_col = f'Cluster_count_{cluster}'\n",
    "    sum_col = f'Cluster_sum_{cluster}'\n",
    "    mean_col = f'Cluster_mean_{cluster}'\n",
    "    if count_col in user_cluster_pivot.columns and sum_col in user_cluster_pivot.columns:\n",
    "        user_cluster_pivot[mean_col] = user_cluster_pivot[sum_col] / user_cluster_pivot[count_col]\n",
    "    else:\n",
    "        user_cluster_pivot[count_col] = 0\n",
    "        user_cluster_pivot[sum_col] = 0\n",
    "        user_cluster_pivot[mean_col] = 0\n",
    "\n",
    "# Fill NaNs with 0s\n",
    "user_cluster_pivot = user_cluster_pivot.fillna(0)\n",
    "\n",
    "# Reset the index to make userId a column again\n",
    "users_df = user_cluster_pivot.reset_index()"
   ],
   "metadata": {
    "collapsed": false,
    "ExecuteTime": {
     "end_time": "2024-05-28T15:47:40.324433300Z",
     "start_time": "2024-05-28T15:47:14.045488200Z"
    }
   },
   "id": "9f7cfe2dcf025bd9"
  },
  {
   "cell_type": "code",
   "execution_count": 8,
   "outputs": [
    {
     "data": {
      "text/plain": "   userId  Cluster_count_0  Cluster_count_1  Cluster_count_2  Cluster_count_3  \\\n0       1              5.0             13.0             10.0             14.0   \n1       2             18.0             16.0              7.0             15.0   \n2       3              3.0              3.0              2.0              0.0   \n3       4              1.0              5.0              3.0              5.0   \n4       5              6.0             16.0              1.0              4.0   \n\n   Cluster_count_4  Cluster_count_5  Cluster_count_6  Cluster_count_7  \\\n0              0.0              0.0              5.0              1.0   \n1              0.0              0.0              1.0              2.0   \n2              0.0              0.0              3.0              1.0   \n3              0.0              0.0              4.0              0.0   \n4              1.0              0.0              1.0              3.0   \n\n   Cluster_count_8  ...  Cluster_mean_0  Cluster_mean_1  Cluster_mean_2  \\\n0              3.0  ...        3.900000        4.076923        3.700000   \n1             25.0  ...        3.555556        3.937500        2.571429   \n2              7.0  ...        5.000000        5.000000        4.000000   \n3              5.0  ...        4.000000        4.100000        4.333333   \n4             10.0  ...        2.333333        3.812500        5.000000   \n\n   Cluster_mean_3  Cluster_mean_4  Cluster_mean_5  Cluster_mean_6  \\\n0        4.035714             0.0             0.0           3.900   \n1        3.533333             0.0             0.0           3.000   \n2        0.000000             0.0             0.0           5.000   \n3        4.600000             0.0             0.0           4.625   \n4        3.750000             4.0             0.0           3.000   \n\n   Cluster_mean_7  Cluster_mean_8  Cluster_mean_9  \n0             5.0        4.333333        4.090909  \n1             3.5        3.440000        3.857143  \n2             5.0        4.857143        5.000000  \n3             0.0        4.100000        4.500000  \n4             3.0        3.300000        3.000000  \n\n[5 rows x 31 columns]",
      "text/html": "<div>\n<style scoped>\n    .dataframe tbody tr th:only-of-type {\n        vertical-align: middle;\n    }\n\n    .dataframe tbody tr th {\n        vertical-align: top;\n    }\n\n    .dataframe thead th {\n        text-align: right;\n    }\n</style>\n<table border=\"1\" class=\"dataframe\">\n  <thead>\n    <tr style=\"text-align: right;\">\n      <th></th>\n      <th>userId</th>\n      <th>Cluster_count_0</th>\n      <th>Cluster_count_1</th>\n      <th>Cluster_count_2</th>\n      <th>Cluster_count_3</th>\n      <th>Cluster_count_4</th>\n      <th>Cluster_count_5</th>\n      <th>Cluster_count_6</th>\n      <th>Cluster_count_7</th>\n      <th>Cluster_count_8</th>\n      <th>...</th>\n      <th>Cluster_mean_0</th>\n      <th>Cluster_mean_1</th>\n      <th>Cluster_mean_2</th>\n      <th>Cluster_mean_3</th>\n      <th>Cluster_mean_4</th>\n      <th>Cluster_mean_5</th>\n      <th>Cluster_mean_6</th>\n      <th>Cluster_mean_7</th>\n      <th>Cluster_mean_8</th>\n      <th>Cluster_mean_9</th>\n    </tr>\n  </thead>\n  <tbody>\n    <tr>\n      <th>0</th>\n      <td>1</td>\n      <td>5.0</td>\n      <td>13.0</td>\n      <td>10.0</td>\n      <td>14.0</td>\n      <td>0.0</td>\n      <td>0.0</td>\n      <td>5.0</td>\n      <td>1.0</td>\n      <td>3.0</td>\n      <td>...</td>\n      <td>3.900000</td>\n      <td>4.076923</td>\n      <td>3.700000</td>\n      <td>4.035714</td>\n      <td>0.0</td>\n      <td>0.0</td>\n      <td>3.900</td>\n      <td>5.0</td>\n      <td>4.333333</td>\n      <td>4.090909</td>\n    </tr>\n    <tr>\n      <th>1</th>\n      <td>2</td>\n      <td>18.0</td>\n      <td>16.0</td>\n      <td>7.0</td>\n      <td>15.0</td>\n      <td>0.0</td>\n      <td>0.0</td>\n      <td>1.0</td>\n      <td>2.0</td>\n      <td>25.0</td>\n      <td>...</td>\n      <td>3.555556</td>\n      <td>3.937500</td>\n      <td>2.571429</td>\n      <td>3.533333</td>\n      <td>0.0</td>\n      <td>0.0</td>\n      <td>3.000</td>\n      <td>3.5</td>\n      <td>3.440000</td>\n      <td>3.857143</td>\n    </tr>\n    <tr>\n      <th>2</th>\n      <td>3</td>\n      <td>3.0</td>\n      <td>3.0</td>\n      <td>2.0</td>\n      <td>0.0</td>\n      <td>0.0</td>\n      <td>0.0</td>\n      <td>3.0</td>\n      <td>1.0</td>\n      <td>7.0</td>\n      <td>...</td>\n      <td>5.000000</td>\n      <td>5.000000</td>\n      <td>4.000000</td>\n      <td>0.000000</td>\n      <td>0.0</td>\n      <td>0.0</td>\n      <td>5.000</td>\n      <td>5.0</td>\n      <td>4.857143</td>\n      <td>5.000000</td>\n    </tr>\n    <tr>\n      <th>3</th>\n      <td>4</td>\n      <td>1.0</td>\n      <td>5.0</td>\n      <td>3.0</td>\n      <td>5.0</td>\n      <td>0.0</td>\n      <td>0.0</td>\n      <td>4.0</td>\n      <td>0.0</td>\n      <td>5.0</td>\n      <td>...</td>\n      <td>4.000000</td>\n      <td>4.100000</td>\n      <td>4.333333</td>\n      <td>4.600000</td>\n      <td>0.0</td>\n      <td>0.0</td>\n      <td>4.625</td>\n      <td>0.0</td>\n      <td>4.100000</td>\n      <td>4.500000</td>\n    </tr>\n    <tr>\n      <th>4</th>\n      <td>5</td>\n      <td>6.0</td>\n      <td>16.0</td>\n      <td>1.0</td>\n      <td>4.0</td>\n      <td>1.0</td>\n      <td>0.0</td>\n      <td>1.0</td>\n      <td>3.0</td>\n      <td>10.0</td>\n      <td>...</td>\n      <td>2.333333</td>\n      <td>3.812500</td>\n      <td>5.000000</td>\n      <td>3.750000</td>\n      <td>4.0</td>\n      <td>0.0</td>\n      <td>3.000</td>\n      <td>3.0</td>\n      <td>3.300000</td>\n      <td>3.000000</td>\n    </tr>\n  </tbody>\n</table>\n<p>5 rows × 31 columns</p>\n</div>"
     },
     "execution_count": 8,
     "metadata": {},
     "output_type": "execute_result"
    }
   ],
   "source": [
    "users_df.head()"
   ],
   "metadata": {
    "collapsed": false,
    "ExecuteTime": {
     "end_time": "2024-05-28T15:47:40.388440700Z",
     "start_time": "2024-05-28T15:47:40.357177800Z"
    }
   },
   "id": "5f182f7d790d454f"
  },
  {
   "cell_type": "code",
   "execution_count": 9,
   "outputs": [],
   "source": [
    "# Identify the columns to standardize\n",
    "columns_to_standardize = [col for col in users_df.columns if 'Cluster_' in col]\n",
    "\n",
    "# Apply the scaler to these columns\n",
    "users_df[columns_to_standardize] = StandardScaler().fit_transform(users_df[columns_to_standardize])"
   ],
   "metadata": {
    "collapsed": false,
    "ExecuteTime": {
     "end_time": "2024-05-28T15:47:40.584195500Z",
     "start_time": "2024-05-28T15:47:40.357177800Z"
    }
   },
   "id": "5f0ded8358c8de41"
  },
  {
   "cell_type": "code",
   "execution_count": 10,
   "outputs": [
    {
     "data": {
      "text/plain": "   userId  Cluster_count_0  Cluster_count_1  Cluster_count_2  Cluster_count_3  \\\n0       1        -0.286357        -0.153080        -0.140020         0.173657   \n1       2         0.009511        -0.101292        -0.239875         0.216273   \n2       3        -0.331876        -0.325708        -0.406301        -0.422965   \n3       4        -0.377394        -0.291182        -0.373016        -0.209886   \n4       5        -0.263598        -0.101292        -0.439587        -0.252501   \n\n   Cluster_count_4  Cluster_count_5  Cluster_count_6  Cluster_count_7  \\\n0        -0.129211        -0.042162        -0.006330        -0.217978   \n1        -0.129211        -0.042162        -0.330334        -0.171019   \n2        -0.129211        -0.042162        -0.168332        -0.217978   \n3        -0.129211        -0.042162        -0.087331        -0.264937   \n4        -0.026640        -0.042162        -0.330334        -0.124061   \n\n   Cluster_count_8  ...  Cluster_mean_0  Cluster_mean_1  Cluster_mean_2  \\\n0        -0.377171  ...        0.671055        0.414833        0.478134   \n1         0.164861  ...        0.425450        0.300179       -0.278373   \n2        -0.278620  ...        1.455407        1.173920        0.679231   \n3        -0.327895  ...        0.742360        0.433810        0.902672   \n4        -0.204706  ...       -0.446051        0.197386        1.349553   \n\n   Cluster_mean_3  Cluster_mean_4  Cluster_mean_5  Cluster_mean_6  \\\n0        0.618124       -0.536168       -0.225102        0.815800   \n1        0.310484       -0.536168       -0.225102        0.343206   \n2       -1.853203       -0.536168       -0.225102        1.393415   \n3        0.963672       -0.536168       -0.225102        1.196501   \n4        0.443162        1.854018       -0.225102        0.343206   \n\n   Cluster_mean_7  Cluster_mean_8  Cluster_mean_9  \n0        1.490465        0.775354        0.892812  \n1        0.674810        0.131259        0.756896  \n2        1.490465        1.153021        1.421376  \n3       -1.228384        0.607120        1.130666  \n4        0.402925        0.030319        0.258536  \n\n[5 rows x 31 columns]",
      "text/html": "<div>\n<style scoped>\n    .dataframe tbody tr th:only-of-type {\n        vertical-align: middle;\n    }\n\n    .dataframe tbody tr th {\n        vertical-align: top;\n    }\n\n    .dataframe thead th {\n        text-align: right;\n    }\n</style>\n<table border=\"1\" class=\"dataframe\">\n  <thead>\n    <tr style=\"text-align: right;\">\n      <th></th>\n      <th>userId</th>\n      <th>Cluster_count_0</th>\n      <th>Cluster_count_1</th>\n      <th>Cluster_count_2</th>\n      <th>Cluster_count_3</th>\n      <th>Cluster_count_4</th>\n      <th>Cluster_count_5</th>\n      <th>Cluster_count_6</th>\n      <th>Cluster_count_7</th>\n      <th>Cluster_count_8</th>\n      <th>...</th>\n      <th>Cluster_mean_0</th>\n      <th>Cluster_mean_1</th>\n      <th>Cluster_mean_2</th>\n      <th>Cluster_mean_3</th>\n      <th>Cluster_mean_4</th>\n      <th>Cluster_mean_5</th>\n      <th>Cluster_mean_6</th>\n      <th>Cluster_mean_7</th>\n      <th>Cluster_mean_8</th>\n      <th>Cluster_mean_9</th>\n    </tr>\n  </thead>\n  <tbody>\n    <tr>\n      <th>0</th>\n      <td>1</td>\n      <td>-0.286357</td>\n      <td>-0.153080</td>\n      <td>-0.140020</td>\n      <td>0.173657</td>\n      <td>-0.129211</td>\n      <td>-0.042162</td>\n      <td>-0.006330</td>\n      <td>-0.217978</td>\n      <td>-0.377171</td>\n      <td>...</td>\n      <td>0.671055</td>\n      <td>0.414833</td>\n      <td>0.478134</td>\n      <td>0.618124</td>\n      <td>-0.536168</td>\n      <td>-0.225102</td>\n      <td>0.815800</td>\n      <td>1.490465</td>\n      <td>0.775354</td>\n      <td>0.892812</td>\n    </tr>\n    <tr>\n      <th>1</th>\n      <td>2</td>\n      <td>0.009511</td>\n      <td>-0.101292</td>\n      <td>-0.239875</td>\n      <td>0.216273</td>\n      <td>-0.129211</td>\n      <td>-0.042162</td>\n      <td>-0.330334</td>\n      <td>-0.171019</td>\n      <td>0.164861</td>\n      <td>...</td>\n      <td>0.425450</td>\n      <td>0.300179</td>\n      <td>-0.278373</td>\n      <td>0.310484</td>\n      <td>-0.536168</td>\n      <td>-0.225102</td>\n      <td>0.343206</td>\n      <td>0.674810</td>\n      <td>0.131259</td>\n      <td>0.756896</td>\n    </tr>\n    <tr>\n      <th>2</th>\n      <td>3</td>\n      <td>-0.331876</td>\n      <td>-0.325708</td>\n      <td>-0.406301</td>\n      <td>-0.422965</td>\n      <td>-0.129211</td>\n      <td>-0.042162</td>\n      <td>-0.168332</td>\n      <td>-0.217978</td>\n      <td>-0.278620</td>\n      <td>...</td>\n      <td>1.455407</td>\n      <td>1.173920</td>\n      <td>0.679231</td>\n      <td>-1.853203</td>\n      <td>-0.536168</td>\n      <td>-0.225102</td>\n      <td>1.393415</td>\n      <td>1.490465</td>\n      <td>1.153021</td>\n      <td>1.421376</td>\n    </tr>\n    <tr>\n      <th>3</th>\n      <td>4</td>\n      <td>-0.377394</td>\n      <td>-0.291182</td>\n      <td>-0.373016</td>\n      <td>-0.209886</td>\n      <td>-0.129211</td>\n      <td>-0.042162</td>\n      <td>-0.087331</td>\n      <td>-0.264937</td>\n      <td>-0.327895</td>\n      <td>...</td>\n      <td>0.742360</td>\n      <td>0.433810</td>\n      <td>0.902672</td>\n      <td>0.963672</td>\n      <td>-0.536168</td>\n      <td>-0.225102</td>\n      <td>1.196501</td>\n      <td>-1.228384</td>\n      <td>0.607120</td>\n      <td>1.130666</td>\n    </tr>\n    <tr>\n      <th>4</th>\n      <td>5</td>\n      <td>-0.263598</td>\n      <td>-0.101292</td>\n      <td>-0.439587</td>\n      <td>-0.252501</td>\n      <td>-0.026640</td>\n      <td>-0.042162</td>\n      <td>-0.330334</td>\n      <td>-0.124061</td>\n      <td>-0.204706</td>\n      <td>...</td>\n      <td>-0.446051</td>\n      <td>0.197386</td>\n      <td>1.349553</td>\n      <td>0.443162</td>\n      <td>1.854018</td>\n      <td>-0.225102</td>\n      <td>0.343206</td>\n      <td>0.402925</td>\n      <td>0.030319</td>\n      <td>0.258536</td>\n    </tr>\n  </tbody>\n</table>\n<p>5 rows × 31 columns</p>\n</div>"
     },
     "execution_count": 10,
     "metadata": {},
     "output_type": "execute_result"
    }
   ],
   "source": [
    "users_df.head()"
   ],
   "metadata": {
    "collapsed": false,
    "ExecuteTime": {
     "end_time": "2024-05-28T15:47:40.640439Z",
     "start_time": "2024-05-28T15:47:40.584195500Z"
    }
   },
   "id": "e770d57b4cece753"
  },
  {
   "cell_type": "code",
   "execution_count": 11,
   "outputs": [
    {
     "name": "stderr",
     "output_type": "stream",
     "text": [
      "C:\\Users\\Василий\\AppData\\Roaming\\Python\\Python311\\site-packages\\sklearn\\cluster\\_kmeans.py:1416: FutureWarning: The default value of `n_init` will change from 10 to 'auto' in 1.4. Set the value of `n_init` explicitly to suppress the warning\n",
      "  super()._check_params_vs_input(X, default_n_init=10)\n"
     ]
    }
   ],
   "source": [
    "# # Group by 'userId' and calculate mean rating\n",
    "# mean_ratings = ratings_df.groupby('userId')['rating'].mean().reset_index()\n",
    "# \n",
    "# # Convert to DataFrame\n",
    "# mean_ratings_df = pd.DataFrame(mean_ratings)\n",
    "\n",
    "# Apply KMeans clustering\n",
    "kmeans = KMeans(n_clusters=n_user_clusters, random_state=42)\n",
    "users_df['User_cluster'] = kmeans.fit_predict(users_df[[col for col in users_df.columns if 'Cluster_mean' in col]])"
   ],
   "metadata": {
    "collapsed": false,
    "ExecuteTime": {
     "end_time": "2024-05-28T15:48:30.344144800Z",
     "start_time": "2024-05-28T15:47:40.609180400Z"
    }
   },
   "id": "e48611042f2f53c"
  },
  {
   "cell_type": "code",
   "execution_count": 12,
   "outputs": [
    {
     "data": {
      "text/plain": "   userId  Cluster_count_0  Cluster_count_1  Cluster_count_2  Cluster_count_3  \\\n0       1        -0.286357        -0.153080        -0.140020         0.173657   \n1       2         0.009511        -0.101292        -0.239875         0.216273   \n2       3        -0.331876        -0.325708        -0.406301        -0.422965   \n3       4        -0.377394        -0.291182        -0.373016        -0.209886   \n4       5        -0.263598        -0.101292        -0.439587        -0.252501   \n\n   Cluster_count_4  Cluster_count_5  Cluster_count_6  Cluster_count_7  \\\n0        -0.129211        -0.042162        -0.006330        -0.217978   \n1        -0.129211        -0.042162        -0.330334        -0.171019   \n2        -0.129211        -0.042162        -0.168332        -0.217978   \n3        -0.129211        -0.042162        -0.087331        -0.264937   \n4        -0.026640        -0.042162        -0.330334        -0.124061   \n\n   Cluster_count_8  ...  Cluster_mean_1  Cluster_mean_2  Cluster_mean_3  \\\n0        -0.377171  ...        0.414833        0.478134        0.618124   \n1         0.164861  ...        0.300179       -0.278373        0.310484   \n2        -0.278620  ...        1.173920        0.679231       -1.853203   \n3        -0.327895  ...        0.433810        0.902672        0.963672   \n4        -0.204706  ...        0.197386        1.349553        0.443162   \n\n   Cluster_mean_4  Cluster_mean_5  Cluster_mean_6  Cluster_mean_7  \\\n0       -0.536168       -0.225102        0.815800        1.490465   \n1       -0.536168       -0.225102        0.343206        0.674810   \n2       -0.536168       -0.225102        1.393415        1.490465   \n3       -0.536168       -0.225102        1.196501       -1.228384   \n4        1.854018       -0.225102        0.343206        0.402925   \n\n   Cluster_mean_8  Cluster_mean_9  User_cluster  \n0        0.775354        0.892812            34  \n1        0.131259        0.756896            13  \n2        1.153021        1.421376            56  \n3        0.607120        1.130666            46  \n4        0.030319        0.258536            83  \n\n[5 rows x 32 columns]",
      "text/html": "<div>\n<style scoped>\n    .dataframe tbody tr th:only-of-type {\n        vertical-align: middle;\n    }\n\n    .dataframe tbody tr th {\n        vertical-align: top;\n    }\n\n    .dataframe thead th {\n        text-align: right;\n    }\n</style>\n<table border=\"1\" class=\"dataframe\">\n  <thead>\n    <tr style=\"text-align: right;\">\n      <th></th>\n      <th>userId</th>\n      <th>Cluster_count_0</th>\n      <th>Cluster_count_1</th>\n      <th>Cluster_count_2</th>\n      <th>Cluster_count_3</th>\n      <th>Cluster_count_4</th>\n      <th>Cluster_count_5</th>\n      <th>Cluster_count_6</th>\n      <th>Cluster_count_7</th>\n      <th>Cluster_count_8</th>\n      <th>...</th>\n      <th>Cluster_mean_1</th>\n      <th>Cluster_mean_2</th>\n      <th>Cluster_mean_3</th>\n      <th>Cluster_mean_4</th>\n      <th>Cluster_mean_5</th>\n      <th>Cluster_mean_6</th>\n      <th>Cluster_mean_7</th>\n      <th>Cluster_mean_8</th>\n      <th>Cluster_mean_9</th>\n      <th>User_cluster</th>\n    </tr>\n  </thead>\n  <tbody>\n    <tr>\n      <th>0</th>\n      <td>1</td>\n      <td>-0.286357</td>\n      <td>-0.153080</td>\n      <td>-0.140020</td>\n      <td>0.173657</td>\n      <td>-0.129211</td>\n      <td>-0.042162</td>\n      <td>-0.006330</td>\n      <td>-0.217978</td>\n      <td>-0.377171</td>\n      <td>...</td>\n      <td>0.414833</td>\n      <td>0.478134</td>\n      <td>0.618124</td>\n      <td>-0.536168</td>\n      <td>-0.225102</td>\n      <td>0.815800</td>\n      <td>1.490465</td>\n      <td>0.775354</td>\n      <td>0.892812</td>\n      <td>34</td>\n    </tr>\n    <tr>\n      <th>1</th>\n      <td>2</td>\n      <td>0.009511</td>\n      <td>-0.101292</td>\n      <td>-0.239875</td>\n      <td>0.216273</td>\n      <td>-0.129211</td>\n      <td>-0.042162</td>\n      <td>-0.330334</td>\n      <td>-0.171019</td>\n      <td>0.164861</td>\n      <td>...</td>\n      <td>0.300179</td>\n      <td>-0.278373</td>\n      <td>0.310484</td>\n      <td>-0.536168</td>\n      <td>-0.225102</td>\n      <td>0.343206</td>\n      <td>0.674810</td>\n      <td>0.131259</td>\n      <td>0.756896</td>\n      <td>13</td>\n    </tr>\n    <tr>\n      <th>2</th>\n      <td>3</td>\n      <td>-0.331876</td>\n      <td>-0.325708</td>\n      <td>-0.406301</td>\n      <td>-0.422965</td>\n      <td>-0.129211</td>\n      <td>-0.042162</td>\n      <td>-0.168332</td>\n      <td>-0.217978</td>\n      <td>-0.278620</td>\n      <td>...</td>\n      <td>1.173920</td>\n      <td>0.679231</td>\n      <td>-1.853203</td>\n      <td>-0.536168</td>\n      <td>-0.225102</td>\n      <td>1.393415</td>\n      <td>1.490465</td>\n      <td>1.153021</td>\n      <td>1.421376</td>\n      <td>56</td>\n    </tr>\n    <tr>\n      <th>3</th>\n      <td>4</td>\n      <td>-0.377394</td>\n      <td>-0.291182</td>\n      <td>-0.373016</td>\n      <td>-0.209886</td>\n      <td>-0.129211</td>\n      <td>-0.042162</td>\n      <td>-0.087331</td>\n      <td>-0.264937</td>\n      <td>-0.327895</td>\n      <td>...</td>\n      <td>0.433810</td>\n      <td>0.902672</td>\n      <td>0.963672</td>\n      <td>-0.536168</td>\n      <td>-0.225102</td>\n      <td>1.196501</td>\n      <td>-1.228384</td>\n      <td>0.607120</td>\n      <td>1.130666</td>\n      <td>46</td>\n    </tr>\n    <tr>\n      <th>4</th>\n      <td>5</td>\n      <td>-0.263598</td>\n      <td>-0.101292</td>\n      <td>-0.439587</td>\n      <td>-0.252501</td>\n      <td>-0.026640</td>\n      <td>-0.042162</td>\n      <td>-0.330334</td>\n      <td>-0.124061</td>\n      <td>-0.204706</td>\n      <td>...</td>\n      <td>0.197386</td>\n      <td>1.349553</td>\n      <td>0.443162</td>\n      <td>1.854018</td>\n      <td>-0.225102</td>\n      <td>0.343206</td>\n      <td>0.402925</td>\n      <td>0.030319</td>\n      <td>0.258536</td>\n      <td>83</td>\n    </tr>\n  </tbody>\n</table>\n<p>5 rows × 32 columns</p>\n</div>"
     },
     "execution_count": 12,
     "metadata": {},
     "output_type": "execute_result"
    }
   ],
   "source": [
    "users_df.head()\n",
    "# users_df[\"User_cluster\"].unique()"
   ],
   "metadata": {
    "collapsed": false,
    "ExecuteTime": {
     "end_time": "2024-05-28T15:48:30.365612100Z",
     "start_time": "2024-05-28T15:48:30.344144800Z"
    }
   },
   "id": "549cb3dc9ddcda9b"
  },
  {
   "cell_type": "code",
   "execution_count": 13,
   "outputs": [],
   "source": [
    "# clustering_corr = {}\n",
    "# \n",
    "# for user in range(n_user_clusters):\n",
    "#     user_idx = mean_ratings_df[mean_ratings_df[\"Cluster\"] == user][\"userId\"]\n",
    "#     for movie in range(n_movie_clusters):\n",
    "#         movie_idx = movies_hot_df[movies_hot_df[\"Cluster\"] == movie].index\n",
    "#         summ = 0\n",
    "#         count = 0\n",
    "#         for index, c in ratings_df.iterrows():\n",
    "#             if c[\"userId\"] in user_idx and c[\"movieId\"] in movie_idx:\n",
    "#                 summ += c[\"rating\"]\n",
    "#                 count += 1\n",
    "#         avg = summ / count\n",
    "#         clustering_corr[f\"{user} {movie}\"] = avg"
   ],
   "metadata": {
    "collapsed": false,
    "ExecuteTime": {
     "end_time": "2024-05-28T15:48:30.371547700Z",
     "start_time": "2024-05-28T15:48:30.371547700Z"
    }
   },
   "id": "eb149dafb00859bc"
  },
  {
   "cell_type": "code",
   "execution_count": 14,
   "outputs": [
    {
     "data": {
      "text/plain": "   userId  movieId  rating   timestamp  User_cluster\n0       1        1     4.0  1225734739            34\n1       1      110     4.0  1225865086            34\n2       1      158     4.0  1225733503            34\n3       1      260     4.5  1225735204            34\n4       1      356     5.0  1225735119            34",
      "text/html": "<div>\n<style scoped>\n    .dataframe tbody tr th:only-of-type {\n        vertical-align: middle;\n    }\n\n    .dataframe tbody tr th {\n        vertical-align: top;\n    }\n\n    .dataframe thead th {\n        text-align: right;\n    }\n</style>\n<table border=\"1\" class=\"dataframe\">\n  <thead>\n    <tr style=\"text-align: right;\">\n      <th></th>\n      <th>userId</th>\n      <th>movieId</th>\n      <th>rating</th>\n      <th>timestamp</th>\n      <th>User_cluster</th>\n    </tr>\n  </thead>\n  <tbody>\n    <tr>\n      <th>0</th>\n      <td>1</td>\n      <td>1</td>\n      <td>4.0</td>\n      <td>1225734739</td>\n      <td>34</td>\n    </tr>\n    <tr>\n      <th>1</th>\n      <td>1</td>\n      <td>110</td>\n      <td>4.0</td>\n      <td>1225865086</td>\n      <td>34</td>\n    </tr>\n    <tr>\n      <th>2</th>\n      <td>1</td>\n      <td>158</td>\n      <td>4.0</td>\n      <td>1225733503</td>\n      <td>34</td>\n    </tr>\n    <tr>\n      <th>3</th>\n      <td>1</td>\n      <td>260</td>\n      <td>4.5</td>\n      <td>1225735204</td>\n      <td>34</td>\n    </tr>\n    <tr>\n      <th>4</th>\n      <td>1</td>\n      <td>356</td>\n      <td>5.0</td>\n      <td>1225735119</td>\n      <td>34</td>\n    </tr>\n  </tbody>\n</table>\n</div>"
     },
     "execution_count": 14,
     "metadata": {},
     "output_type": "execute_result"
    }
   ],
   "source": [
    "ratings_clustered_df = ratings_df.merge(users_df[['userId', 'User_cluster']], on='userId')\n",
    "ratings_clustered_df.head()"
   ],
   "metadata": {
    "collapsed": false,
    "ExecuteTime": {
     "end_time": "2024-05-28T15:48:33.398415200Z",
     "start_time": "2024-05-28T15:48:30.371547700Z"
    }
   },
   "id": "d4bfc174b0d067c"
  },
  {
   "cell_type": "code",
   "execution_count": 15,
   "outputs": [
    {
     "data": {
      "text/plain": "     userId  movieId  rating   timestamp  User_cluster  Cluster\n0         1        1     4.0  1225734739            34        9\n62        2        1     5.0   835815971            13        9\n304       7        1     4.0   974518024            37        9\n653      10        1     3.0  1430666394            13        9\n852      12        1     5.0   862500738            13        9",
      "text/html": "<div>\n<style scoped>\n    .dataframe tbody tr th:only-of-type {\n        vertical-align: middle;\n    }\n\n    .dataframe tbody tr th {\n        vertical-align: top;\n    }\n\n    .dataframe thead th {\n        text-align: right;\n    }\n</style>\n<table border=\"1\" class=\"dataframe\">\n  <thead>\n    <tr style=\"text-align: right;\">\n      <th></th>\n      <th>userId</th>\n      <th>movieId</th>\n      <th>rating</th>\n      <th>timestamp</th>\n      <th>User_cluster</th>\n      <th>Cluster</th>\n    </tr>\n  </thead>\n  <tbody>\n    <tr>\n      <th>0</th>\n      <td>1</td>\n      <td>1</td>\n      <td>4.0</td>\n      <td>1225734739</td>\n      <td>34</td>\n      <td>9</td>\n    </tr>\n    <tr>\n      <th>62</th>\n      <td>2</td>\n      <td>1</td>\n      <td>5.0</td>\n      <td>835815971</td>\n      <td>13</td>\n      <td>9</td>\n    </tr>\n    <tr>\n      <th>304</th>\n      <td>7</td>\n      <td>1</td>\n      <td>4.0</td>\n      <td>974518024</td>\n      <td>37</td>\n      <td>9</td>\n    </tr>\n    <tr>\n      <th>653</th>\n      <td>10</td>\n      <td>1</td>\n      <td>3.0</td>\n      <td>1430666394</td>\n      <td>13</td>\n      <td>9</td>\n    </tr>\n    <tr>\n      <th>852</th>\n      <td>12</td>\n      <td>1</td>\n      <td>5.0</td>\n      <td>862500738</td>\n      <td>13</td>\n      <td>9</td>\n    </tr>\n  </tbody>\n</table>\n</div>"
     },
     "execution_count": 15,
     "metadata": {},
     "output_type": "execute_result"
    }
   ],
   "source": [
    "ratings_clustered_df = ratings_clustered_df.merge(movies_hot_df[['Cluster']], left_on='movieId', right_index=True)\n",
    "ratings_clustered_df.head()"
   ],
   "metadata": {
    "collapsed": false,
    "ExecuteTime": {
     "end_time": "2024-05-28T15:48:42.016914400Z",
     "start_time": "2024-05-28T15:48:33.398415200Z"
    }
   },
   "id": "180ac825bc07efd8"
  },
  {
   "cell_type": "code",
   "execution_count": 16,
   "outputs": [
    {
     "name": "stdout",
     "output_type": "stream",
     "text": [
      "Cluster              0         1         2         3         4         5  \\\n",
      "User_cluster                                                               \n",
      "0             1.908994  1.013889  1.181004  2.114458  2.983871  1.500000   \n",
      "1             2.976624  3.355277  3.089355  3.236632  1.076948  1.345771   \n",
      "2             2.921900  3.357917  2.953490  3.391512  1.930894  0.916667   \n",
      "3             3.457699  3.748533  3.565713  3.658491  3.106333  0.949153   \n",
      "4             3.624202  3.972495  3.681002  3.862351  4.102640  4.114321   \n",
      "...                ...       ...       ...       ...       ...       ...   \n",
      "95            1.095779  4.097272  1.229870  4.053547  3.691781  0.833333   \n",
      "96            3.574961  3.848537  1.468954  1.502008  3.500000  2.333333   \n",
      "97            1.149371  4.063496  1.092885  3.998614  3.632353  0.000000   \n",
      "98            1.030618  1.008132  1.023702  1.029768  3.129496  1.120000   \n",
      "99            3.021562  3.331387  3.103715  3.325437  1.161209  1.322917   \n",
      "\n",
      "Cluster              6         7         8         9  \n",
      "User_cluster                                          \n",
      "0             2.991489  2.110215  1.281977  4.017146  \n",
      "1             3.193491  3.003534  3.236281  3.027954  \n",
      "2             1.887383  1.892651  3.156322  1.073733  \n",
      "3             3.695485  3.471958  3.666665  3.516988  \n",
      "4             3.776803  3.673739  3.841228  3.697689  \n",
      "...                ...       ...       ...       ...  \n",
      "95            3.375200  1.221264  3.961398  3.034018  \n",
      "96            3.167112  3.087278  1.456294  1.445238  \n",
      "97            3.183529  3.904847  3.929984  3.012727  \n",
      "98            2.754671  0.797330  0.965919  0.964135  \n",
      "99            3.310688  1.108400  3.216804  3.134758  \n",
      "\n",
      "[100 rows x 10 columns]\n"
     ]
    }
   ],
   "source": [
    "clustering_corr = ratings_clustered_df.groupby(['User_cluster', 'Cluster'])['rating'].mean().unstack(fill_value=0)\n",
    "\n",
    "print(clustering_corr)"
   ],
   "metadata": {
    "collapsed": false,
    "ExecuteTime": {
     "end_time": "2024-05-28T15:48:44.200437100Z",
     "start_time": "2024-05-28T15:48:42.016914400Z"
    }
   },
   "id": "3774918f9b61e8b0"
  },
  {
   "cell_type": "code",
   "execution_count": 17,
   "outputs": [
    {
     "data": {
      "text/plain": "1.9089935760171306"
     },
     "execution_count": 17,
     "metadata": {},
     "output_type": "execute_result"
    }
   ],
   "source": [
    "clustering_corr[0][0]"
   ],
   "metadata": {
    "collapsed": false,
    "ExecuteTime": {
     "end_time": "2024-05-28T15:48:44.211396800Z",
     "start_time": "2024-05-28T15:48:44.200437100Z"
    }
   },
   "id": "d1ee716002ffab15"
  },
  {
   "cell_type": "code",
   "execution_count": 18,
   "outputs": [
    {
     "data": {
      "text/plain": "                                                     title  \\\nmovieId                                                      \n1                                         Toy Story (1995)   \n2                                           Jumanji (1995)   \n3                                  Grumpier Old Men (1995)   \n4                                 Waiting to Exhale (1995)   \n5                       Father of the Bride Part II (1995)   \n...                                                    ...   \n288967                State of Siege: Temple Attack (2021)   \n288971                                  Ouija Japan (2021)   \n288975    The Men Who Made the Movies: Howard Hawks (1973)   \n288977                     Skinford: Death Sentence (2023)   \n288983   UNZIPPED: An Autopsy of American Inequality (2...   \n\n         (no genres listed)  Action  Adventure  Animation  Children  Comedy  \\\nmovieId                                                                       \n1                       0.0     0.0        1.0        0.0       1.0     0.0   \n2                       0.0     0.0        0.0        0.0       0.0     1.0   \n3                       0.0     0.0        0.0        0.0       0.0     1.0   \n4                       0.0     0.0        0.0        0.0       0.0     1.0   \n5                       0.0     1.0        0.0        0.0       0.0     0.0   \n...                     ...     ...        ...        ...       ...     ...   \n288967                  NaN     NaN        NaN        NaN       NaN     NaN   \n288971                  NaN     NaN        NaN        NaN       NaN     NaN   \n288975                  NaN     NaN        NaN        NaN       NaN     NaN   \n288977                  NaN     NaN        NaN        NaN       NaN     NaN   \n288983                  NaN     NaN        NaN        NaN       NaN     NaN   \n\n         Crime  Documentary  Drama  ...  Horror  IMAX  Musical  Mystery  \\\nmovieId                             ...                                   \n1          0.0          0.0    0.0  ...     0.0   0.0      0.0      0.0   \n2          0.0          0.0    0.0  ...     0.0   0.0      0.0      0.0   \n3          0.0          0.0    1.0  ...     0.0   0.0      0.0      0.0   \n4          0.0          0.0    0.0  ...     0.0   0.0      0.0      0.0   \n5          1.0          0.0    0.0  ...     0.0   0.0      0.0      0.0   \n...        ...          ...    ...  ...     ...   ...      ...      ...   \n288967     NaN          NaN    NaN  ...     NaN   NaN      NaN      NaN   \n288971     NaN          NaN    NaN  ...     NaN   NaN      NaN      NaN   \n288975     NaN          NaN    NaN  ...     NaN   NaN      NaN      NaN   \n288977     NaN          NaN    NaN  ...     NaN   NaN      NaN      NaN   \n288983     NaN          NaN    NaN  ...     NaN   NaN      NaN      NaN   \n\n         Romance  Sci-Fi  Thriller  War  Western  Cluster  \nmovieId                                                    \n1            0.0     0.0       0.0  0.0      0.0        9  \n2            1.0     0.0       0.0  0.0      0.0        9  \n3            1.0     0.0       0.0  0.0      0.0        0  \n4            0.0     0.0       0.0  0.0      0.0        3  \n5            0.0     0.0       1.0  0.0      0.0        0  \n...          ...     ...       ...  ...      ...      ...  \n288967       NaN     NaN       NaN  NaN      NaN        1  \n288971       NaN     NaN       NaN  NaN      NaN        7  \n288975       NaN     NaN       NaN  NaN      NaN        4  \n288977       NaN     NaN       NaN  NaN      NaN        8  \n288983       NaN     NaN       NaN  NaN      NaN        4  \n\n[86537 rows x 22 columns]",
      "text/html": "<div>\n<style scoped>\n    .dataframe tbody tr th:only-of-type {\n        vertical-align: middle;\n    }\n\n    .dataframe tbody tr th {\n        vertical-align: top;\n    }\n\n    .dataframe thead th {\n        text-align: right;\n    }\n</style>\n<table border=\"1\" class=\"dataframe\">\n  <thead>\n    <tr style=\"text-align: right;\">\n      <th></th>\n      <th>title</th>\n      <th>(no genres listed)</th>\n      <th>Action</th>\n      <th>Adventure</th>\n      <th>Animation</th>\n      <th>Children</th>\n      <th>Comedy</th>\n      <th>Crime</th>\n      <th>Documentary</th>\n      <th>Drama</th>\n      <th>...</th>\n      <th>Horror</th>\n      <th>IMAX</th>\n      <th>Musical</th>\n      <th>Mystery</th>\n      <th>Romance</th>\n      <th>Sci-Fi</th>\n      <th>Thriller</th>\n      <th>War</th>\n      <th>Western</th>\n      <th>Cluster</th>\n    </tr>\n    <tr>\n      <th>movieId</th>\n      <th></th>\n      <th></th>\n      <th></th>\n      <th></th>\n      <th></th>\n      <th></th>\n      <th></th>\n      <th></th>\n      <th></th>\n      <th></th>\n      <th></th>\n      <th></th>\n      <th></th>\n      <th></th>\n      <th></th>\n      <th></th>\n      <th></th>\n      <th></th>\n      <th></th>\n      <th></th>\n      <th></th>\n    </tr>\n  </thead>\n  <tbody>\n    <tr>\n      <th>1</th>\n      <td>Toy Story (1995)</td>\n      <td>0.0</td>\n      <td>0.0</td>\n      <td>1.0</td>\n      <td>0.0</td>\n      <td>1.0</td>\n      <td>0.0</td>\n      <td>0.0</td>\n      <td>0.0</td>\n      <td>0.0</td>\n      <td>...</td>\n      <td>0.0</td>\n      <td>0.0</td>\n      <td>0.0</td>\n      <td>0.0</td>\n      <td>0.0</td>\n      <td>0.0</td>\n      <td>0.0</td>\n      <td>0.0</td>\n      <td>0.0</td>\n      <td>9</td>\n    </tr>\n    <tr>\n      <th>2</th>\n      <td>Jumanji (1995)</td>\n      <td>0.0</td>\n      <td>0.0</td>\n      <td>0.0</td>\n      <td>0.0</td>\n      <td>0.0</td>\n      <td>1.0</td>\n      <td>0.0</td>\n      <td>0.0</td>\n      <td>0.0</td>\n      <td>...</td>\n      <td>0.0</td>\n      <td>0.0</td>\n      <td>0.0</td>\n      <td>0.0</td>\n      <td>1.0</td>\n      <td>0.0</td>\n      <td>0.0</td>\n      <td>0.0</td>\n      <td>0.0</td>\n      <td>9</td>\n    </tr>\n    <tr>\n      <th>3</th>\n      <td>Grumpier Old Men (1995)</td>\n      <td>0.0</td>\n      <td>0.0</td>\n      <td>0.0</td>\n      <td>0.0</td>\n      <td>0.0</td>\n      <td>1.0</td>\n      <td>0.0</td>\n      <td>0.0</td>\n      <td>1.0</td>\n      <td>...</td>\n      <td>0.0</td>\n      <td>0.0</td>\n      <td>0.0</td>\n      <td>0.0</td>\n      <td>1.0</td>\n      <td>0.0</td>\n      <td>0.0</td>\n      <td>0.0</td>\n      <td>0.0</td>\n      <td>0</td>\n    </tr>\n    <tr>\n      <th>4</th>\n      <td>Waiting to Exhale (1995)</td>\n      <td>0.0</td>\n      <td>0.0</td>\n      <td>0.0</td>\n      <td>0.0</td>\n      <td>0.0</td>\n      <td>1.0</td>\n      <td>0.0</td>\n      <td>0.0</td>\n      <td>0.0</td>\n      <td>...</td>\n      <td>0.0</td>\n      <td>0.0</td>\n      <td>0.0</td>\n      <td>0.0</td>\n      <td>0.0</td>\n      <td>0.0</td>\n      <td>0.0</td>\n      <td>0.0</td>\n      <td>0.0</td>\n      <td>3</td>\n    </tr>\n    <tr>\n      <th>5</th>\n      <td>Father of the Bride Part II (1995)</td>\n      <td>0.0</td>\n      <td>1.0</td>\n      <td>0.0</td>\n      <td>0.0</td>\n      <td>0.0</td>\n      <td>0.0</td>\n      <td>1.0</td>\n      <td>0.0</td>\n      <td>0.0</td>\n      <td>...</td>\n      <td>0.0</td>\n      <td>0.0</td>\n      <td>0.0</td>\n      <td>0.0</td>\n      <td>0.0</td>\n      <td>0.0</td>\n      <td>1.0</td>\n      <td>0.0</td>\n      <td>0.0</td>\n      <td>0</td>\n    </tr>\n    <tr>\n      <th>...</th>\n      <td>...</td>\n      <td>...</td>\n      <td>...</td>\n      <td>...</td>\n      <td>...</td>\n      <td>...</td>\n      <td>...</td>\n      <td>...</td>\n      <td>...</td>\n      <td>...</td>\n      <td>...</td>\n      <td>...</td>\n      <td>...</td>\n      <td>...</td>\n      <td>...</td>\n      <td>...</td>\n      <td>...</td>\n      <td>...</td>\n      <td>...</td>\n      <td>...</td>\n      <td>...</td>\n    </tr>\n    <tr>\n      <th>288967</th>\n      <td>State of Siege: Temple Attack (2021)</td>\n      <td>NaN</td>\n      <td>NaN</td>\n      <td>NaN</td>\n      <td>NaN</td>\n      <td>NaN</td>\n      <td>NaN</td>\n      <td>NaN</td>\n      <td>NaN</td>\n      <td>NaN</td>\n      <td>...</td>\n      <td>NaN</td>\n      <td>NaN</td>\n      <td>NaN</td>\n      <td>NaN</td>\n      <td>NaN</td>\n      <td>NaN</td>\n      <td>NaN</td>\n      <td>NaN</td>\n      <td>NaN</td>\n      <td>1</td>\n    </tr>\n    <tr>\n      <th>288971</th>\n      <td>Ouija Japan (2021)</td>\n      <td>NaN</td>\n      <td>NaN</td>\n      <td>NaN</td>\n      <td>NaN</td>\n      <td>NaN</td>\n      <td>NaN</td>\n      <td>NaN</td>\n      <td>NaN</td>\n      <td>NaN</td>\n      <td>...</td>\n      <td>NaN</td>\n      <td>NaN</td>\n      <td>NaN</td>\n      <td>NaN</td>\n      <td>NaN</td>\n      <td>NaN</td>\n      <td>NaN</td>\n      <td>NaN</td>\n      <td>NaN</td>\n      <td>7</td>\n    </tr>\n    <tr>\n      <th>288975</th>\n      <td>The Men Who Made the Movies: Howard Hawks (1973)</td>\n      <td>NaN</td>\n      <td>NaN</td>\n      <td>NaN</td>\n      <td>NaN</td>\n      <td>NaN</td>\n      <td>NaN</td>\n      <td>NaN</td>\n      <td>NaN</td>\n      <td>NaN</td>\n      <td>...</td>\n      <td>NaN</td>\n      <td>NaN</td>\n      <td>NaN</td>\n      <td>NaN</td>\n      <td>NaN</td>\n      <td>NaN</td>\n      <td>NaN</td>\n      <td>NaN</td>\n      <td>NaN</td>\n      <td>4</td>\n    </tr>\n    <tr>\n      <th>288977</th>\n      <td>Skinford: Death Sentence (2023)</td>\n      <td>NaN</td>\n      <td>NaN</td>\n      <td>NaN</td>\n      <td>NaN</td>\n      <td>NaN</td>\n      <td>NaN</td>\n      <td>NaN</td>\n      <td>NaN</td>\n      <td>NaN</td>\n      <td>...</td>\n      <td>NaN</td>\n      <td>NaN</td>\n      <td>NaN</td>\n      <td>NaN</td>\n      <td>NaN</td>\n      <td>NaN</td>\n      <td>NaN</td>\n      <td>NaN</td>\n      <td>NaN</td>\n      <td>8</td>\n    </tr>\n    <tr>\n      <th>288983</th>\n      <td>UNZIPPED: An Autopsy of American Inequality (2...</td>\n      <td>NaN</td>\n      <td>NaN</td>\n      <td>NaN</td>\n      <td>NaN</td>\n      <td>NaN</td>\n      <td>NaN</td>\n      <td>NaN</td>\n      <td>NaN</td>\n      <td>NaN</td>\n      <td>...</td>\n      <td>NaN</td>\n      <td>NaN</td>\n      <td>NaN</td>\n      <td>NaN</td>\n      <td>NaN</td>\n      <td>NaN</td>\n      <td>NaN</td>\n      <td>NaN</td>\n      <td>NaN</td>\n      <td>4</td>\n    </tr>\n  </tbody>\n</table>\n<p>86537 rows × 22 columns</p>\n</div>"
     },
     "execution_count": 18,
     "metadata": {},
     "output_type": "execute_result"
    }
   ],
   "source": [
    "movies_hot_df"
   ],
   "metadata": {
    "collapsed": false,
    "ExecuteTime": {
     "end_time": "2024-05-28T15:48:44.319651500Z",
     "start_time": "2024-05-28T15:48:44.211396800Z"
    }
   },
   "id": "941f763f78e979a5"
  },
  {
   "cell_type": "code",
   "execution_count": 19,
   "outputs": [],
   "source": [
    "class ClusteringBasedEstimator(BaseEstimator):\n",
    "    def fit(self, X, y=None):\n",
    "        return self\n",
    "    \n",
    "    def predict(self, X):\n",
    "        return np.array([get_clustering_prediction(user, movie) for user, movie in X])\n",
    "    \n",
    "def get_clustering_prediction(user, movie):\n",
    "    return clustering_corr[int(movies_hot_df.loc[movie]['Cluster'])][int(users_df.loc[user]['User_cluster'])]"
   ],
   "metadata": {
    "collapsed": false,
    "ExecuteTime": {
     "end_time": "2024-05-28T15:48:44.337629600Z",
     "start_time": "2024-05-28T15:48:44.325558900Z"
    }
   },
   "id": "f04c90f4d2f2ed69"
  },
  {
   "cell_type": "code",
   "execution_count": 19,
   "outputs": [],
   "source": [],
   "metadata": {
    "collapsed": false,
    "ExecuteTime": {
     "end_time": "2024-05-28T15:48:44.337629600Z",
     "start_time": "2024-05-28T15:48:44.337121Z"
    }
   },
   "id": "158e0161aa21c2de"
  },
  {
   "cell_type": "code",
   "execution_count": 20,
   "outputs": [
    {
     "name": "stdout",
     "output_type": "stream",
     "text": [
      "Cross-validated MSE: 2.0163583311663547\n"
     ]
    }
   ],
   "source": [
    "n = 100_000\n",
    "\n",
    "mse_scorer = make_scorer(custom_scorer, greater_is_better=False)\n",
    "X = ratings_df[['userId', 'movieId']].values[:n]\n",
    "y = ratings_df['rating'].values[:n]\n",
    "estimator = ClusteringBasedEstimator()\n",
    "scores = cross_val_score(estimator, X, y, scoring=mse_scorer, cv=5)\n",
    "\n",
    "print(f\"Cross-validated MSE: {-scores.mean()}\")"
   ],
   "metadata": {
    "collapsed": false,
    "ExecuteTime": {
     "end_time": "2024-05-28T15:48:57.633325Z",
     "start_time": "2024-05-28T15:48:44.337629600Z"
    }
   },
   "id": "d4159148a79a51ca"
  },
  {
   "cell_type": "code",
   "execution_count": null,
   "outputs": [],
   "source": [],
   "metadata": {
    "collapsed": false
   },
   "id": "dd42ec2570201b53"
  },
  {
   "cell_type": "markdown",
   "source": [
    "# New solutions"
   ],
   "metadata": {
    "collapsed": false
   },
   "id": "7f5054e20e887"
  },
  {
   "cell_type": "code",
   "execution_count": 42,
   "outputs": [
    {
     "name": "stderr",
     "output_type": "stream",
     "text": [
      "C:\\Users\\Василий\\AppData\\Roaming\\Python\\Python311\\site-packages\\sklearn\\cluster\\_kmeans.py:1416: FutureWarning: The default value of `n_init` will change from 10 to 'auto' in 1.4. Set the value of `n_init` explicitly to suppress the warning\n",
      "  super()._check_params_vs_input(X, default_n_init=10)\n"
     ]
    }
   ],
   "source": [
    "n_movie_clusters = 10\n",
    "n_user_clusters = 100\n",
    "\n",
    "\n",
    "movies_df['Genres_Split'] = movies_df['genres'].apply(lambda x: x.split('|'))\n",
    "mlb = MultiLabelBinarizer()\n",
    "binary_matrix = mlb.fit_transform(movies_df['Genres_Split'])\n",
    "binary_df = pd.DataFrame(binary_matrix, columns=mlb.classes_)\n",
    "\n",
    "movies_hot_df = movies_df.join(binary_df)\n",
    "movies_hot_df = movies_hot_df.drop(['genres', 'Genres_Split'], axis=1)\n",
    "kmeans = KMeans(n_clusters=n_movie_clusters, random_state=42)\n",
    "movies_hot_df['Cluster'] = kmeans.fit_predict(binary_df)\n",
    "ratings_with_clusters = ratings_df.merge(movies_hot_df, left_on='movieId', right_index=True)\n",
    "\n",
    "user_cluster_stats = ratings_with_clusters.groupby(['userId', 'Cluster'])['rating'].agg(['count', 'sum']).reset_index()\n",
    "user_cluster_pivot = user_cluster_stats.pivot(index='userId', columns='Cluster', values=['count', 'sum']).fillna(0)\n",
    "user_cluster_pivot.columns = [f'Cluster_{stat}_{cluster}' for stat, cluster in user_cluster_pivot.columns]\n",
    "\n",
    "for cluster in range(n_movie_clusters):\n",
    "    count_col = f'Cluster_count_{cluster}'\n",
    "    sum_col = f'Cluster_sum_{cluster}'\n",
    "    mean_col = f'Cluster_mean_{cluster}'\n",
    "    if count_col in user_cluster_pivot.columns and sum_col in user_cluster_pivot.columns:\n",
    "        user_cluster_pivot[mean_col] = user_cluster_pivot[sum_col] / user_cluster_pivot[count_col]\n",
    "    else:\n",
    "        user_cluster_pivot[count_col] = 0\n",
    "        user_cluster_pivot[sum_col] = 0\n",
    "        user_cluster_pivot[mean_col] = 0\n",
    "\n",
    "user_cluster_pivot = user_cluster_pivot.fillna(0)\n",
    "users_df = user_cluster_pivot.reset_index()"
   ],
   "metadata": {
    "collapsed": false,
    "ExecuteTime": {
     "end_time": "2024-05-28T17:25:20.470627Z",
     "start_time": "2024-05-28T17:24:58.177703600Z"
    }
   },
   "id": "a34bf88ddee3f1fc"
  },
  {
   "cell_type": "code",
   "execution_count": 43,
   "outputs": [
    {
     "data": {
      "text/plain": "        Cluster_count_0  Cluster_count_1  Cluster_count_2  Cluster_count_3  \\\nuserId                                                                       \n1                   5.0             13.0             10.0             14.0   \n2                  18.0             16.0              7.0             15.0   \n3                   3.0              3.0              2.0              0.0   \n4                   1.0              5.0              3.0              5.0   \n5                   6.0             16.0              1.0              4.0   \n\n        Cluster_count_4  Cluster_count_5  Cluster_count_6  Cluster_count_7  \\\nuserId                                                                       \n1                   0.0              0.0              5.0              1.0   \n2                   0.0              0.0              1.0              2.0   \n3                   0.0              0.0              3.0              1.0   \n4                   0.0              0.0              4.0              0.0   \n5                   1.0              0.0              1.0              3.0   \n\n        Cluster_count_8  Cluster_count_9  ...  Cluster_mean_0  Cluster_mean_1  \\\nuserId                                    ...                                   \n1                   3.0             11.0  ...        3.900000        4.076923   \n2                  25.0              7.0  ...        3.555556        3.937500   \n3                   7.0             11.0  ...        5.000000        5.000000   \n4                   5.0              7.0  ...        4.000000        4.100000   \n5                  10.0              1.0  ...        2.333333        3.812500   \n\n        Cluster_mean_2  Cluster_mean_3  Cluster_mean_4  Cluster_mean_5  \\\nuserId                                                                   \n1             3.700000        4.035714             0.0             0.0   \n2             2.571429        3.533333             0.0             0.0   \n3             4.000000        0.000000             0.0             0.0   \n4             4.333333        4.600000             0.0             0.0   \n5             5.000000        3.750000             4.0             0.0   \n\n        Cluster_mean_6  Cluster_mean_7  Cluster_mean_8  Cluster_mean_9  \nuserId                                                                  \n1                3.900             5.0        4.333333        4.090909  \n2                3.000             3.5        3.440000        3.857143  \n3                5.000             5.0        4.857143        5.000000  \n4                4.625             0.0        4.100000        4.500000  \n5                3.000             3.0        3.300000        3.000000  \n\n[5 rows x 30 columns]",
      "text/html": "<div>\n<style scoped>\n    .dataframe tbody tr th:only-of-type {\n        vertical-align: middle;\n    }\n\n    .dataframe tbody tr th {\n        vertical-align: top;\n    }\n\n    .dataframe thead th {\n        text-align: right;\n    }\n</style>\n<table border=\"1\" class=\"dataframe\">\n  <thead>\n    <tr style=\"text-align: right;\">\n      <th></th>\n      <th>Cluster_count_0</th>\n      <th>Cluster_count_1</th>\n      <th>Cluster_count_2</th>\n      <th>Cluster_count_3</th>\n      <th>Cluster_count_4</th>\n      <th>Cluster_count_5</th>\n      <th>Cluster_count_6</th>\n      <th>Cluster_count_7</th>\n      <th>Cluster_count_8</th>\n      <th>Cluster_count_9</th>\n      <th>...</th>\n      <th>Cluster_mean_0</th>\n      <th>Cluster_mean_1</th>\n      <th>Cluster_mean_2</th>\n      <th>Cluster_mean_3</th>\n      <th>Cluster_mean_4</th>\n      <th>Cluster_mean_5</th>\n      <th>Cluster_mean_6</th>\n      <th>Cluster_mean_7</th>\n      <th>Cluster_mean_8</th>\n      <th>Cluster_mean_9</th>\n    </tr>\n    <tr>\n      <th>userId</th>\n      <th></th>\n      <th></th>\n      <th></th>\n      <th></th>\n      <th></th>\n      <th></th>\n      <th></th>\n      <th></th>\n      <th></th>\n      <th></th>\n      <th></th>\n      <th></th>\n      <th></th>\n      <th></th>\n      <th></th>\n      <th></th>\n      <th></th>\n      <th></th>\n      <th></th>\n      <th></th>\n      <th></th>\n    </tr>\n  </thead>\n  <tbody>\n    <tr>\n      <th>1</th>\n      <td>5.0</td>\n      <td>13.0</td>\n      <td>10.0</td>\n      <td>14.0</td>\n      <td>0.0</td>\n      <td>0.0</td>\n      <td>5.0</td>\n      <td>1.0</td>\n      <td>3.0</td>\n      <td>11.0</td>\n      <td>...</td>\n      <td>3.900000</td>\n      <td>4.076923</td>\n      <td>3.700000</td>\n      <td>4.035714</td>\n      <td>0.0</td>\n      <td>0.0</td>\n      <td>3.900</td>\n      <td>5.0</td>\n      <td>4.333333</td>\n      <td>4.090909</td>\n    </tr>\n    <tr>\n      <th>2</th>\n      <td>18.0</td>\n      <td>16.0</td>\n      <td>7.0</td>\n      <td>15.0</td>\n      <td>0.0</td>\n      <td>0.0</td>\n      <td>1.0</td>\n      <td>2.0</td>\n      <td>25.0</td>\n      <td>7.0</td>\n      <td>...</td>\n      <td>3.555556</td>\n      <td>3.937500</td>\n      <td>2.571429</td>\n      <td>3.533333</td>\n      <td>0.0</td>\n      <td>0.0</td>\n      <td>3.000</td>\n      <td>3.5</td>\n      <td>3.440000</td>\n      <td>3.857143</td>\n    </tr>\n    <tr>\n      <th>3</th>\n      <td>3.0</td>\n      <td>3.0</td>\n      <td>2.0</td>\n      <td>0.0</td>\n      <td>0.0</td>\n      <td>0.0</td>\n      <td>3.0</td>\n      <td>1.0</td>\n      <td>7.0</td>\n      <td>11.0</td>\n      <td>...</td>\n      <td>5.000000</td>\n      <td>5.000000</td>\n      <td>4.000000</td>\n      <td>0.000000</td>\n      <td>0.0</td>\n      <td>0.0</td>\n      <td>5.000</td>\n      <td>5.0</td>\n      <td>4.857143</td>\n      <td>5.000000</td>\n    </tr>\n    <tr>\n      <th>4</th>\n      <td>1.0</td>\n      <td>5.0</td>\n      <td>3.0</td>\n      <td>5.0</td>\n      <td>0.0</td>\n      <td>0.0</td>\n      <td>4.0</td>\n      <td>0.0</td>\n      <td>5.0</td>\n      <td>7.0</td>\n      <td>...</td>\n      <td>4.000000</td>\n      <td>4.100000</td>\n      <td>4.333333</td>\n      <td>4.600000</td>\n      <td>0.0</td>\n      <td>0.0</td>\n      <td>4.625</td>\n      <td>0.0</td>\n      <td>4.100000</td>\n      <td>4.500000</td>\n    </tr>\n    <tr>\n      <th>5</th>\n      <td>6.0</td>\n      <td>16.0</td>\n      <td>1.0</td>\n      <td>4.0</td>\n      <td>1.0</td>\n      <td>0.0</td>\n      <td>1.0</td>\n      <td>3.0</td>\n      <td>10.0</td>\n      <td>1.0</td>\n      <td>...</td>\n      <td>2.333333</td>\n      <td>3.812500</td>\n      <td>5.000000</td>\n      <td>3.750000</td>\n      <td>4.0</td>\n      <td>0.0</td>\n      <td>3.000</td>\n      <td>3.0</td>\n      <td>3.300000</td>\n      <td>3.000000</td>\n    </tr>\n  </tbody>\n</table>\n<p>5 rows × 30 columns</p>\n</div>"
     },
     "execution_count": 43,
     "metadata": {},
     "output_type": "execute_result"
    }
   ],
   "source": [
    "users_df.set_index(\"userId\", inplace=True)\n",
    "users_df.head()"
   ],
   "metadata": {
    "collapsed": false,
    "ExecuteTime": {
     "end_time": "2024-05-28T17:25:20.537382900Z",
     "start_time": "2024-05-28T17:25:20.470627Z"
    }
   },
   "id": "e674fa9cf58a8381"
  },
  {
   "cell_type": "code",
   "execution_count": 44,
   "outputs": [],
   "source": [
    "def cluster_rule_based_prediction(user_id, movie_id):\n",
    "    cluster = movies_hot_df.loc[movie_id][\"Cluster\"]\n",
    "    return round(users_df.loc[user_id][f\"Cluster_mean_{cluster}\"] * 2) / 2\n",
    "\n",
    "class ClusterRuleBasedEstimator(BaseEstimator):\n",
    "    def fit(self, X, y=None):\n",
    "        return self\n",
    "\n",
    "    def predict(self, X):\n",
    "        return np.array([cluster_rule_based_prediction(user, movie) for user, movie in X])\n",
    "\n",
    "def custom_scorer(y_true, y_pred):\n",
    "    return np.mean((y_true - y_pred) ** 2)"
   ],
   "metadata": {
    "collapsed": false,
    "ExecuteTime": {
     "end_time": "2024-05-28T17:25:20.537382900Z",
     "start_time": "2024-05-28T17:25:20.522384500Z"
    }
   },
   "id": "ca486c9b1a05ad67"
  },
  {
   "cell_type": "code",
   "execution_count": 45,
   "outputs": [
    {
     "name": "stdout",
     "output_type": "stream",
     "text": [
      "Cross-validated MSE: 0.772095\n"
     ]
    }
   ],
   "source": [
    "n = 100_000\n",
    "\n",
    "mse_scorer = make_scorer(custom_scorer, greater_is_better=False)\n",
    "X = ratings_df[['userId', 'movieId']].values[:n]\n",
    "y = ratings_df['rating'].values[:n]\n",
    "estimator = ClusterRuleBasedEstimator()\n",
    "scores = cross_val_score(estimator, X, y, scoring=mse_scorer, cv=5)\n",
    "\n",
    "print(f\"Cross-validated MSE: {-scores.mean()}\")"
   ],
   "metadata": {
    "collapsed": false,
    "ExecuteTime": {
     "end_time": "2024-05-28T17:25:29.334107700Z",
     "start_time": "2024-05-28T17:25:20.537382900Z"
    }
   },
   "id": "d535c0a9c023edda"
  },
  {
   "cell_type": "code",
   "execution_count": 46,
   "outputs": [
    {
     "name": "stdout",
     "output_type": "stream",
     "text": [
      "Cross-validated Accuracy: 0.65478\n",
      "Number of exactly correct predictions: 26858\n"
     ]
    }
   ],
   "source": [
    "def custom_accuracy_scorer(y_true, y_pred, tol=(0.5 + 1e-9)):\n",
    "    accuracy = np.isclose(y_pred, y_true, atol=tol).mean()\n",
    "    return accuracy\n",
    "\n",
    "accuracy_scorer = make_scorer(custom_accuracy_scorer)\n",
    "accuracy_scores = cross_val_score(estimator, X, y, scoring=accuracy_scorer, cv=5)\n",
    "print(f\"Cross-validated Accuracy: {accuracy_scores.mean()}\")\n",
    "\n",
    "estimator.fit(X, y)\n",
    "y_pred = estimator.predict(X)\n",
    "num_exactly_correct = (y_pred == y).sum()\n",
    "print(f\"Number of exactly correct predictions: {num_exactly_correct}\")"
   ],
   "metadata": {
    "collapsed": false,
    "ExecuteTime": {
     "end_time": "2024-05-28T17:25:45.008619500Z",
     "start_time": "2024-05-28T17:25:29.334107700Z"
    }
   },
   "id": "f9618e24c12f7dfa"
  },
  {
   "cell_type": "code",
   "execution_count": null,
   "outputs": [],
   "source": [],
   "metadata": {
    "collapsed": false
   },
   "id": "132e850cc2a3f0ca"
  }
 ],
 "metadata": {
  "kernelspec": {
   "display_name": "Python 3",
   "language": "python",
   "name": "python3"
  },
  "language_info": {
   "codemirror_mode": {
    "name": "ipython",
    "version": 2
   },
   "file_extension": ".py",
   "mimetype": "text/x-python",
   "name": "python",
   "nbconvert_exporter": "python",
   "pygments_lexer": "ipython2",
   "version": "2.7.6"
  }
 },
 "nbformat": 4,
 "nbformat_minor": 5
}
