{
 "cells": [
  {
   "cell_type": "code",
   "execution_count": 77,
   "id": "initial_id",
   "metadata": {
    "collapsed": true,
    "ExecuteTime": {
     "end_time": "2024-05-27T18:20:01.326819300Z",
     "start_time": "2024-05-27T18:20:01.279862800Z"
    }
   },
   "outputs": [],
   "source": [
    "import pandas as pd\n",
    "import numpy as np\n",
    "from sklearn.model_selection import cross_val_score\n",
    "from sklearn.metrics import make_scorer\n",
    "from sklearn.base import BaseEstimator\n",
    "from sklearn.preprocessing import MultiLabelBinarizer"
   ]
  },
  {
   "cell_type": "code",
   "execution_count": 31,
   "outputs": [],
   "source": [
    "ratings_df = pd.read_csv(\"data/ratings.csv\")\n",
    "movies_df = pd.read_csv(\"data/movies.csv\", index_col=\"movieId\")"
   ],
   "metadata": {
    "collapsed": false,
    "ExecuteTime": {
     "end_time": "2024-05-27T17:34:55.344253100Z",
     "start_time": "2024-05-27T17:34:46.361584200Z"
    }
   },
   "id": "c94340d85d9df890"
  },
  {
   "cell_type": "markdown",
   "source": [
    "### Rule based"
   ],
   "metadata": {
    "collapsed": false
   },
   "id": "545dd01d5229b45c"
  },
  {
   "cell_type": "code",
   "execution_count": 61,
   "outputs": [],
   "source": [
    "def rule_based_prediction(user_id, movie_id):\n",
    "    user_avg_rating = ratings_df[ratings_df['userId'] == user_id]['rating'].mean()\n",
    "    film_avg_rating = ratings_df[ratings_df['movieId'] == movie_id]['rating'].mean()\n",
    "    \n",
    "    genres = movies_df.loc[movie_id][\"genres\"].split(\"|\")\n",
    "    movie_idx = set()\n",
    "    for genre in genres:\n",
    "        movie_idx.update(movies_df[movies_df[\"genres\"].str.contains(genre)].index)\n",
    "    genre_avg_rating = ratings_df[ratings_df['movieId'].isin(movie_idx)]['rating'].mean()\n",
    "\n",
    "    return (user_avg_rating + film_avg_rating + genre_avg_rating) / 3"
   ],
   "metadata": {
    "collapsed": false,
    "ExecuteTime": {
     "end_time": "2024-05-27T17:49:15.577940900Z",
     "start_time": "2024-05-27T17:49:15.560022400Z"
    }
   },
   "id": "2f1fbe810fe3fcd6"
  },
  {
   "cell_type": "code",
   "execution_count": 75,
   "outputs": [
    {
     "name": "stdout",
     "output_type": "stream",
     "text": [
      "CPU times: total: 1.55 s\n",
      "Wall time: 1.61 s\n"
     ]
    },
    {
     "data": {
      "text/plain": "3.9494551923200674"
     },
     "execution_count": 75,
     "metadata": {},
     "output_type": "execute_result"
    }
   ],
   "source": [
    "%%time\n",
    "rule_based_prediction(1, 50)"
   ],
   "metadata": {
    "collapsed": false,
    "ExecuteTime": {
     "end_time": "2024-05-27T18:10:18.822090800Z",
     "start_time": "2024-05-27T18:10:17.196762800Z"
    }
   },
   "id": "f83051e0b6149a32"
  },
  {
   "cell_type": "code",
   "execution_count": 73,
   "outputs": [],
   "source": [
    "class RuleBasedEstimator(BaseEstimator):\n",
    "    def fit(self, X, y=None):\n",
    "        return self\n",
    "    \n",
    "    def predict(self, X):\n",
    "        return np.array([rule_based_prediction(user, movie) for user, movie in X])\n",
    "\n",
    "def custom_scorer(y_true, y_pred):\n",
    "    return np.mean((y_true - y_pred) ** 2)  # Mean Squared Error"
   ],
   "metadata": {
    "collapsed": false,
    "ExecuteTime": {
     "end_time": "2024-05-27T18:09:48.448503200Z",
     "start_time": "2024-05-27T18:09:48.413621300Z"
    }
   },
   "id": "b9c0bb66ace9eb2d"
  },
  {
   "cell_type": "code",
   "execution_count": 76,
   "outputs": [
    {
     "name": "stdout",
     "output_type": "stream",
     "text": [
      "Cross-validated MSE: 0.7235005480434722\n"
     ]
    }
   ],
   "source": [
    "n = 100\n",
    "\n",
    "mse_scorer = make_scorer(custom_scorer, greater_is_better=False)\n",
    "X = ratings_df[['userId', 'movieId']].values[:n]\n",
    "y = ratings_df['rating'].values[:n]\n",
    "estimator = RuleBasedEstimator()\n",
    "scores = cross_val_score(estimator, X, y, scoring=mse_scorer, cv=5)\n",
    "\n",
    "print(f\"Cross-validated MSE: {-scores.mean()}\")"
   ],
   "metadata": {
    "collapsed": false,
    "ExecuteTime": {
     "end_time": "2024-05-27T18:13:17.470792200Z",
     "start_time": "2024-05-27T18:10:43.354122400Z"
    }
   },
   "id": "1ea98211dd23b72f"
  },
  {
   "cell_type": "code",
   "execution_count": 83,
   "outputs": [],
   "source": [
    "from sklearn.preprocessing import OneHotEncoder, StandardScaler\n",
    "import pandas as pd\n",
    "from sklearn.cluster import KMeans"
   ],
   "metadata": {
    "collapsed": false,
    "ExecuteTime": {
     "end_time": "2024-05-27T18:32:28.875095500Z",
     "start_time": "2024-05-27T18:32:28.852905300Z"
    }
   },
   "id": "61af3e819ce2012c"
  },
  {
   "cell_type": "code",
   "execution_count": 84,
   "outputs": [
    {
     "name": "stderr",
     "output_type": "stream",
     "text": [
      "C:\\Users\\Василий\\AppData\\Roaming\\Python\\Python311\\site-packages\\sklearn\\cluster\\_kmeans.py:1416: FutureWarning: The default value of `n_init` will change from 10 to 'auto' in 1.4. Set the value of `n_init` explicitly to suppress the warning\n",
      "  super()._check_params_vs_input(X, default_n_init=10)\n"
     ]
    }
   ],
   "source": [
    "# Step 1: Split the string values\n",
    "movies_df['Genres_Split'] = movies_df['genres'].apply(lambda x: x.split('|'))\n",
    "\n",
    "# Step 2: Create a binary matrix (One-Hot Encoding)\n",
    "mlb = MultiLabelBinarizer()\n",
    "binary_matrix = mlb.fit_transform(movies_df['Genres_Split'])\n",
    "binary_df = pd.DataFrame(binary_matrix, columns=mlb.classes_)\n",
    "\n",
    "# Combine the original DataFrame with the binary matrix\n",
    "movies_hot_df = movies_df.join(binary_df)\n",
    "\n",
    "# Drop the original and split columns as they are no longer needed\n",
    "movies_hot_df = movies_hot_df.drop(['genres', 'Genres_Split'], axis=1)\n",
    "\n",
    "# Step 3: Clustering\n",
    "# For demonstration, we'll use K-means with 2 clusters\n",
    "kmeans = KMeans(n_clusters=10, random_state=42)\n",
    "movies_hot_df['Cluster'] = kmeans.fit_predict(binary_df)"
   ],
   "metadata": {
    "collapsed": false,
    "ExecuteTime": {
     "end_time": "2024-05-27T18:32:31.100791600Z",
     "start_time": "2024-05-27T18:32:29.236247Z"
    }
   },
   "id": "585b42935226be41"
  },
  {
   "cell_type": "code",
   "execution_count": 85,
   "outputs": [
    {
     "data": {
      "text/plain": "                                      title  (no genres listed)  Action  \\\nmovieId                                                                   \n1                          Toy Story (1995)                 0.0     0.0   \n2                            Jumanji (1995)                 0.0     0.0   \n3                   Grumpier Old Men (1995)                 0.0     0.0   \n4                  Waiting to Exhale (1995)                 0.0     0.0   \n5        Father of the Bride Part II (1995)                 0.0     1.0   \n\n         Adventure  Animation  Children  Comedy  Crime  Documentary  Drama  \\\nmovieId                                                                      \n1              1.0        0.0       1.0     0.0    0.0          0.0    0.0   \n2              0.0        0.0       0.0     1.0    0.0          0.0    0.0   \n3              0.0        0.0       0.0     1.0    0.0          0.0    1.0   \n4              0.0        0.0       0.0     1.0    0.0          0.0    0.0   \n5              0.0        0.0       0.0     0.0    1.0          0.0    0.0   \n\n         ...  Horror  IMAX  Musical  Mystery  Romance  Sci-Fi  Thriller  War  \\\nmovieId  ...                                                                   \n1        ...     0.0   0.0      0.0      0.0      0.0     0.0       0.0  0.0   \n2        ...     0.0   0.0      0.0      0.0      1.0     0.0       0.0  0.0   \n3        ...     0.0   0.0      0.0      0.0      1.0     0.0       0.0  0.0   \n4        ...     0.0   0.0      0.0      0.0      0.0     0.0       0.0  0.0   \n5        ...     0.0   0.0      0.0      0.0      0.0     0.0       1.0  0.0   \n\n         Western  Cluster  \nmovieId                    \n1            0.0        9  \n2            0.0        9  \n3            0.0        0  \n4            0.0        3  \n5            0.0        0  \n\n[5 rows x 22 columns]",
      "text/html": "<div>\n<style scoped>\n    .dataframe tbody tr th:only-of-type {\n        vertical-align: middle;\n    }\n\n    .dataframe tbody tr th {\n        vertical-align: top;\n    }\n\n    .dataframe thead th {\n        text-align: right;\n    }\n</style>\n<table border=\"1\" class=\"dataframe\">\n  <thead>\n    <tr style=\"text-align: right;\">\n      <th></th>\n      <th>title</th>\n      <th>(no genres listed)</th>\n      <th>Action</th>\n      <th>Adventure</th>\n      <th>Animation</th>\n      <th>Children</th>\n      <th>Comedy</th>\n      <th>Crime</th>\n      <th>Documentary</th>\n      <th>Drama</th>\n      <th>...</th>\n      <th>Horror</th>\n      <th>IMAX</th>\n      <th>Musical</th>\n      <th>Mystery</th>\n      <th>Romance</th>\n      <th>Sci-Fi</th>\n      <th>Thriller</th>\n      <th>War</th>\n      <th>Western</th>\n      <th>Cluster</th>\n    </tr>\n    <tr>\n      <th>movieId</th>\n      <th></th>\n      <th></th>\n      <th></th>\n      <th></th>\n      <th></th>\n      <th></th>\n      <th></th>\n      <th></th>\n      <th></th>\n      <th></th>\n      <th></th>\n      <th></th>\n      <th></th>\n      <th></th>\n      <th></th>\n      <th></th>\n      <th></th>\n      <th></th>\n      <th></th>\n      <th></th>\n      <th></th>\n    </tr>\n  </thead>\n  <tbody>\n    <tr>\n      <th>1</th>\n      <td>Toy Story (1995)</td>\n      <td>0.0</td>\n      <td>0.0</td>\n      <td>1.0</td>\n      <td>0.0</td>\n      <td>1.0</td>\n      <td>0.0</td>\n      <td>0.0</td>\n      <td>0.0</td>\n      <td>0.0</td>\n      <td>...</td>\n      <td>0.0</td>\n      <td>0.0</td>\n      <td>0.0</td>\n      <td>0.0</td>\n      <td>0.0</td>\n      <td>0.0</td>\n      <td>0.0</td>\n      <td>0.0</td>\n      <td>0.0</td>\n      <td>9</td>\n    </tr>\n    <tr>\n      <th>2</th>\n      <td>Jumanji (1995)</td>\n      <td>0.0</td>\n      <td>0.0</td>\n      <td>0.0</td>\n      <td>0.0</td>\n      <td>0.0</td>\n      <td>1.0</td>\n      <td>0.0</td>\n      <td>0.0</td>\n      <td>0.0</td>\n      <td>...</td>\n      <td>0.0</td>\n      <td>0.0</td>\n      <td>0.0</td>\n      <td>0.0</td>\n      <td>1.0</td>\n      <td>0.0</td>\n      <td>0.0</td>\n      <td>0.0</td>\n      <td>0.0</td>\n      <td>9</td>\n    </tr>\n    <tr>\n      <th>3</th>\n      <td>Grumpier Old Men (1995)</td>\n      <td>0.0</td>\n      <td>0.0</td>\n      <td>0.0</td>\n      <td>0.0</td>\n      <td>0.0</td>\n      <td>1.0</td>\n      <td>0.0</td>\n      <td>0.0</td>\n      <td>1.0</td>\n      <td>...</td>\n      <td>0.0</td>\n      <td>0.0</td>\n      <td>0.0</td>\n      <td>0.0</td>\n      <td>1.0</td>\n      <td>0.0</td>\n      <td>0.0</td>\n      <td>0.0</td>\n      <td>0.0</td>\n      <td>0</td>\n    </tr>\n    <tr>\n      <th>4</th>\n      <td>Waiting to Exhale (1995)</td>\n      <td>0.0</td>\n      <td>0.0</td>\n      <td>0.0</td>\n      <td>0.0</td>\n      <td>0.0</td>\n      <td>1.0</td>\n      <td>0.0</td>\n      <td>0.0</td>\n      <td>0.0</td>\n      <td>...</td>\n      <td>0.0</td>\n      <td>0.0</td>\n      <td>0.0</td>\n      <td>0.0</td>\n      <td>0.0</td>\n      <td>0.0</td>\n      <td>0.0</td>\n      <td>0.0</td>\n      <td>0.0</td>\n      <td>3</td>\n    </tr>\n    <tr>\n      <th>5</th>\n      <td>Father of the Bride Part II (1995)</td>\n      <td>0.0</td>\n      <td>1.0</td>\n      <td>0.0</td>\n      <td>0.0</td>\n      <td>0.0</td>\n      <td>0.0</td>\n      <td>1.0</td>\n      <td>0.0</td>\n      <td>0.0</td>\n      <td>...</td>\n      <td>0.0</td>\n      <td>0.0</td>\n      <td>0.0</td>\n      <td>0.0</td>\n      <td>0.0</td>\n      <td>0.0</td>\n      <td>1.0</td>\n      <td>0.0</td>\n      <td>0.0</td>\n      <td>0</td>\n    </tr>\n  </tbody>\n</table>\n<p>5 rows × 22 columns</p>\n</div>"
     },
     "execution_count": 85,
     "metadata": {},
     "output_type": "execute_result"
    }
   ],
   "source": [
    "movies_hot_df.head()"
   ],
   "metadata": {
    "collapsed": false,
    "ExecuteTime": {
     "end_time": "2024-05-27T18:32:31.100791600Z",
     "start_time": "2024-05-27T18:32:31.047600100Z"
    }
   },
   "id": "8ad79e2e2eafbb79"
  },
  {
   "cell_type": "code",
   "execution_count": 92,
   "outputs": [
    {
     "data": {
      "text/plain": "userId\n1         4.008065\n2         3.527473\n3         4.900000\n4         4.366667\n5         3.418605\n            ...   \n330971    4.068627\n330972    3.343750\n330973    3.309524\n330974    3.356481\n330975    2.403270\nName: rating, Length: 330975, dtype: float64"
     },
     "execution_count": 92,
     "metadata": {},
     "output_type": "execute_result"
    }
   ],
   "source": [],
   "metadata": {
    "collapsed": false,
    "ExecuteTime": {
     "end_time": "2024-05-27T18:47:25.317367600Z",
     "start_time": "2024-05-27T18:47:23.552735700Z"
    }
   },
   "id": "2762b38c99070b83"
  },
  {
   "cell_type": "code",
   "execution_count": 94,
   "outputs": [
    {
     "name": "stderr",
     "output_type": "stream",
     "text": [
      "C:\\Users\\Василий\\AppData\\Roaming\\Python\\Python311\\site-packages\\sklearn\\cluster\\_kmeans.py:1416: FutureWarning: The default value of `n_init` will change from 10 to 'auto' in 1.4. Set the value of `n_init` explicitly to suppress the warning\n",
      "  super()._check_params_vs_input(X, default_n_init=10)\n"
     ]
    }
   ],
   "source": [
    "# Group by 'userId' and calculate mean rating\n",
    "mean_ratings = ratings_df.groupby('userId')['rating'].mean().reset_index()\n",
    "\n",
    "# Convert to DataFrame\n",
    "mean_ratings_df = pd.DataFrame(mean_ratings)\n",
    "\n",
    "# Apply KMeans clustering\n",
    "kmeans = KMeans(n_clusters=10, random_state=42)\n",
    "mean_ratings_df['Cluster'] = kmeans.fit_predict(mean_ratings_df[['rating']])"
   ],
   "metadata": {
    "collapsed": false,
    "ExecuteTime": {
     "end_time": "2024-05-27T18:49:44.528672600Z",
     "start_time": "2024-05-27T18:49:40.501958300Z"
    }
   },
   "id": "e48611042f2f53c"
  },
  {
   "cell_type": "code",
   "execution_count": 97,
   "outputs": [
    {
     "data": {
      "text/plain": "array([6, 9, 5, 2, 4, 0, 3, 1, 7, 8])"
     },
     "execution_count": 97,
     "metadata": {},
     "output_type": "execute_result"
    }
   ],
   "source": [
    "mean_ratings_df.head()\n",
    "mean_ratings_df[\"Cluster\"].unique()"
   ],
   "metadata": {
    "collapsed": false,
    "ExecuteTime": {
     "end_time": "2024-05-27T18:55:13.111940300Z",
     "start_time": "2024-05-27T18:55:13.058178Z"
    }
   },
   "id": "549cb3dc9ddcda9b"
  },
  {
   "cell_type": "code",
   "execution_count": 99,
   "outputs": [
    {
     "ename": "KeyboardInterrupt",
     "evalue": "",
     "output_type": "error",
     "traceback": [
      "\u001B[1;31m---------------------------------------------------------------------------\u001B[0m",
      "\u001B[1;31mKeyboardInterrupt\u001B[0m                         Traceback (most recent call last)",
      "Cell \u001B[1;32mIn[99], line 12\u001B[0m\n\u001B[0;32m     10\u001B[0m summ \u001B[38;5;241m=\u001B[39m \u001B[38;5;241m0\u001B[39m\n\u001B[0;32m     11\u001B[0m count \u001B[38;5;241m=\u001B[39m \u001B[38;5;241m0\u001B[39m\n\u001B[1;32m---> 12\u001B[0m \u001B[43m\u001B[49m\u001B[38;5;28;43;01mfor\u001B[39;49;00m\u001B[43m \u001B[49m\u001B[43mindex\u001B[49m\u001B[43m,\u001B[49m\u001B[43m \u001B[49m\u001B[43mc\u001B[49m\u001B[43m \u001B[49m\u001B[38;5;129;43;01min\u001B[39;49;00m\u001B[43m \u001B[49m\u001B[43mratings_df\u001B[49m\u001B[38;5;241;43m.\u001B[39;49m\u001B[43miterrows\u001B[49m\u001B[43m(\u001B[49m\u001B[43m)\u001B[49m\u001B[43m:\u001B[49m\n\u001B[0;32m     13\u001B[0m \u001B[43m    \u001B[49m\u001B[38;5;28;43;01mif\u001B[39;49;00m\u001B[43m \u001B[49m\u001B[43mc\u001B[49m\u001B[43m[\u001B[49m\u001B[38;5;124;43m\"\u001B[39;49m\u001B[38;5;124;43muserId\u001B[39;49m\u001B[38;5;124;43m\"\u001B[39;49m\u001B[43m]\u001B[49m\u001B[43m \u001B[49m\u001B[38;5;129;43;01min\u001B[39;49;00m\u001B[43m \u001B[49m\u001B[43muser_idx\u001B[49m\u001B[43m \u001B[49m\u001B[38;5;129;43;01mand\u001B[39;49;00m\u001B[43m \u001B[49m\u001B[43mc\u001B[49m\u001B[43m[\u001B[49m\u001B[38;5;124;43m\"\u001B[39;49m\u001B[38;5;124;43mmovieId\u001B[39;49m\u001B[38;5;124;43m\"\u001B[39;49m\u001B[43m]\u001B[49m\u001B[43m \u001B[49m\u001B[38;5;129;43;01min\u001B[39;49;00m\u001B[43m \u001B[49m\u001B[43mmovie_idx\u001B[49m\u001B[43m:\u001B[49m\n\u001B[0;32m     14\u001B[0m \u001B[43m        \u001B[49m\u001B[43msumm\u001B[49m\u001B[43m \u001B[49m\u001B[38;5;241;43m+\u001B[39;49m\u001B[38;5;241;43m=\u001B[39;49m\u001B[43m \u001B[49m\u001B[43mc\u001B[49m\u001B[43m[\u001B[49m\u001B[38;5;124;43m\"\u001B[39;49m\u001B[38;5;124;43mrating\u001B[39;49m\u001B[38;5;124;43m\"\u001B[39;49m\u001B[43m]\u001B[49m\n",
      "File \u001B[1;32m~\\AppData\\Roaming\\Python\\Python311\\site-packages\\pandas\\core\\frame.py:1450\u001B[0m, in \u001B[0;36mDataFrame.iterrows\u001B[1;34m(self)\u001B[0m\n\u001B[0;32m   1448\u001B[0m using_cow \u001B[38;5;241m=\u001B[39m using_copy_on_write()\n\u001B[0;32m   1449\u001B[0m \u001B[38;5;28;01mfor\u001B[39;00m k, v \u001B[38;5;129;01min\u001B[39;00m \u001B[38;5;28mzip\u001B[39m(\u001B[38;5;28mself\u001B[39m\u001B[38;5;241m.\u001B[39mindex, \u001B[38;5;28mself\u001B[39m\u001B[38;5;241m.\u001B[39mvalues):\n\u001B[1;32m-> 1450\u001B[0m     s \u001B[38;5;241m=\u001B[39m \u001B[43mklass\u001B[49m\u001B[43m(\u001B[49m\u001B[43mv\u001B[49m\u001B[43m,\u001B[49m\u001B[43m \u001B[49m\u001B[43mindex\u001B[49m\u001B[38;5;241;43m=\u001B[39;49m\u001B[43mcolumns\u001B[49m\u001B[43m,\u001B[49m\u001B[43m \u001B[49m\u001B[43mname\u001B[49m\u001B[38;5;241;43m=\u001B[39;49m\u001B[43mk\u001B[49m\u001B[43m)\u001B[49m\u001B[38;5;241m.\u001B[39m__finalize__(\u001B[38;5;28mself\u001B[39m)\n\u001B[0;32m   1451\u001B[0m     \u001B[38;5;28;01mif\u001B[39;00m using_cow \u001B[38;5;129;01mand\u001B[39;00m \u001B[38;5;28mself\u001B[39m\u001B[38;5;241m.\u001B[39m_mgr\u001B[38;5;241m.\u001B[39mis_single_block:\n\u001B[0;32m   1452\u001B[0m         s\u001B[38;5;241m.\u001B[39m_mgr\u001B[38;5;241m.\u001B[39madd_references(\u001B[38;5;28mself\u001B[39m\u001B[38;5;241m.\u001B[39m_mgr)  \u001B[38;5;66;03m# type: ignore[arg-type]\u001B[39;00m\n",
      "File \u001B[1;32m~\\AppData\\Roaming\\Python\\Python311\\site-packages\\pandas\\core\\series.py:521\u001B[0m, in \u001B[0;36mSeries.__init__\u001B[1;34m(self, data, index, dtype, name, copy, fastpath)\u001B[0m\n\u001B[0;32m    518\u001B[0m         data \u001B[38;5;241m=\u001B[39m SingleArrayManager\u001B[38;5;241m.\u001B[39mfrom_array(data, index)\n\u001B[0;32m    520\u001B[0m NDFrame\u001B[38;5;241m.\u001B[39m\u001B[38;5;21m__init__\u001B[39m(\u001B[38;5;28mself\u001B[39m, data)\n\u001B[1;32m--> 521\u001B[0m \u001B[38;5;28;43mself\u001B[39;49m\u001B[38;5;241;43m.\u001B[39;49m\u001B[43mname\u001B[49m \u001B[38;5;241m=\u001B[39m name\n\u001B[0;32m    522\u001B[0m \u001B[38;5;28mself\u001B[39m\u001B[38;5;241m.\u001B[39m_set_axis(\u001B[38;5;241m0\u001B[39m, index)\n",
      "File \u001B[1;32m~\\AppData\\Roaming\\Python\\Python311\\site-packages\\pandas\\core\\generic.py:6225\u001B[0m, in \u001B[0;36mNDFrame.__setattr__\u001B[1;34m(self, name, value)\u001B[0m\n\u001B[0;32m   6222\u001B[0m \u001B[38;5;66;03m# if this fails, go on to more involved attribute setting\u001B[39;00m\n\u001B[0;32m   6223\u001B[0m \u001B[38;5;66;03m# (note that this matches __getattr__, above).\u001B[39;00m\n\u001B[0;32m   6224\u001B[0m \u001B[38;5;28;01mif\u001B[39;00m name \u001B[38;5;129;01min\u001B[39;00m \u001B[38;5;28mself\u001B[39m\u001B[38;5;241m.\u001B[39m_internal_names_set:\n\u001B[1;32m-> 6225\u001B[0m     \u001B[38;5;28;43mobject\u001B[39;49m\u001B[38;5;241;43m.\u001B[39;49m\u001B[38;5;21;43m__setattr__\u001B[39;49m\u001B[43m(\u001B[49m\u001B[38;5;28;43mself\u001B[39;49m\u001B[43m,\u001B[49m\u001B[43m \u001B[49m\u001B[43mname\u001B[49m\u001B[43m,\u001B[49m\u001B[43m \u001B[49m\u001B[43mvalue\u001B[49m\u001B[43m)\u001B[49m\n\u001B[0;32m   6226\u001B[0m \u001B[38;5;28;01melif\u001B[39;00m name \u001B[38;5;129;01min\u001B[39;00m \u001B[38;5;28mself\u001B[39m\u001B[38;5;241m.\u001B[39m_metadata:\n\u001B[0;32m   6227\u001B[0m     \u001B[38;5;28mobject\u001B[39m\u001B[38;5;241m.\u001B[39m\u001B[38;5;21m__setattr__\u001B[39m(\u001B[38;5;28mself\u001B[39m, name, value)\n",
      "File \u001B[1;32m~\\AppData\\Roaming\\Python\\Python311\\site-packages\\pandas\\core\\series.py:703\u001B[0m, in \u001B[0;36mSeries.name\u001B[1;34m(self, value)\u001B[0m\n\u001B[0;32m    655\u001B[0m \u001B[38;5;250m    \u001B[39m\u001B[38;5;124;03m\"\"\"\u001B[39;00m\n\u001B[0;32m    656\u001B[0m \u001B[38;5;124;03m    Return the name of the Series.\u001B[39;00m\n\u001B[0;32m    657\u001B[0m \n\u001B[1;32m   (...)\u001B[0m\n\u001B[0;32m    699\u001B[0m \u001B[38;5;124;03m    'Even Numbers'\u001B[39;00m\n\u001B[0;32m    700\u001B[0m \u001B[38;5;124;03m    \"\"\"\u001B[39;00m\n\u001B[0;32m    701\u001B[0m     \u001B[38;5;28;01mreturn\u001B[39;00m \u001B[38;5;28mself\u001B[39m\u001B[38;5;241m.\u001B[39m_name\n\u001B[1;32m--> 703\u001B[0m \u001B[38;5;129m@name\u001B[39m\u001B[38;5;241m.\u001B[39msetter\n\u001B[0;32m    704\u001B[0m \u001B[38;5;28;01mdef\u001B[39;00m \u001B[38;5;21mname\u001B[39m(\u001B[38;5;28mself\u001B[39m, value: Hashable) \u001B[38;5;241m-\u001B[39m\u001B[38;5;241m>\u001B[39m \u001B[38;5;28;01mNone\u001B[39;00m:\n\u001B[0;32m    705\u001B[0m     validate_all_hashable(value, error_name\u001B[38;5;241m=\u001B[39m\u001B[38;5;124mf\u001B[39m\u001B[38;5;124m\"\u001B[39m\u001B[38;5;132;01m{\u001B[39;00m\u001B[38;5;28mtype\u001B[39m(\u001B[38;5;28mself\u001B[39m)\u001B[38;5;241m.\u001B[39m\u001B[38;5;18m__name__\u001B[39m\u001B[38;5;132;01m}\u001B[39;00m\u001B[38;5;124m.name\u001B[39m\u001B[38;5;124m\"\u001B[39m)\n\u001B[0;32m    706\u001B[0m     \u001B[38;5;28mobject\u001B[39m\u001B[38;5;241m.\u001B[39m\u001B[38;5;21m__setattr__\u001B[39m(\u001B[38;5;28mself\u001B[39m, \u001B[38;5;124m\"\u001B[39m\u001B[38;5;124m_name\u001B[39m\u001B[38;5;124m\"\u001B[39m, value)\n",
      "\u001B[1;31mKeyboardInterrupt\u001B[0m: "
     ]
    }
   ],
   "source": [
    "n_movie_clusters = 10\n",
    "n_user_clusters = 10\n",
    "\n",
    "clustering_corr = {}\n",
    "\n",
    "for user in range(n_user_clusters):\n",
    "    user_idx = mean_ratings_df[mean_ratings_df[\"Cluster\"] == user][\"userId\"]\n",
    "    for movie in range(n_movie_clusters):\n",
    "        movie_idx = movies_hot_df[movies_hot_df[\"Cluster\"] == movie].index\n",
    "        summ = 0\n",
    "        count = 0\n",
    "        for index, c in ratings_df.iterrows():\n",
    "            if c[\"userId\"] in user_idx and c[\"movieId\"] in movie_idx:\n",
    "                summ += c[\"rating\"]\n",
    "                count += 1\n",
    "        avg = summ / count\n",
    "        clustering_corr[f\"{user} {movie}\"] = avg"
   ],
   "metadata": {
    "collapsed": false,
    "ExecuteTime": {
     "end_time": "2024-05-27T19:03:10.929600400Z",
     "start_time": "2024-05-27T18:56:11.124513600Z"
    }
   },
   "id": "eb149dafb00859bc"
  },
  {
   "cell_type": "code",
   "execution_count": 101,
   "outputs": [
    {
     "data": {
      "text/plain": "          userId  movieId  rating   timestamp  Cluster\n0              1        1     4.0  1225734739        6\n1              1      110     4.0  1225865086        6\n2              1      158     4.0  1225733503        6\n3              1      260     4.5  1225735204        6\n4              1      356     5.0  1225735119        6\n...          ...      ...     ...         ...      ...\n33832157  330975     8340     2.0  1091583256        8\n33832158  330975     8493     2.5  1091585709        8\n33832159  330975     8622     4.0  1091581777        8\n33832160  330975     8665     3.0  1091581765        8\n33832161  330975     8783     2.5  1091581799        8\n\n[33832162 rows x 5 columns]",
      "text/html": "<div>\n<style scoped>\n    .dataframe tbody tr th:only-of-type {\n        vertical-align: middle;\n    }\n\n    .dataframe tbody tr th {\n        vertical-align: top;\n    }\n\n    .dataframe thead th {\n        text-align: right;\n    }\n</style>\n<table border=\"1\" class=\"dataframe\">\n  <thead>\n    <tr style=\"text-align: right;\">\n      <th></th>\n      <th>userId</th>\n      <th>movieId</th>\n      <th>rating</th>\n      <th>timestamp</th>\n      <th>Cluster</th>\n    </tr>\n  </thead>\n  <tbody>\n    <tr>\n      <th>0</th>\n      <td>1</td>\n      <td>1</td>\n      <td>4.0</td>\n      <td>1225734739</td>\n      <td>6</td>\n    </tr>\n    <tr>\n      <th>1</th>\n      <td>1</td>\n      <td>110</td>\n      <td>4.0</td>\n      <td>1225865086</td>\n      <td>6</td>\n    </tr>\n    <tr>\n      <th>2</th>\n      <td>1</td>\n      <td>158</td>\n      <td>4.0</td>\n      <td>1225733503</td>\n      <td>6</td>\n    </tr>\n    <tr>\n      <th>3</th>\n      <td>1</td>\n      <td>260</td>\n      <td>4.5</td>\n      <td>1225735204</td>\n      <td>6</td>\n    </tr>\n    <tr>\n      <th>4</th>\n      <td>1</td>\n      <td>356</td>\n      <td>5.0</td>\n      <td>1225735119</td>\n      <td>6</td>\n    </tr>\n    <tr>\n      <th>...</th>\n      <td>...</td>\n      <td>...</td>\n      <td>...</td>\n      <td>...</td>\n      <td>...</td>\n    </tr>\n    <tr>\n      <th>33832157</th>\n      <td>330975</td>\n      <td>8340</td>\n      <td>2.0</td>\n      <td>1091583256</td>\n      <td>8</td>\n    </tr>\n    <tr>\n      <th>33832158</th>\n      <td>330975</td>\n      <td>8493</td>\n      <td>2.5</td>\n      <td>1091585709</td>\n      <td>8</td>\n    </tr>\n    <tr>\n      <th>33832159</th>\n      <td>330975</td>\n      <td>8622</td>\n      <td>4.0</td>\n      <td>1091581777</td>\n      <td>8</td>\n    </tr>\n    <tr>\n      <th>33832160</th>\n      <td>330975</td>\n      <td>8665</td>\n      <td>3.0</td>\n      <td>1091581765</td>\n      <td>8</td>\n    </tr>\n    <tr>\n      <th>33832161</th>\n      <td>330975</td>\n      <td>8783</td>\n      <td>2.5</td>\n      <td>1091581799</td>\n      <td>8</td>\n    </tr>\n  </tbody>\n</table>\n<p>33832162 rows × 5 columns</p>\n</div>"
     },
     "execution_count": 101,
     "metadata": {},
     "output_type": "execute_result"
    }
   ],
   "source": [
    "ratings_clustered_df = ratings_df.merge(mean_ratings_df[['userId', 'Cluster']], on='userId', suffixes=('', '_user_cluster'))\n",
    "ratings_clustered_df"
   ],
   "metadata": {
    "collapsed": false,
    "ExecuteTime": {
     "end_time": "2024-05-27T19:04:19.767406100Z",
     "start_time": "2024-05-27T19:04:17.042780700Z"
    }
   },
   "id": "d4bfc174b0d067c"
  },
  {
   "cell_type": "code",
   "execution_count": 102,
   "outputs": [
    {
     "data": {
      "text/plain": "          userId  movieId  rating   timestamp  Cluster  Cluster_movie_cluster\n0              1        1     4.0  1225734739        6                      9\n62             2        1     5.0   835815971        9                      9\n304            7        1     4.0   974518024        4                      9\n653           10        1     3.0  1430666394        4                      9\n852           12        1     5.0   862500738        9                      9\n...          ...      ...     ...         ...      ...                    ...\n33814417  330842   196133     0.5  1671069205        4                      1\n33816126  330852   217236     2.0  1594246738        9                      2\n33821252  330904   228179     4.5  1667167519        2                      1\n33821255  330904   261553     3.5  1667165898        2                      1\n33826846  330922   269782     0.5  1643801069        1                      9\n\n[33832162 rows x 6 columns]",
      "text/html": "<div>\n<style scoped>\n    .dataframe tbody tr th:only-of-type {\n        vertical-align: middle;\n    }\n\n    .dataframe tbody tr th {\n        vertical-align: top;\n    }\n\n    .dataframe thead th {\n        text-align: right;\n    }\n</style>\n<table border=\"1\" class=\"dataframe\">\n  <thead>\n    <tr style=\"text-align: right;\">\n      <th></th>\n      <th>userId</th>\n      <th>movieId</th>\n      <th>rating</th>\n      <th>timestamp</th>\n      <th>Cluster</th>\n      <th>Cluster_movie_cluster</th>\n    </tr>\n  </thead>\n  <tbody>\n    <tr>\n      <th>0</th>\n      <td>1</td>\n      <td>1</td>\n      <td>4.0</td>\n      <td>1225734739</td>\n      <td>6</td>\n      <td>9</td>\n    </tr>\n    <tr>\n      <th>62</th>\n      <td>2</td>\n      <td>1</td>\n      <td>5.0</td>\n      <td>835815971</td>\n      <td>9</td>\n      <td>9</td>\n    </tr>\n    <tr>\n      <th>304</th>\n      <td>7</td>\n      <td>1</td>\n      <td>4.0</td>\n      <td>974518024</td>\n      <td>4</td>\n      <td>9</td>\n    </tr>\n    <tr>\n      <th>653</th>\n      <td>10</td>\n      <td>1</td>\n      <td>3.0</td>\n      <td>1430666394</td>\n      <td>4</td>\n      <td>9</td>\n    </tr>\n    <tr>\n      <th>852</th>\n      <td>12</td>\n      <td>1</td>\n      <td>5.0</td>\n      <td>862500738</td>\n      <td>9</td>\n      <td>9</td>\n    </tr>\n    <tr>\n      <th>...</th>\n      <td>...</td>\n      <td>...</td>\n      <td>...</td>\n      <td>...</td>\n      <td>...</td>\n      <td>...</td>\n    </tr>\n    <tr>\n      <th>33814417</th>\n      <td>330842</td>\n      <td>196133</td>\n      <td>0.5</td>\n      <td>1671069205</td>\n      <td>4</td>\n      <td>1</td>\n    </tr>\n    <tr>\n      <th>33816126</th>\n      <td>330852</td>\n      <td>217236</td>\n      <td>2.0</td>\n      <td>1594246738</td>\n      <td>9</td>\n      <td>2</td>\n    </tr>\n    <tr>\n      <th>33821252</th>\n      <td>330904</td>\n      <td>228179</td>\n      <td>4.5</td>\n      <td>1667167519</td>\n      <td>2</td>\n      <td>1</td>\n    </tr>\n    <tr>\n      <th>33821255</th>\n      <td>330904</td>\n      <td>261553</td>\n      <td>3.5</td>\n      <td>1667165898</td>\n      <td>2</td>\n      <td>1</td>\n    </tr>\n    <tr>\n      <th>33826846</th>\n      <td>330922</td>\n      <td>269782</td>\n      <td>0.5</td>\n      <td>1643801069</td>\n      <td>1</td>\n      <td>9</td>\n    </tr>\n  </tbody>\n</table>\n<p>33832162 rows × 6 columns</p>\n</div>"
     },
     "execution_count": 102,
     "metadata": {},
     "output_type": "execute_result"
    }
   ],
   "source": [
    "ratings_clustered_df = ratings_clustered_df.merge(movies_hot_df[['Cluster']], left_on='movieId', right_index=True, suffixes=('', '_movie_cluster'))\n",
    "ratings_clustered_df"
   ],
   "metadata": {
    "collapsed": false,
    "ExecuteTime": {
     "end_time": "2024-05-27T19:05:13.827680500Z",
     "start_time": "2024-05-27T19:05:02.978412500Z"
    }
   },
   "id": "180ac825bc07efd8"
  },
  {
   "cell_type": "code",
   "execution_count": 103,
   "outputs": [
    {
     "name": "stdout",
     "output_type": "stream",
     "text": [
      "Cluster_movie_cluster         0         1         2         3         4  \\\n",
      "Cluster                                                                   \n",
      "0                      3.675031  3.982965  3.728013  3.894426  4.037184   \n",
      "1                      2.501203  2.955822  2.605789  2.806497  3.024446   \n",
      "2                      4.281988  4.477417  4.338197  4.420701  4.495810   \n",
      "3                      1.311101  1.332141  1.440994  1.349796  1.149961   \n",
      "4                      3.167752  3.550879  3.243169  3.442849  3.635586   \n",
      "5                      4.775610  4.833253  4.787263  4.808381  4.893006   \n",
      "6                      3.951254  4.206287  4.004413  4.133776  4.250565   \n",
      "7                      2.882468  3.300822  2.961220  3.172756  3.390074   \n",
      "8                      2.008568  2.365655  2.132028  2.267168  2.182740   \n",
      "9                      3.426975  3.770643  3.486926  3.671739  3.837882   \n",
      "\n",
      "Cluster_movie_cluster         5         6         7         8         9  \n",
      "Cluster                                                                  \n",
      "0                      3.801797  3.859161  3.682561  3.863933  3.740983  \n",
      "1                      2.589662  2.686137  2.529324  2.797483  2.505037  \n",
      "2                      4.369015  4.449546  4.294299  4.419650  4.355061  \n",
      "3                      1.115385  1.369996  1.368839  1.529127  1.348031  \n",
      "4                      3.286305  3.352769  3.170737  3.400731  3.229710  \n",
      "5                      4.855046  4.837709  4.779013  4.814518  4.791383  \n",
      "6                      4.092504  4.125577  3.953427  4.113439  4.020084  \n",
      "7                      2.998729  3.058969  2.874109  3.137501  2.916118  \n",
      "8                      2.099228  2.157446  2.009055  2.313507  1.881582  \n",
      "9                      3.548586  3.610487  3.426499  3.629942  3.491751  \n"
     ]
    }
   ],
   "source": [
    "# Merge the cluster information back to the original DataFrame\n",
    "# ratings_clustered_df = ratings_df.merge(mean_ratings_df[['userId', 'Cluster']], on='userId', suffixes=('', '_user_cluster'))\n",
    "# ratings_clustered_df = ratings_clustered_df.merge(movies_hot_df[['Cluster']], left_on='movieId', right_index=True, suffixes=('', '_movie_cluster'))\n",
    "\n",
    "# Group by user and movie clusters and calculate the mean rating\n",
    "clustering_corr = ratings_clustered_df.groupby(['Cluster', 'Cluster_movie_cluster'])['rating'].mean().unstack(fill_value=0)\n",
    "\n",
    "print(clustering_corr)"
   ],
   "metadata": {
    "collapsed": false,
    "ExecuteTime": {
     "end_time": "2024-05-27T19:06:54.946386Z",
     "start_time": "2024-05-27T19:06:52.116393500Z"
    }
   },
   "id": "3774918f9b61e8b0"
  },
  {
   "cell_type": "code",
   "execution_count": 114,
   "outputs": [
    {
     "data": {
      "text/plain": "3.675031136535825"
     },
     "execution_count": 114,
     "metadata": {},
     "output_type": "execute_result"
    }
   ],
   "source": [
    "clustering_corr[0][0]"
   ],
   "metadata": {
    "collapsed": false,
    "ExecuteTime": {
     "end_time": "2024-05-27T19:12:54.337703800Z",
     "start_time": "2024-05-27T19:12:54.153323700Z"
    }
   },
   "id": "d1ee716002ffab15"
  },
  {
   "cell_type": "code",
   "execution_count": 108,
   "outputs": [
    {
     "data": {
      "text/plain": "                                                     title  \\\nmovieId                                                      \n1                                         Toy Story (1995)   \n2                                           Jumanji (1995)   \n3                                  Grumpier Old Men (1995)   \n4                                 Waiting to Exhale (1995)   \n5                       Father of the Bride Part II (1995)   \n...                                                    ...   \n288967                State of Siege: Temple Attack (2021)   \n288971                                  Ouija Japan (2021)   \n288975    The Men Who Made the Movies: Howard Hawks (1973)   \n288977                     Skinford: Death Sentence (2023)   \n288983   UNZIPPED: An Autopsy of American Inequality (2...   \n\n         (no genres listed)  Action  Adventure  Animation  Children  Comedy  \\\nmovieId                                                                       \n1                       0.0     0.0        1.0        0.0       1.0     0.0   \n2                       0.0     0.0        0.0        0.0       0.0     1.0   \n3                       0.0     0.0        0.0        0.0       0.0     1.0   \n4                       0.0     0.0        0.0        0.0       0.0     1.0   \n5                       0.0     1.0        0.0        0.0       0.0     0.0   \n...                     ...     ...        ...        ...       ...     ...   \n288967                  NaN     NaN        NaN        NaN       NaN     NaN   \n288971                  NaN     NaN        NaN        NaN       NaN     NaN   \n288975                  NaN     NaN        NaN        NaN       NaN     NaN   \n288977                  NaN     NaN        NaN        NaN       NaN     NaN   \n288983                  NaN     NaN        NaN        NaN       NaN     NaN   \n\n         Crime  Documentary  Drama  ...  Horror  IMAX  Musical  Mystery  \\\nmovieId                             ...                                   \n1          0.0          0.0    0.0  ...     0.0   0.0      0.0      0.0   \n2          0.0          0.0    0.0  ...     0.0   0.0      0.0      0.0   \n3          0.0          0.0    1.0  ...     0.0   0.0      0.0      0.0   \n4          0.0          0.0    0.0  ...     0.0   0.0      0.0      0.0   \n5          1.0          0.0    0.0  ...     0.0   0.0      0.0      0.0   \n...        ...          ...    ...  ...     ...   ...      ...      ...   \n288967     NaN          NaN    NaN  ...     NaN   NaN      NaN      NaN   \n288971     NaN          NaN    NaN  ...     NaN   NaN      NaN      NaN   \n288975     NaN          NaN    NaN  ...     NaN   NaN      NaN      NaN   \n288977     NaN          NaN    NaN  ...     NaN   NaN      NaN      NaN   \n288983     NaN          NaN    NaN  ...     NaN   NaN      NaN      NaN   \n\n         Romance  Sci-Fi  Thriller  War  Western  Cluster  \nmovieId                                                    \n1            0.0     0.0       0.0  0.0      0.0        9  \n2            1.0     0.0       0.0  0.0      0.0        9  \n3            1.0     0.0       0.0  0.0      0.0        0  \n4            0.0     0.0       0.0  0.0      0.0        3  \n5            0.0     0.0       1.0  0.0      0.0        0  \n...          ...     ...       ...  ...      ...      ...  \n288967       NaN     NaN       NaN  NaN      NaN        1  \n288971       NaN     NaN       NaN  NaN      NaN        7  \n288975       NaN     NaN       NaN  NaN      NaN        4  \n288977       NaN     NaN       NaN  NaN      NaN        8  \n288983       NaN     NaN       NaN  NaN      NaN        4  \n\n[86537 rows x 22 columns]",
      "text/html": "<div>\n<style scoped>\n    .dataframe tbody tr th:only-of-type {\n        vertical-align: middle;\n    }\n\n    .dataframe tbody tr th {\n        vertical-align: top;\n    }\n\n    .dataframe thead th {\n        text-align: right;\n    }\n</style>\n<table border=\"1\" class=\"dataframe\">\n  <thead>\n    <tr style=\"text-align: right;\">\n      <th></th>\n      <th>title</th>\n      <th>(no genres listed)</th>\n      <th>Action</th>\n      <th>Adventure</th>\n      <th>Animation</th>\n      <th>Children</th>\n      <th>Comedy</th>\n      <th>Crime</th>\n      <th>Documentary</th>\n      <th>Drama</th>\n      <th>...</th>\n      <th>Horror</th>\n      <th>IMAX</th>\n      <th>Musical</th>\n      <th>Mystery</th>\n      <th>Romance</th>\n      <th>Sci-Fi</th>\n      <th>Thriller</th>\n      <th>War</th>\n      <th>Western</th>\n      <th>Cluster</th>\n    </tr>\n    <tr>\n      <th>movieId</th>\n      <th></th>\n      <th></th>\n      <th></th>\n      <th></th>\n      <th></th>\n      <th></th>\n      <th></th>\n      <th></th>\n      <th></th>\n      <th></th>\n      <th></th>\n      <th></th>\n      <th></th>\n      <th></th>\n      <th></th>\n      <th></th>\n      <th></th>\n      <th></th>\n      <th></th>\n      <th></th>\n      <th></th>\n    </tr>\n  </thead>\n  <tbody>\n    <tr>\n      <th>1</th>\n      <td>Toy Story (1995)</td>\n      <td>0.0</td>\n      <td>0.0</td>\n      <td>1.0</td>\n      <td>0.0</td>\n      <td>1.0</td>\n      <td>0.0</td>\n      <td>0.0</td>\n      <td>0.0</td>\n      <td>0.0</td>\n      <td>...</td>\n      <td>0.0</td>\n      <td>0.0</td>\n      <td>0.0</td>\n      <td>0.0</td>\n      <td>0.0</td>\n      <td>0.0</td>\n      <td>0.0</td>\n      <td>0.0</td>\n      <td>0.0</td>\n      <td>9</td>\n    </tr>\n    <tr>\n      <th>2</th>\n      <td>Jumanji (1995)</td>\n      <td>0.0</td>\n      <td>0.0</td>\n      <td>0.0</td>\n      <td>0.0</td>\n      <td>0.0</td>\n      <td>1.0</td>\n      <td>0.0</td>\n      <td>0.0</td>\n      <td>0.0</td>\n      <td>...</td>\n      <td>0.0</td>\n      <td>0.0</td>\n      <td>0.0</td>\n      <td>0.0</td>\n      <td>1.0</td>\n      <td>0.0</td>\n      <td>0.0</td>\n      <td>0.0</td>\n      <td>0.0</td>\n      <td>9</td>\n    </tr>\n    <tr>\n      <th>3</th>\n      <td>Grumpier Old Men (1995)</td>\n      <td>0.0</td>\n      <td>0.0</td>\n      <td>0.0</td>\n      <td>0.0</td>\n      <td>0.0</td>\n      <td>1.0</td>\n      <td>0.0</td>\n      <td>0.0</td>\n      <td>1.0</td>\n      <td>...</td>\n      <td>0.0</td>\n      <td>0.0</td>\n      <td>0.0</td>\n      <td>0.0</td>\n      <td>1.0</td>\n      <td>0.0</td>\n      <td>0.0</td>\n      <td>0.0</td>\n      <td>0.0</td>\n      <td>0</td>\n    </tr>\n    <tr>\n      <th>4</th>\n      <td>Waiting to Exhale (1995)</td>\n      <td>0.0</td>\n      <td>0.0</td>\n      <td>0.0</td>\n      <td>0.0</td>\n      <td>0.0</td>\n      <td>1.0</td>\n      <td>0.0</td>\n      <td>0.0</td>\n      <td>0.0</td>\n      <td>...</td>\n      <td>0.0</td>\n      <td>0.0</td>\n      <td>0.0</td>\n      <td>0.0</td>\n      <td>0.0</td>\n      <td>0.0</td>\n      <td>0.0</td>\n      <td>0.0</td>\n      <td>0.0</td>\n      <td>3</td>\n    </tr>\n    <tr>\n      <th>5</th>\n      <td>Father of the Bride Part II (1995)</td>\n      <td>0.0</td>\n      <td>1.0</td>\n      <td>0.0</td>\n      <td>0.0</td>\n      <td>0.0</td>\n      <td>0.0</td>\n      <td>1.0</td>\n      <td>0.0</td>\n      <td>0.0</td>\n      <td>...</td>\n      <td>0.0</td>\n      <td>0.0</td>\n      <td>0.0</td>\n      <td>0.0</td>\n      <td>0.0</td>\n      <td>0.0</td>\n      <td>1.0</td>\n      <td>0.0</td>\n      <td>0.0</td>\n      <td>0</td>\n    </tr>\n    <tr>\n      <th>...</th>\n      <td>...</td>\n      <td>...</td>\n      <td>...</td>\n      <td>...</td>\n      <td>...</td>\n      <td>...</td>\n      <td>...</td>\n      <td>...</td>\n      <td>...</td>\n      <td>...</td>\n      <td>...</td>\n      <td>...</td>\n      <td>...</td>\n      <td>...</td>\n      <td>...</td>\n      <td>...</td>\n      <td>...</td>\n      <td>...</td>\n      <td>...</td>\n      <td>...</td>\n      <td>...</td>\n    </tr>\n    <tr>\n      <th>288967</th>\n      <td>State of Siege: Temple Attack (2021)</td>\n      <td>NaN</td>\n      <td>NaN</td>\n      <td>NaN</td>\n      <td>NaN</td>\n      <td>NaN</td>\n      <td>NaN</td>\n      <td>NaN</td>\n      <td>NaN</td>\n      <td>NaN</td>\n      <td>...</td>\n      <td>NaN</td>\n      <td>NaN</td>\n      <td>NaN</td>\n      <td>NaN</td>\n      <td>NaN</td>\n      <td>NaN</td>\n      <td>NaN</td>\n      <td>NaN</td>\n      <td>NaN</td>\n      <td>1</td>\n    </tr>\n    <tr>\n      <th>288971</th>\n      <td>Ouija Japan (2021)</td>\n      <td>NaN</td>\n      <td>NaN</td>\n      <td>NaN</td>\n      <td>NaN</td>\n      <td>NaN</td>\n      <td>NaN</td>\n      <td>NaN</td>\n      <td>NaN</td>\n      <td>NaN</td>\n      <td>...</td>\n      <td>NaN</td>\n      <td>NaN</td>\n      <td>NaN</td>\n      <td>NaN</td>\n      <td>NaN</td>\n      <td>NaN</td>\n      <td>NaN</td>\n      <td>NaN</td>\n      <td>NaN</td>\n      <td>7</td>\n    </tr>\n    <tr>\n      <th>288975</th>\n      <td>The Men Who Made the Movies: Howard Hawks (1973)</td>\n      <td>NaN</td>\n      <td>NaN</td>\n      <td>NaN</td>\n      <td>NaN</td>\n      <td>NaN</td>\n      <td>NaN</td>\n      <td>NaN</td>\n      <td>NaN</td>\n      <td>NaN</td>\n      <td>...</td>\n      <td>NaN</td>\n      <td>NaN</td>\n      <td>NaN</td>\n      <td>NaN</td>\n      <td>NaN</td>\n      <td>NaN</td>\n      <td>NaN</td>\n      <td>NaN</td>\n      <td>NaN</td>\n      <td>4</td>\n    </tr>\n    <tr>\n      <th>288977</th>\n      <td>Skinford: Death Sentence (2023)</td>\n      <td>NaN</td>\n      <td>NaN</td>\n      <td>NaN</td>\n      <td>NaN</td>\n      <td>NaN</td>\n      <td>NaN</td>\n      <td>NaN</td>\n      <td>NaN</td>\n      <td>NaN</td>\n      <td>...</td>\n      <td>NaN</td>\n      <td>NaN</td>\n      <td>NaN</td>\n      <td>NaN</td>\n      <td>NaN</td>\n      <td>NaN</td>\n      <td>NaN</td>\n      <td>NaN</td>\n      <td>NaN</td>\n      <td>8</td>\n    </tr>\n    <tr>\n      <th>288983</th>\n      <td>UNZIPPED: An Autopsy of American Inequality (2...</td>\n      <td>NaN</td>\n      <td>NaN</td>\n      <td>NaN</td>\n      <td>NaN</td>\n      <td>NaN</td>\n      <td>NaN</td>\n      <td>NaN</td>\n      <td>NaN</td>\n      <td>NaN</td>\n      <td>...</td>\n      <td>NaN</td>\n      <td>NaN</td>\n      <td>NaN</td>\n      <td>NaN</td>\n      <td>NaN</td>\n      <td>NaN</td>\n      <td>NaN</td>\n      <td>NaN</td>\n      <td>NaN</td>\n      <td>4</td>\n    </tr>\n  </tbody>\n</table>\n<p>86537 rows × 22 columns</p>\n</div>"
     },
     "execution_count": 108,
     "metadata": {},
     "output_type": "execute_result"
    }
   ],
   "source": [
    "movies_hot_df"
   ],
   "metadata": {
    "collapsed": false,
    "ExecuteTime": {
     "end_time": "2024-05-27T19:10:19.260586Z",
     "start_time": "2024-05-27T19:10:19.156739500Z"
    }
   },
   "id": "941f763f78e979a5"
  },
  {
   "cell_type": "code",
   "execution_count": 115,
   "outputs": [],
   "source": [
    "class ClusteringBasedEstimator(BaseEstimator):\n",
    "    def fit(self, X, y=None):\n",
    "        return self\n",
    "    \n",
    "    def predict(self, X):\n",
    "        return np.array([get_clustering_prediction(user, movie) for user, movie in X])\n",
    "    \n",
    "def get_clustering_prediction(user, movie):\n",
    "    return clustering_corr[int(movies_hot_df.loc[movie]['Cluster'])][int(mean_ratings_df.loc[user]['Cluster'])]"
   ],
   "metadata": {
    "collapsed": false,
    "ExecuteTime": {
     "end_time": "2024-05-27T19:13:25.452714900Z",
     "start_time": "2024-05-27T19:13:25.436449300Z"
    }
   },
   "id": "f04c90f4d2f2ed69"
  },
  {
   "cell_type": "code",
   "execution_count": 117,
   "outputs": [
    {
     "name": "stdout",
     "output_type": "stream",
     "text": [
      "Cross-validated MSE: 1.4078750611104582\n"
     ]
    }
   ],
   "source": [
    "n = 100_000\n",
    "\n",
    "mse_scorer = make_scorer(custom_scorer, greater_is_better=False)\n",
    "X = ratings_df[['userId', 'movieId']].values[:n]\n",
    "y = ratings_df['rating'].values[:n]\n",
    "estimator = ClusteringBasedEstimator()\n",
    "scores = cross_val_score(estimator, X, y, scoring=mse_scorer, cv=5)\n",
    "\n",
    "print(f\"Cross-validated MSE: {-scores.mean()}\")"
   ],
   "metadata": {
    "collapsed": false,
    "ExecuteTime": {
     "end_time": "2024-05-27T19:13:47.634979200Z",
     "start_time": "2024-05-27T19:13:34.047430200Z"
    }
   },
   "id": "d4159148a79a51ca"
  },
  {
   "cell_type": "code",
   "execution_count": null,
   "outputs": [],
   "source": [],
   "metadata": {
    "collapsed": false
   },
   "id": "dd42ec2570201b53"
  }
 ],
 "metadata": {
  "kernelspec": {
   "display_name": "Python 3",
   "language": "python",
   "name": "python3"
  },
  "language_info": {
   "codemirror_mode": {
    "name": "ipython",
    "version": 2
   },
   "file_extension": ".py",
   "mimetype": "text/x-python",
   "name": "python",
   "nbconvert_exporter": "python",
   "pygments_lexer": "ipython2",
   "version": "2.7.6"
  }
 },
 "nbformat": 4,
 "nbformat_minor": 5
}
