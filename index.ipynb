{
 "cells": [
  {
   "cell_type": "code",
   "execution_count": null,
   "id": "initial_id",
   "metadata": {
    "collapsed": true
   },
   "outputs": [],
   "source": [
    "import pandas as pd\n",
    "import numpy as np\n",
    "from sklearn.model_selection import cross_val_score\n",
    "from sklearn.metrics import make_scorer\n",
    "from sklearn.base import BaseEstimator\n",
    "from sklearn.preprocessing import MultiLabelBinarizer\n",
    "from sklearn.preprocessing import StandardScaler\n",
    "from sklearn.preprocessing import OneHotEncoder, StandardScaler\n",
    "import pandas as pd\n",
    "from sklearn.cluster import KMeans"
   ]
  },
  {
   "cell_type": "code",
   "execution_count": null,
   "outputs": [],
   "source": [
    "ratings_df = pd.read_csv(\"data/ratings.csv\")\n",
    "movies_df = pd.read_csv(\"data/movies.csv\", index_col=\"movieId\")"
   ],
   "metadata": {
    "collapsed": false
   },
   "id": "c94340d85d9df890"
  },
  {
   "cell_type": "markdown",
   "source": [
    "### Rule based"
   ],
   "metadata": {
    "collapsed": false
   },
   "id": "545dd01d5229b45c"
  },
  {
   "cell_type": "code",
   "execution_count": null,
   "outputs": [],
   "source": [
    "def rule_based_prediction(user_id, movie_id):\n",
    "    user_avg_rating = ratings_df[ratings_df['userId'] == user_id]['rating'].mean()\n",
    "    film_avg_rating = ratings_df[ratings_df['movieId'] == movie_id]['rating'].mean()\n",
    "    \n",
    "    genres = movies_df.loc[movie_id][\"genres\"].split(\"|\")\n",
    "    movie_idx = set()\n",
    "    for genre in genres:\n",
    "        movie_idx.update(movies_df[movies_df[\"genres\"].str.contains(genre)].index)\n",
    "    genre_avg_rating = ratings_df[ratings_df['movieId'].isin(movie_idx)]['rating'].mean()\n",
    "\n",
    "    return (user_avg_rating + film_avg_rating + genre_avg_rating) / 3"
   ],
   "metadata": {
    "collapsed": false
   },
   "id": "2f1fbe810fe3fcd6"
  },
  {
   "cell_type": "code",
   "execution_count": null,
   "outputs": [],
   "source": [
    "%%time\n",
    "rule_based_prediction(1, 50)"
   ],
   "metadata": {
    "collapsed": false
   },
   "id": "f83051e0b6149a32"
  },
  {
   "cell_type": "code",
   "execution_count": null,
   "outputs": [],
   "source": [
    "class RuleBasedEstimator(BaseEstimator):\n",
    "    def fit(self, X, y=None):\n",
    "        return self\n",
    "    \n",
    "    def predict(self, X):\n",
    "        return np.array([rule_based_prediction(user, movie) for user, movie in X])\n",
    "\n",
    "def custom_scorer(y_true, y_pred):\n",
    "    return np.mean((y_true - y_pred) ** 2)  # Mean Squared Error"
   ],
   "metadata": {
    "collapsed": false
   },
   "id": "b9c0bb66ace9eb2d"
  },
  {
   "cell_type": "code",
   "execution_count": null,
   "outputs": [],
   "source": [
    "n = 100\n",
    "\n",
    "mse_scorer = make_scorer(custom_scorer, greater_is_better=False)\n",
    "X = ratings_df[['userId', 'movieId']].values[:n]\n",
    "y = ratings_df['rating'].values[:n]\n",
    "estimator = RuleBasedEstimator()\n",
    "scores = cross_val_score(estimator, X, y, scoring=mse_scorer, cv=5)\n",
    "\n",
    "print(f\"Cross-validated MSE: {-scores.mean()}\")"
   ],
   "metadata": {
    "collapsed": false
   },
   "id": "1ea98211dd23b72f"
  },
  {
   "cell_type": "code",
   "execution_count": null,
   "outputs": [],
   "source": [
    "n_movie_clusters = 10\n",
    "n_user_clusters = 100"
   ],
   "metadata": {
    "collapsed": false
   },
   "id": "88d07711eb8a5f81"
  },
  {
   "cell_type": "code",
   "execution_count": null,
   "outputs": [],
   "source": [
    "# Step 1: Split the string values\n",
    "movies_df['Genres_Split'] = movies_df['genres'].apply(lambda x: x.split('|'))\n",
    "\n",
    "# Step 2: Create a binary matrix (One-Hot Encoding)\n",
    "mlb = MultiLabelBinarizer()\n",
    "binary_matrix = mlb.fit_transform(movies_df['Genres_Split'])\n",
    "binary_df = pd.DataFrame(binary_matrix, columns=mlb.classes_)\n",
    "\n",
    "# Combine the original DataFrame with the binary matrix\n",
    "movies_hot_df = movies_df.join(binary_df)\n",
    "\n",
    "# Drop the original and split columns as they are no longer needed\n",
    "movies_hot_df = movies_hot_df.drop(['genres', 'Genres_Split'], axis=1)\n",
    "\n",
    "# Step 3: Clustering\n",
    "# For demonstration, we'll use K-means with 2 clusters\n",
    "kmeans = KMeans(n_clusters=n_movie_clusters, random_state=42)\n",
    "movies_hot_df['Cluster'] = kmeans.fit_predict(binary_df)"
   ],
   "metadata": {
    "collapsed": false
   },
   "id": "585b42935226be41"
  },
  {
   "cell_type": "code",
   "execution_count": null,
   "outputs": [],
   "source": [
    "movies_hot_df.head()"
   ],
   "metadata": {
    "collapsed": false
   },
   "id": "8ad79e2e2eafbb79"
  },
  {
   "cell_type": "code",
   "execution_count": null,
   "outputs": [],
   "source": [
    "ratings_with_clusters = ratings_df.merge(movies_hot_df, left_on='movieId', right_index=True)\n",
    "\n",
    "# Group by userId and cluster to calculate counts and sums\n",
    "user_cluster_stats = ratings_with_clusters.groupby(['userId', 'Cluster'])['rating'].agg(['count', 'sum']).reset_index()\n",
    "\n",
    "# Pivot the table to get counts and sums for each cluster as separate columns\n",
    "user_cluster_pivot = user_cluster_stats.pivot(index='userId', columns='Cluster', values=['count', 'sum']).fillna(0)\n",
    "\n",
    "# Flatten the MultiIndex columns\n",
    "user_cluster_pivot.columns = [f'Cluster_{stat}_{cluster}' for stat, cluster in user_cluster_pivot.columns]\n",
    "\n",
    "# Calculate the mean ratings\n",
    "for cluster in range(n_movie_clusters):\n",
    "    count_col = f'Cluster_count_{cluster}'\n",
    "    sum_col = f'Cluster_sum_{cluster}'\n",
    "    mean_col = f'Cluster_mean_{cluster}'\n",
    "    if count_col in user_cluster_pivot.columns and sum_col in user_cluster_pivot.columns:\n",
    "        user_cluster_pivot[mean_col] = user_cluster_pivot[sum_col] / user_cluster_pivot[count_col]\n",
    "    else:\n",
    "        user_cluster_pivot[count_col] = 0\n",
    "        user_cluster_pivot[sum_col] = 0\n",
    "        user_cluster_pivot[mean_col] = 0\n",
    "\n",
    "# Fill NaNs with 0s\n",
    "user_cluster_pivot = user_cluster_pivot.fillna(0)\n",
    "\n",
    "# Reset the index to make userId a column again\n",
    "users_df = user_cluster_pivot.reset_index()"
   ],
   "metadata": {
    "collapsed": false
   },
   "id": "9f7cfe2dcf025bd9"
  },
  {
   "cell_type": "code",
   "execution_count": null,
   "outputs": [],
   "source": [
    "users_df.head()"
   ],
   "metadata": {
    "collapsed": false
   },
   "id": "5f182f7d790d454f"
  },
  {
   "cell_type": "code",
   "execution_count": null,
   "outputs": [],
   "source": [
    "# Identify the columns to standardize\n",
    "columns_to_standardize = [col for col in users_df.columns if 'Cluster_' in col]\n",
    "\n",
    "# Apply the scaler to these columns\n",
    "users_df[columns_to_standardize] = StandardScaler().fit_transform(users_df[columns_to_standardize])"
   ],
   "metadata": {
    "collapsed": false
   },
   "id": "5f0ded8358c8de41"
  },
  {
   "cell_type": "code",
   "execution_count": null,
   "outputs": [],
   "source": [
    "users_df.head()"
   ],
   "metadata": {
    "collapsed": false
   },
   "id": "e770d57b4cece753"
  },
  {
   "cell_type": "code",
   "execution_count": null,
   "outputs": [],
   "source": [
    "# # Group by 'userId' and calculate mean rating\n",
    "# mean_ratings = ratings_df.groupby('userId')['rating'].mean().reset_index()\n",
    "# \n",
    "# # Convert to DataFrame\n",
    "# mean_ratings_df = pd.DataFrame(mean_ratings)\n",
    "\n",
    "# Apply KMeans clustering\n",
    "kmeans = KMeans(n_clusters=n_user_clusters, random_state=42)\n",
    "users_df['User_cluster'] = kmeans.fit_predict(users_df[[col for col in users_df.columns if 'Cluster_mean' in col]])"
   ],
   "metadata": {
    "collapsed": false
   },
   "id": "e48611042f2f53c"
  },
  {
   "cell_type": "code",
   "execution_count": null,
   "outputs": [],
   "source": [
    "users_df.head()\n",
    "# users_df[\"User_cluster\"].unique()"
   ],
   "metadata": {
    "collapsed": false
   },
   "id": "549cb3dc9ddcda9b"
  },
  {
   "cell_type": "code",
   "execution_count": null,
   "outputs": [],
   "source": [
    "# clustering_corr = {}\n",
    "# \n",
    "# for user in range(n_user_clusters):\n",
    "#     user_idx = mean_ratings_df[mean_ratings_df[\"Cluster\"] == user][\"userId\"]\n",
    "#     for movie in range(n_movie_clusters):\n",
    "#         movie_idx = movies_hot_df[movies_hot_df[\"Cluster\"] == movie].index\n",
    "#         summ = 0\n",
    "#         count = 0\n",
    "#         for index, c in ratings_df.iterrows():\n",
    "#             if c[\"userId\"] in user_idx and c[\"movieId\"] in movie_idx:\n",
    "#                 summ += c[\"rating\"]\n",
    "#                 count += 1\n",
    "#         avg = summ / count\n",
    "#         clustering_corr[f\"{user} {movie}\"] = avg"
   ],
   "metadata": {
    "collapsed": false
   },
   "id": "eb149dafb00859bc"
  },
  {
   "cell_type": "code",
   "execution_count": null,
   "outputs": [],
   "source": [
    "ratings_clustered_df = ratings_df.merge(users_df[['userId', 'User_cluster']], on='userId')\n",
    "ratings_clustered_df.head()"
   ],
   "metadata": {
    "collapsed": false
   },
   "id": "d4bfc174b0d067c"
  },
  {
   "cell_type": "code",
   "execution_count": null,
   "outputs": [],
   "source": [
    "ratings_clustered_df = ratings_clustered_df.merge(movies_hot_df[['Cluster']], left_on='movieId', right_index=True)\n",
    "ratings_clustered_df.head()"
   ],
   "metadata": {
    "collapsed": false
   },
   "id": "180ac825bc07efd8"
  },
  {
   "cell_type": "code",
   "execution_count": null,
   "outputs": [],
   "source": [
    "clustering_corr = ratings_clustered_df.groupby(['User_cluster', 'Cluster'])['rating'].mean().unstack(fill_value=0)\n",
    "\n",
    "print(clustering_corr)"
   ],
   "metadata": {
    "collapsed": false
   },
   "id": "3774918f9b61e8b0"
  },
  {
   "cell_type": "code",
   "execution_count": null,
   "outputs": [],
   "source": [
    "clustering_corr[0][0]"
   ],
   "metadata": {
    "collapsed": false
   },
   "id": "d1ee716002ffab15"
  },
  {
   "cell_type": "code",
   "execution_count": null,
   "outputs": [],
   "source": [
    "weight_combinations = []\n",
    "coefs = [x/20 for x in range(0, 21)]\n",
    "for coef_a in coefs:\n",
    "    for coef_b in coefs:\n",
    "        for coef_c in coefs:\n",
    "            if coef_a + coef_b + coef_c > 1:\n",
    "                continue\n",
    "            coef_d = 1 - coef_a - coef_b - coef_c\n",
    "            weight_combinations.append((coef_a, coef_b, coef_c, coef_d))"
   ],
   "metadata": {
    "collapsed": false
   },
   "id": "527e4515e33eb493"
  },
  {
   "cell_type": "code",
   "execution_count": null,
   "outputs": [],
   "source": [
    "len(weight_combinations) / 66 * 4"
   ],
   "metadata": {
    "collapsed": false
   },
   "id": "d92cba1f6f1554b9"
  },
  {
   "cell_type": "code",
   "execution_count": null,
   "outputs": [],
   "source": [
    "movies_hot_df"
   ],
   "metadata": {
    "collapsed": false
   },
   "id": "941f763f78e979a5"
  },
  {
   "cell_type": "code",
   "execution_count": null,
   "outputs": [],
   "source": [
    "class ClusteringBasedEstimator(BaseEstimator):\n",
    "    def fit(self, X, y=None):\n",
    "        return self\n",
    "    \n",
    "    def predict(self, X):\n",
    "        return np.array([get_clustering_prediction(user, movie) for user, movie in X])\n",
    "    \n",
    "def get_clustering_prediction(user, movie):\n",
    "    return clustering_corr[int(movies_hot_df.loc[movie]['Cluster'])][int(users_df.loc[user]['User_cluster'])]"
   ],
   "metadata": {
    "collapsed": false
   },
   "id": "f04c90f4d2f2ed69"
  },
  {
   "cell_type": "code",
   "execution_count": null,
   "outputs": [],
   "source": [],
   "metadata": {
    "collapsed": false
   },
   "id": "158e0161aa21c2de"
  },
  {
   "cell_type": "code",
   "execution_count": null,
   "outputs": [],
   "source": [
    "n = 100_000\n",
    "\n",
    "mse_scorer = make_scorer(custom_scorer, greater_is_better=False)\n",
    "X = ratings_df[['userId', 'movieId']].values[:n]\n",
    "y = ratings_df['rating'].values[:n]\n",
    "estimator = ClusteringBasedEstimator()\n",
    "scores = cross_val_score(estimator, X, y, scoring=mse_scorer, cv=5)\n",
    "\n",
    "print(f\"Cross-validated MSE: {-scores.mean()}\")"
   ],
   "metadata": {
    "collapsed": false
   },
   "id": "d4159148a79a51ca"
  },
  {
   "cell_type": "code",
   "execution_count": null,
   "outputs": [],
   "source": [],
   "metadata": {
    "collapsed": false
   },
   "id": "dd42ec2570201b53"
  },
  {
   "cell_type": "markdown",
   "source": [
    "# New solutions"
   ],
   "metadata": {
    "collapsed": false
   },
   "id": "7f5054e20e887"
  },
  {
   "cell_type": "code",
   "execution_count": null,
   "outputs": [],
   "source": [
    "n_movie_clusters = 10\n",
    "n_user_clusters = 100\n",
    "\n",
    "\n",
    "movies_df['Genres_Split'] = movies_df['genres'].apply(lambda x: x.split('|'))\n",
    "mlb = MultiLabelBinarizer()\n",
    "binary_matrix = mlb.fit_transform(movies_df['Genres_Split'])\n",
    "binary_df = pd.DataFrame(binary_matrix, columns=mlb.classes_)\n",
    "\n",
    "movies_hot_df = movies_df.join(binary_df)\n",
    "movies_hot_df = movies_hot_df.drop(['genres', 'Genres_Split'], axis=1)\n",
    "kmeans = KMeans(n_clusters=n_movie_clusters, random_state=42)\n",
    "movies_hot_df['Cluster'] = kmeans.fit_predict(binary_df)\n",
    "ratings_with_clusters = ratings_df.merge(movies_hot_df, left_on='movieId', right_index=True)\n",
    "\n",
    "user_cluster_stats = ratings_with_clusters.groupby(['userId', 'Cluster'])['rating'].agg(['count', 'sum']).reset_index()\n",
    "user_cluster_pivot = user_cluster_stats.pivot(index='userId', columns='Cluster', values=['count', 'sum']).fillna(0)\n",
    "user_cluster_pivot.columns = [f'Cluster_{stat}_{cluster}' for stat, cluster in user_cluster_pivot.columns]\n",
    "\n",
    "for cluster in range(n_movie_clusters):\n",
    "    count_col = f'Cluster_count_{cluster}'\n",
    "    sum_col = f'Cluster_sum_{cluster}'\n",
    "    mean_col = f'Cluster_mean_{cluster}'\n",
    "    if count_col in user_cluster_pivot.columns and sum_col in user_cluster_pivot.columns:\n",
    "        user_cluster_pivot[mean_col] = user_cluster_pivot[sum_col] / user_cluster_pivot[count_col]\n",
    "    else:\n",
    "        user_cluster_pivot[count_col] = 0\n",
    "        user_cluster_pivot[sum_col] = 0\n",
    "        user_cluster_pivot[mean_col] = 0\n",
    "\n",
    "user_cluster_pivot = user_cluster_pivot.fillna(0)\n",
    "users_df = user_cluster_pivot.reset_index()"
   ],
   "metadata": {
    "collapsed": false
   },
   "id": "a34bf88ddee3f1fc"
  },
  {
   "cell_type": "code",
   "execution_count": null,
   "outputs": [],
   "source": [
    "users_df.set_index(\"userId\", inplace=True)\n",
    "users_df.head()"
   ],
   "metadata": {
    "collapsed": false
   },
   "id": "e674fa9cf58a8381"
  },
  {
   "cell_type": "code",
   "execution_count": null,
   "outputs": [],
   "source": [
    "def cluster_rule_based_prediction(user_id, movie_id):\n",
    "    cluster = movies_hot_df.loc[movie_id][\"Cluster\"]\n",
    "    return round(users_df.loc[user_id][f\"Cluster_mean_{cluster}\"] * 2) / 2\n",
    "\n",
    "class ClusterRuleBasedEstimator(BaseEstimator):\n",
    "    def fit(self, X, y=None):\n",
    "        return self\n",
    "\n",
    "    def predict(self, X):\n",
    "        return np.array([cluster_rule_based_prediction(user, movie) for user, movie in X])\n",
    "\n",
    "def custom_scorer(y_true, y_pred):\n",
    "    return np.mean((y_true - y_pred) ** 2)"
   ],
   "metadata": {
    "collapsed": false
   },
   "id": "ca486c9b1a05ad67"
  },
  {
   "cell_type": "code",
   "execution_count": null,
   "outputs": [],
   "source": [
    "n = 100_000\n",
    "\n",
    "mse_scorer = make_scorer(custom_scorer, greater_is_better=False)\n",
    "X = ratings_df[['userId', 'movieId']].values[:n]\n",
    "y = ratings_df['rating'].values[:n]\n",
    "estimator = ClusterRuleBasedEstimator()\n",
    "scores = cross_val_score(estimator, X, y, scoring=mse_scorer, cv=5)\n",
    "\n",
    "print(f\"Cross-validated MSE: {-scores.mean()}\")"
   ],
   "metadata": {
    "collapsed": false
   },
   "id": "d535c0a9c023edda"
  },
  {
   "cell_type": "code",
   "execution_count": null,
   "outputs": [],
   "source": [
    "def custom_accuracy_scorer(y_true, y_pred, tol=(0.5 + 1e-9)):\n",
    "    accuracy = np.isclose(y_pred, y_true, atol=tol).mean()\n",
    "    return accuracy\n",
    "\n",
    "accuracy_scorer = make_scorer(custom_accuracy_scorer)\n",
    "accuracy_scores = cross_val_score(estimator, X, y, scoring=accuracy_scorer, cv=5)\n",
    "print(f\"Cross-validated Accuracy: {accuracy_scores.mean()}\")\n",
    "\n",
    "estimator.fit(X, y)\n",
    "y_pred = estimator.predict(X)\n",
    "num_exactly_correct = (y_pred == y).sum()\n",
    "print(f\"Number of exactly correct predictions: {num_exactly_correct}\")"
   ],
   "metadata": {
    "collapsed": false
   },
   "id": "f9618e24c12f7dfa"
  },
  {
   "cell_type": "code",
   "execution_count": null,
   "outputs": [],
   "source": [],
   "metadata": {
    "collapsed": false
   },
   "id": "132e850cc2a3f0ca"
  }
 ],
 "metadata": {
  "kernelspec": {
   "display_name": "Python 3",
   "language": "python",
   "name": "python3"
  },
  "language_info": {
   "codemirror_mode": {
    "name": "ipython",
    "version": 2
   },
   "file_extension": ".py",
   "mimetype": "text/x-python",
   "name": "python",
   "nbconvert_exporter": "python",
   "pygments_lexer": "ipython2",
   "version": "2.7.6"
  }
 },
 "nbformat": 4,
 "nbformat_minor": 5
}
