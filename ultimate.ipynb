{
 "cells": [
  {
   "cell_type": "code",
   "execution_count": 1,
   "id": "initial_id",
   "metadata": {
    "collapsed": true,
    "ExecuteTime": {
     "end_time": "2024-05-30T10:54:08.629441800Z",
     "start_time": "2024-05-30T10:54:06.444438100Z"
    }
   },
   "outputs": [],
   "source": [
    "import numpy as np\n",
    "from sklearn.base import BaseEstimator, ClassifierMixin, TransformerMixin\n",
    "from sklearn.preprocessing import MultiLabelBinarizer, StandardScaler\n",
    "import pandas as pd\n",
    "from sklearn.cluster import KMeans\n",
    "from sklearn.model_selection import train_test_split\n",
    "from itertools import islice"
   ]
  },
  {
   "cell_type": "code",
   "execution_count": 2,
   "outputs": [],
   "source": [
    "def validate_input(user_id, movie_id, default=3.5):\n",
    "    user_flag = user_id in users_df.index.values\n",
    "    movie_flag = movie_id in movies_hot_df.index.values\n",
    "    if not user_flag and not movie_flag:\n",
    "        return default\n",
    "    if not user_flag and movie_flag:\n",
    "        return movies_hot_df.loc[movie_id][\"rating_mean\"]\n",
    "    if user_flag and not movie_flag:\n",
    "        return users_df.loc[user_id][\"rating_mean\"]\n",
    "    return None\n",
    "\n",
    "def cluster_user_prediction(user_id, movie_id, rounded=True):\n",
    "    # if res := validate_input(user_id, movie_id):\n",
    "    #     return res\n",
    "    try:\n",
    "        cluster = int(movies_hot_df.loc[movie_id][\"Cluster\"])\n",
    "        user_pred = users_df.loc[user_id][f\"Cluster_mean_{cluster}\"]\n",
    "        return round(user_pred * 2) / 2 if rounded else user_pred\n",
    "    except:\n",
    "        return 3.5\n",
    "\n",
    "def film_prediction(user_id, movie_id, rounded=True):\n",
    "    # if res := validate_input(user_id, movie_id):\n",
    "    #     return res\n",
    "    try:\n",
    "        validate_input(user_id, movie_id)\n",
    "        film_pred = movies_hot_df.loc[movie_id][\"rating_mean\"]\n",
    "        return round(film_pred * 2) / 2 if rounded else film_pred\n",
    "    except:\n",
    "        return 3.5\n",
    "\n",
    "def genre_prediction(X, rounded=True):\n",
    "    # if res := validate_input(user_id, movie_id):\n",
    "    #     return res\n",
    "    # try:\n",
    "    #     movie_genres = movies_hot_rule_df.loc[movie_id][\"Genres_Split\"]\n",
    "    #     movie_genres = [\"average_rating_\"+x for x in movie_genres]\n",
    "    #     res = user_genre_df.loc[user_id][movie_genres].mean()\n",
    "    #     return round(res * 2) / 2 if rounded else res\n",
    "    # except:\n",
    "    #     return 3.5\n",
    "    # try:\n",
    "    movie_genres = movies_hot_rule_df.loc[X[\"movieId\"]][\"Genres_Split\"]\n",
    "    print(type(movie_genres))\n",
    "    movie_genres.apply(lambda cell: [\"average_rating_\"+x for x in cell])\n",
    "    res = user_genre_df.loc[user_idd][movie_genres].mean()\n",
    "    return round(res * 2) / 2 if rounded else res\n",
    "    # except:\n",
    "    #     return 3.5\n",
    "\n",
    "class ClusterRuleBasedEstimator(BaseEstimator):\n",
    "    def fit(self, X, y=None):\n",
    "        return self\n",
    "\n",
    "    def predict(self, X):\n",
    "        return np.array([cluster_user_prediction(user, movie) for user, movie in X])\n",
    "\n",
    "def custom_mse_scorer(y_true, y_pred):\n",
    "    return np.mean((y_true - y_pred) ** 2)\n",
    "\n",
    "def custom_mae_scorer(y_true, y_pred):\n",
    "    return np.mean(abs(y_true - y_pred))\n",
    "\n",
    "def custom_accuracy_scorer(y_true, y_pred, tol=(0.5 + 1e-9)):\n",
    "    accuracy = np.isclose(y_pred, y_true, atol=tol).mean()\n",
    "    return accuracy"
   ],
   "metadata": {
    "collapsed": false,
    "ExecuteTime": {
     "end_time": "2024-05-30T10:54:09.198241200Z",
     "start_time": "2024-05-30T10:54:09.180287100Z"
    }
   },
   "id": "10c34b718bfe3511"
  },
  {
   "cell_type": "code",
   "execution_count": 3,
   "outputs": [],
   "source": [
    "class GenreBasedClassifier(BaseEstimator, ClassifierMixin):\n",
    "    def __init__(self, movies_hot_rule_df):\n",
    "        self.user_genre_df = None\n",
    "        self.movies_hot_rule_df = movies_hot_rule_df\n",
    "        \n",
    "    def fit(self, X, y=None):\n",
    "        ratings_train_df = pd.concat([X, y], axis=1)\n",
    "        self.user_genre_df = pd.DataFrame({\"userId\": ratings_train_df[\"userId\"].unique()})\n",
    "        genres = self.movies_hot_rule_df[\"Genres_Split\"].explode().unique()\n",
    "        \n",
    "        for genre in genres:\n",
    "            self.user_genre_df[genre] = pd.Series(np.zeros(self.user_genre_df.shape[0]))\n",
    "            self.user_genre_df[\"count_\"+genre] = pd.Series(np.zeros(self.user_genre_df.shape[0]))\n",
    "        \n",
    "        self.user_genre_df.set_index(\"userId\", inplace=True)\n",
    "        \n",
    "        movies_exploded_df = self.movies_hot_rule_df.explode('Genres_Split').rename(columns={'Genres_Split': 'genre'})\n",
    "        merged_df = ratings_train_df.merge(movies_exploded_df, on='movieId')\n",
    "        \n",
    "        agg_df = merged_df.groupby(['userId', 'genre']).agg(\n",
    "            total_rating=('rating', 'sum'),\n",
    "            count=('rating', 'count')\n",
    "        ).reset_index()\n",
    "        \n",
    "        agg_df['average_rating'] = agg_df['total_rating'] / agg_df['count']\n",
    "        \n",
    "        self.user_genre_df = agg_df.pivot(index='userId', columns='genre', values=['average_rating', 'count'])\n",
    "        self.user_genre_df.columns = [f'{stat}_{genre}' for stat, genre in self.user_genre_df.columns]\n",
    "        self.user_genre_df = self.user_genre_df.reset_index()\n",
    "        self.user_genre_df.fillna(3.5, inplace=True)\n",
    "        self.user_genre_df.drop([\"count_\"+col for col in genres], axis=1, inplace=True)\n",
    "        self.user_genre_df.set_index(\"userId\", inplace=True)\n",
    "        \n",
    "        return self\n",
    "        \n",
    "    def predict(self, X, rounded=True):\n",
    "        y_pred = []\n",
    "        for i, row in X.iterrows():\n",
    "            y_pred.append(self._predict(row[\"userId\"], row[\"movieId\"], rounded))\n",
    "        return y_pred\n",
    "        \n",
    "    def _predict(self, user_id, movie_id, rounded=True):\n",
    "        try:\n",
    "            movie_genres = self.movies_hot_rule_df.loc[movie_id][\"Genres_Split\"]\n",
    "            movie_genres = [\"average_rating_\"+x for x in movie_genres]\n",
    "            res = self.user_genre_df.loc[user_id][movie_genres].mean()\n",
    "            return round(res * 2) / 2 if rounded else res\n",
    "        except:\n",
    "            return 3.5\n",
    "\n",
    "class PreProcessingBase(BaseEstimator, TransformerMixin):\n",
    "    def fit(self, X, y=None):\n",
    "        return self\n",
    "    \n",
    "    def transform(self, X):     \n",
    "        X['Genres_Split'] = X['genres'].apply(lambda x: x.split('|'))\n",
    "        mlb = MultiLabelBinarizer()\n",
    "        binary_matrix = mlb.fit_transform(X['Genres_Split'])\n",
    "        binary_df = pd.DataFrame(binary_matrix, columns=mlb.classes_)\n",
    "        movies_hot_rule_df = X.join(binary_df)\n",
    "        return movies_hot_rule_df\n",
    "    \n",
    "    \n",
    "class PreProcessingAggregated(PreProcessingBase):\n",
    "    def fit(self, X, y=None):\n",
    "        return self\n",
    "    \n",
    "    def transform(self, X):     \n",
    "        movies_hot_rule_df = super().transform(X)\n",
    "        ...\n",
    "        return ..."
   ],
   "metadata": {
    "collapsed": false,
    "ExecuteTime": {
     "end_time": "2024-05-30T10:54:10.608336500Z",
     "start_time": "2024-05-30T10:54:10.601362600Z"
    }
   },
   "id": "c5cceff0f1ba75ca"
  },
  {
   "cell_type": "code",
   "execution_count": 4,
   "outputs": [],
   "source": [
    "ratings_df = pd.read_csv(\"data/ratings.csv\")\n",
    "movies_df = pd.read_csv(\"data/movies.csv\", index_col=\"movieId\")\n",
    "\n",
    "X = ratings_df.drop([\"rating\"], axis=1)\n",
    "y = ratings_df[\"rating\"]\n",
    "\n",
    "X_train, X_test, y_train, y_test = train_test_split(X, y, train_size=0.9, random_state=42)\n",
    "ratings_train_df = pd.concat([X_train, y_train], axis=1)\n",
    "ratings_test_df = pd.concat([X_test, y_test], axis=1)\n",
    "\n",
    "movies_hot_rule_df = PreProcessingBase().transform(movies_df)"
   ],
   "metadata": {
    "collapsed": false,
    "ExecuteTime": {
     "end_time": "2024-05-30T10:54:27.654060700Z",
     "start_time": "2024-05-30T10:54:11.811898500Z"
    }
   },
   "id": "851d7b6bf19788bd"
  },
  {
   "cell_type": "code",
   "execution_count": 5,
   "outputs": [],
   "source": [
    "genre_based_classifier = GenreBasedClassifier(movies_hot_rule_df).fit(X_train, y_train)"
   ],
   "metadata": {
    "collapsed": false,
    "ExecuteTime": {
     "end_time": "2024-05-30T10:56:12.493130Z",
     "start_time": "2024-05-30T10:54:32.071143700Z"
    }
   },
   "id": "73d509c4a1260f8a"
  },
  {
   "cell_type": "code",
   "execution_count": 6,
   "outputs": [
    {
     "name": "stdout",
     "output_type": "stream",
     "text": [
      "MSE: 0.863739474299469\n",
      "MAE: 0.7136988382163852\n"
     ]
    }
   ],
   "source": [
    "ratings_test_validate_df = ratings_test_df.sample(frac=1, random_state=42)\n",
    "ratings_test_validate_df = ratings_test_validate_df[:100_000]\n",
    "y_true = ratings_test_validate_df[\"rating\"].values[:100_000]\n",
    "genre_prediction_arr = genre_based_classifier.predict(ratings_test_validate_df, False)\n",
    "\n",
    "mse = custom_mse_scorer(np.array(genre_prediction_arr), np.array(y_true))\n",
    "mae = custom_mae_scorer(np.array(genre_prediction_arr), np.array(y_true))\n",
    "print(\"MSE:\", mse)\n",
    "print(\"MAE:\", mae)"
   ],
   "metadata": {
    "collapsed": false,
    "ExecuteTime": {
     "end_time": "2024-05-30T10:56:58.769523700Z",
     "start_time": "2024-05-30T10:56:18.147662500Z"
    }
   },
   "id": "e79df23d96884003"
  },
  {
   "cell_type": "markdown",
   "source": [
    "# Testing"
   ],
   "metadata": {
    "collapsed": false
   },
   "id": "75df1b710a65f4d2"
  },
  {
   "cell_type": "code",
   "execution_count": null,
   "outputs": [],
   "source": [
    "# ratings_df = pd.read_csv(\"data/ratings.csv\")\n",
    "# movies_df = pd.read_csv(\"data/movies.csv\", index_col=\"movieId\")\n",
    "# \n",
    "# X = ratings_df.drop([\"rating\"], axis=1)\n",
    "# y = ratings_df[\"rating\"]\n",
    "# X_train, X_test, y_train, y_test = train_test_split(X, y, train_size=0.9, random_state=42)\n",
    "# ratings_train_df = pd.concat([X_train, y_train], axis=1)\n",
    "# ratings_test_df = pd.concat([X_test, y_test], axis=1)\n",
    "# \n",
    "# \n",
    "# movies_df['Genres_Split'] = movies_df['genres'].apply(lambda x: x.split('|'))\n",
    "# mlb = MultiLabelBinarizer()\n",
    "# binary_matrix = mlb.fit_transform(movies_df['Genres_Split'])\n",
    "# binary_df = pd.DataFrame(binary_matrix, columns=mlb.classes_)\n",
    "# movies_hot_rule_df = movies_df.join(binary_df)"
   ],
   "metadata": {
    "collapsed": false
   },
   "id": "815c585daf8a1484"
  },
  {
   "cell_type": "code",
   "execution_count": null,
   "outputs": [],
   "source": [
    "movie_genres = movies_hot_rule_df.loc[X[\"movieId\"]][\"Genres_Split\"]\n",
    "print(type(movie_genres))"
   ],
   "metadata": {
    "collapsed": false
   },
   "id": "bdf1b3c7f1d1f04d"
  },
  {
   "cell_type": "code",
   "execution_count": null,
   "outputs": [],
   "source": [
    "movie_genres = movie_genres.apply(lambda cell: [\"average_rating_\"+x for x in cell])\n",
    "movie_genres.head()"
   ],
   "metadata": {
    "collapsed": false
   },
   "id": "2b4a353a4e7ec3e8"
  },
  {
   "cell_type": "code",
   "execution_count": null,
   "outputs": [],
   "source": [
    "X"
   ],
   "metadata": {
    "collapsed": false
   },
   "id": "55fc416eaf65a12e"
  },
  {
   "cell_type": "code",
   "execution_count": null,
   "outputs": [],
   "source": [
    "genre_based_classifier.user_genre_df"
   ],
   "metadata": {
    "collapsed": false
   },
   "id": "5f5ce0095333d151"
  },
  {
   "cell_type": "code",
   "execution_count": null,
   "outputs": [],
   "source": [
    "X[\"userId\"].apply(lambda x: (x in genre_based_classifier.user_genre_df.index.values))"
   ],
   "metadata": {
    "collapsed": false
   },
   "id": "a1d523b08e552dab"
  },
  {
   "cell_type": "code",
   "execution_count": null,
   "outputs": [],
   "source": [
    "res = genre_based_classifier.user_genre_df.loc[X[\"userId\"]][movie_genres].mean()"
   ],
   "metadata": {
    "collapsed": false
   },
   "id": "d8ad4741414abb3e"
  },
  {
   "cell_type": "markdown",
   "source": [
    "# Hand clustering by genre"
   ],
   "metadata": {
    "collapsed": false
   },
   "id": "4898dfc41f04deee"
  },
  {
   "cell_type": "code",
   "execution_count": null,
   "outputs": [],
   "source": [
    "user_genre_df = pd.DataFrame({\"userId\": ratings_train_df[\"userId\"].unique()})\n",
    "genres = movies_hot_rule_df[\"Genres_Split\"].explode().unique()\n",
    "\n",
    "for genre in genres:\n",
    "    user_genre_df[genre] = pd.Series(np.zeros(user_genre_df.shape[0]))\n",
    "    user_genre_df[\"count_\"+genre] = pd.Series(np.zeros(user_genre_df.shape[0]))\n",
    "\n",
    "user_genre_df.set_index(\"userId\", inplace=True)\n",
    "\n",
    "movies_df = movies_df.explode('Genres_Split').rename(columns={'Genres_Split': 'genre'})\n",
    "merged_df = ratings_train_df.merge(movies_df, on='movieId')\n",
    "\n",
    "agg_df = merged_df.groupby(['userId', 'genre']).agg(\n",
    "    total_rating=('rating', 'sum'),\n",
    "    count=('rating', 'count')\n",
    ").reset_index()\n",
    "\n",
    "agg_df['average_rating'] = agg_df['total_rating'] / agg_df['count']\n",
    "\n",
    "user_genre_df = agg_df.pivot(index='userId', columns='genre', values=['average_rating', 'count'])\n",
    "user_genre_df.columns = [f'{stat}_{genre}' for stat, genre in user_genre_df.columns]\n",
    "user_genre_df = user_genre_df.reset_index()\n",
    "user_genre_df.fillna(3.5, inplace=True)\n",
    "user_genre_df.drop([\"count_\"+col for col in genres], axis=1, inplace=True)\n",
    "user_genre_df.set_index(\"userId\", inplace=True)"
   ],
   "metadata": {
    "collapsed": false
   },
   "id": "f3dcdea1262408b3"
  },
  {
   "cell_type": "code",
   "execution_count": null,
   "outputs": [],
   "source": [
    "ratings_test_validate_df = ratings_test_df.sample(frac=1, random_state=42)\n",
    "y_true = ratings_test_validate_df[\"rating\"].values[:100_000]\n",
    "\n",
    "genre_prediction_arr = genre_prediction(ratings_test_validate_df[:100_000])\n",
    "\n",
    "mse = custom_mse_scorer(np.array(genre_prediction_arr), np.array(y_true))\n",
    "mae = custom_mae_scorer(np.array(genre_prediction_arr), np.array(y_true))\n",
    "print(\"MSE:\", mse)\n",
    "print(\"MAE:\", mae)"
   ],
   "metadata": {
    "collapsed": false
   },
   "id": "dc691aaba388aa94"
  },
  {
   "cell_type": "code",
   "execution_count": null,
   "outputs": [],
   "source": [
    "# weight_combinations = []\n",
    "# coefs = [x/20 for x in range(0, 21)]\n",
    "# for coef_a in coefs:\n",
    "#     for coef_b in coefs:\n",
    "#         if coef_a + coef_b  > 1:\n",
    "#             continue\n",
    "#         coef_c = 1 - coef_a - coef_b\n",
    "#         weight_combinations.append((coef_a, coef_b, coef_c))"
   ],
   "metadata": {
    "collapsed": false
   },
   "id": "825a9ee47ccd18e6"
  },
  {
   "cell_type": "code",
   "execution_count": null,
   "outputs": [],
   "source": [
    "N_MOVIE_CLUSTERS = 5\n",
    "RATING_MULTIPLIER = 5\n",
    "YEAR_MULTIPLIER = 0.05\n",
    "coef_a, coef_b, coef_c = 0.35, 0.45, 0.2"
   ],
   "metadata": {
    "collapsed": false
   },
   "id": "4be49cf6a31c6fc5"
  },
  {
   "cell_type": "code",
   "execution_count": null,
   "outputs": [],
   "source": [
    "movies_hot_df, users_df = None, None\n",
    "\n",
    "# for N_MOVIE_CLUSTERS in range(2, 11):\n",
    "#     for RATING_MULTIPLIER in range(1, 6):\n",
    "#         for YEAR_MULTIPLIER in range(5, 26, 5):\n",
    "#             YEAR_MULTIPLIER = 1 / YEAR_MULTIPLIER\n",
    "\n",
    "ratings_df = pd.read_csv(\"data/ratings.csv\")\n",
    "movies_df = pd.read_csv(\"data/movies.csv\", index_col=\"movieId\")\n",
    "\n",
    "X = ratings_df.drop([\"rating\"], axis=1)\n",
    "y = ratings_df[\"rating\"]\n",
    "X_train, X_test, y_train, y_test = train_test_split(X, y, train_size=0.9, random_state=42)\n",
    "\n",
    "ratings_train_df = pd.concat([X_train, y_train], axis=1)\n",
    "ratings_test_df = pd.concat([X_test, y_test], axis=1)\n",
    "\n",
    "\n",
    "\n",
    "\n",
    "movies_df['Genres_Split'] = movies_df['genres'].apply(lambda x: x.split('|'))\n",
    "mlb = MultiLabelBinarizer()\n",
    "binary_matrix = mlb.fit_transform(movies_df['Genres_Split'])\n",
    "binary_df = pd.DataFrame(binary_matrix, columns=mlb.classes_)\n",
    "\n",
    "\n",
    "\n",
    "movies_df.reset_index(inplace=True)\n",
    "movies_hot_df = pd.concat([movies_df, binary_df], axis=1)\n",
    "movies_hot_df = movies_hot_df.drop(['genres', 'Genres_Split'], axis=1)\n",
    "movies_hot_df = movies_hot_df.merge(ratings_train_df.groupby(\"movieId\")[\"rating\"].mean().reset_index(), on=\"movieId\")\n",
    "movies_hot_df.rename(columns={\"rating\": \"rating_mean\"}, inplace=True)\n",
    "movies_hot_df = movies_hot_df.drop([\"title\"], axis=1).set_index(\"movieId\")\n",
    "\n",
    "movies_hot_df[\"rating_mean\"] *= RATING_MULTIPLIER\n",
    "\n",
    "movies_hot_year_df = movies_hot_df.copy()\n",
    "years = movies_df[movies_df['movieId'].isin(movies_hot_df.index)]['title'].str.extract(r'\\((\\d{4})\\)')\n",
    "years.index = movies_hot_year_df.index\n",
    "years[0] = pd.to_numeric(years[0], errors='coerce')\n",
    "years = years.fillna(years.median())\n",
    "scaled_years_df = years * YEAR_MULTIPLIER\n",
    "movies_hot_df['year'] = scaled_years_df\n",
    "\n",
    "kmeans = KMeans(n_clusters=N_MOVIE_CLUSTERS, random_state=42)\n",
    "movies_hot_df['Cluster'] = kmeans.fit_predict(movies_hot_df)\n",
    "\n",
    "movies_hot_df[\"rating_mean\"] /= RATING_MULTIPLIER\n",
    "\n",
    "ratings_with_clusters = ratings_train_df.merge(movies_hot_df, left_on='movieId', right_index=True)\n",
    "\n",
    "user_cluster_stats = ratings_with_clusters.groupby(['userId', 'Cluster'])['rating'].agg(['count', 'sum']).reset_index()\n",
    "user_cluster_pivot = user_cluster_stats.pivot(index='userId', columns='Cluster', values=['count', 'sum']).fillna(0)\n",
    "user_cluster_pivot.columns = [f'Cluster_{stat}_{cluster}' for stat, cluster in user_cluster_pivot.columns]\n",
    "\n",
    "for cluster in range(N_MOVIE_CLUSTERS):\n",
    "    count_col = f'Cluster_count_{cluster}'\n",
    "    sum_col = f'Cluster_sum_{cluster}'\n",
    "    mean_col = f'Cluster_mean_{cluster}'\n",
    "    if count_col in user_cluster_pivot.columns and sum_col in user_cluster_pivot.columns:\n",
    "        user_cluster_pivot[mean_col] = user_cluster_pivot[sum_col] / user_cluster_pivot[count_col]\n",
    "    else:\n",
    "        user_cluster_pivot[count_col] = 0\n",
    "        user_cluster_pivot[sum_col] = 0\n",
    "        user_cluster_pivot[mean_col] = 0\n",
    "\n",
    "user_cluster_pivot = user_cluster_pivot.fillna(0)\n",
    "users_df = user_cluster_pivot.reset_index()\n",
    "users_df.set_index(\"userId\", inplace=True)\n",
    "\n",
    "sum_sums = users_df[[\"Cluster_sum_\"+str(x) for x in range(N_MOVIE_CLUSTERS)]].sum(axis=1)\n",
    "count_sums = users_df[[\"Cluster_count_\"+str(x) for x in range(N_MOVIE_CLUSTERS)]].sum(axis=1)\n",
    "users_df[\"rating_mean\"] = sum_sums / count_sums\n",
    "\n",
    "\n",
    "    \n",
    "    # results[(coef_a, coef_b, coef_c)] = {\"mae\": mae, \"mse\": mse}\n",
    "                \n",
    "                \n",
    "                # with open(\"overnight_testing.txt\", \"a\") as file:\n",
    "                #     file.write(str(RATING_MULTIPLIER) + \" \" + str(YEAR_MULTIPLIER) + \" \" + str(N_MOVIE_CLUSTERS) + \"\\n\")\n",
    "                #     file.write(str(sorted(results.items(), key=lambda x: (x[1][\"mse\"], x[1][\"mae\"]))) + \"\\n\")\n",
    "                \n",
    "                # results = {}"
   ],
   "metadata": {
    "collapsed": false
   },
   "id": "747d031ee08978cd"
  },
  {
   "cell_type": "code",
   "execution_count": null,
   "outputs": [],
   "source": [
    "ratings_test_grouped = ratings_train_df.copy()\n",
    "ratings_test_grouped[\"rating_count\"] = np.ones(ratings_test_grouped.shape[0])\n",
    "ratings_test_grouped = ratings_test_grouped.groupby(\"userId\")[\"rating_count\"].sum().to_frame()\n",
    "ratings_test_df = ratings_test_df.merge(ratings_test_grouped, on=\"userId\")\n",
    "ratings_test_df.head()"
   ],
   "metadata": {
    "collapsed": false
   },
   "id": "5365b4766e9bb0bc"
  },
  {
   "cell_type": "code",
   "execution_count": null,
   "outputs": [],
   "source": [
    "cluster_user_prediction_arr = []\n",
    "film_prediction_arr = []\n",
    "genre_prediction_arr = []\n",
    "\n",
    "ratings_test_a_df = ratings_test_df[ratings_test_df[\"rating_count\"] >= 1000]\n",
    "ratings_test_validate_df = ratings_test_a_df.sample(frac=1, random_state=42)\n",
    "y_true = ratings_test_validate_df[\"rating\"].values[:100_000]\n",
    "\n",
    "for i, row in islice(ratings_test_validate_df.iterrows(), 0, 100_000):\n",
    "    cluster_user_prediction_arr.append(cluster_user_prediction(row[\"userId\"], row[\"movieId\"], False))\n",
    "    film_prediction_arr.append(film_prediction(row[\"userId\"], row[\"movieId\"], False))\n",
    "    genre_prediction_arr.append(genre_prediction(row[\"userId\"], row[\"movieId\"], False))\n",
    "    \n",
    "    \n",
    "# results = {}\n",
    "# for coef_a, coef_b, coef_c in weight_combinations:"
   ],
   "metadata": {
    "collapsed": false
   },
   "id": "8634826f572f0c7e"
  },
  {
   "cell_type": "code",
   "execution_count": null,
   "outputs": [],
   "source": [
    "y_pred = []\n",
    "\n",
    "for i in range(100_000):\n",
    "    y_pred.append(\n",
    "        genre_prediction_arr[i] * coef_a +\n",
    "        cluster_user_prediction_arr[i] * coef_b +\n",
    "        film_prediction_arr[i] * coef_c\n",
    "    )\n",
    "\n",
    "mse = custom_mse_scorer(np.array(y_pred), np.array(y_true))\n",
    "mae = custom_mae_scorer(np.array(y_pred), np.array(y_true))\n",
    "print(\"MSE:\", mse)\n",
    "print(\"MAE:\", mae)"
   ],
   "metadata": {
    "collapsed": false
   },
   "id": "a959e578d3a4762f"
  },
  {
   "cell_type": "markdown",
   "source": [
    "# Baseline"
   ],
   "metadata": {
    "collapsed": false
   },
   "id": "2240a32db6eb9465"
  },
  {
   "cell_type": "code",
   "execution_count": null,
   "outputs": [],
   "source": [
    "def custom_mse_scorer(y_true, y_pred):\n",
    "    return np.mean((y_true - y_pred) ** 2)\n",
    "\n",
    "def custom_mae_scorer(y_true, y_pred):\n",
    "    return np.mean(abs(y_true - y_pred))"
   ],
   "metadata": {
    "collapsed": false
   },
   "id": "80c38d9b745e393"
  },
  {
   "cell_type": "code",
   "execution_count": null,
   "outputs": [],
   "source": [
    "ratings_df = pd.read_csv(\"data/ratings.csv\")\n",
    "movies_df = pd.read_csv(\"data/movies.csv\", index_col=\"movieId\")"
   ],
   "metadata": {
    "collapsed": false
   },
   "id": "ecbc0fe98f3904ef"
  },
  {
   "cell_type": "code",
   "execution_count": null,
   "outputs": [],
   "source": [
    "acc_mse = custom_mse_scorer(ratings_df[\"rating\"], np.zeros(ratings_df.shape[0]) + 2.5)\n",
    "acc_mae = custom_mae_scorer(ratings_df[\"rating\"], np.zeros(ratings_df.shape[0]) + 2.5)"
   ],
   "metadata": {
    "collapsed": false
   },
   "id": "fed5a2c381480703"
  },
  {
   "cell_type": "code",
   "execution_count": null,
   "outputs": [],
   "source": [
    "print(\"MSE:\", acc_mse)\n",
    "print(\"MAE:\", acc_mae)"
   ],
   "metadata": {
    "collapsed": false
   },
   "id": "9cb9a2d75acab303"
  },
  {
   "cell_type": "code",
   "execution_count": null,
   "outputs": [],
   "source": [
    "X = ratings_df.drop([\"rating\"], axis=1)\n",
    "y = ratings_df[\"rating\"]\n",
    "X_train, X_test, y_train, y_test = train_test_split(X, y, train_size=0.9, random_state=42)\n",
    "\n",
    "ratings_train_df = pd.concat([X_train, y_train], axis=1)\n",
    "ratings_test_df = pd.concat([X_test, y_test], axis=1)"
   ],
   "metadata": {
    "collapsed": false
   },
   "id": "e7d10d8d26c0c23"
  },
  {
   "cell_type": "code",
   "execution_count": null,
   "outputs": [],
   "source": [
    "y_pred, y_true = [], []\n",
    "unknown_count = 0\n",
    "\n",
    "for i, row in islice(ratings_test_df.iterrows(), 0, 100_000):\n",
    "    try:\n",
    "        y_pred.append(cluster_user_prediction(row[\"userId\"], row[\"movieId\"]))\n",
    "    except:\n",
    "        y_pred.append(3.5)\n",
    "        unknown_count += 1\n",
    "\n",
    "    y_true.append(row[\"rating\"])\n",
    "\n",
    "acc_mse = custom_mse_scorer(np.array(y_pred), np.array(y_true))\n",
    "acc = custom_mae_scorer(np.array(y_pred), np.array(y_true))\n",
    "\n",
    "print(\"MSE:\", acc_mse)\n",
    "print(\"MAE:\", acc)\n",
    "\n",
    "y_pred, y_true = [], []\n",
    "unknown_count = 0\n",
    "\n",
    "for i, row in islice(ratings_test_df.iterrows(), 0, 100_000):\n",
    "    try:\n",
    "        y_pred.append(cluster_film_prediction(row[\"userId\"], row[\"movieId\"]))\n",
    "    except:\n",
    "        y_pred.append(3.5)\n",
    "        unknown_count += 1\n",
    "\n",
    "    y_true.append(row[\"rating\"])\n",
    "\n",
    "acc_mse = custom_mse_scorer(np.array(y_pred), np.array(y_true))\n",
    "acc = custom_mae_scorer(np.array(y_pred), np.array(y_true))\n",
    "print(\"MSE:\", acc_mse)\n",
    "print(\"MAE:\", acc)"
   ],
   "metadata": {
    "collapsed": false
   },
   "id": "1bd0a9e515717af0"
  }
 ],
 "metadata": {
  "kernelspec": {
   "display_name": "Python 3",
   "language": "python",
   "name": "python3"
  },
  "language_info": {
   "codemirror_mode": {
    "name": "ipython",
    "version": 2
   },
   "file_extension": ".py",
   "mimetype": "text/x-python",
   "name": "python",
   "nbconvert_exporter": "python",
   "pygments_lexer": "ipython2",
   "version": "2.7.6"
  }
 },
 "nbformat": 4,
 "nbformat_minor": 5
}
