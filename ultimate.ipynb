{
 "cells": [
  {
   "cell_type": "code",
   "execution_count": 2,
   "id": "initial_id",
   "metadata": {
    "collapsed": true,
    "ExecuteTime": {
     "end_time": "2024-05-30T15:31:33.294816200Z",
     "start_time": "2024-05-30T15:31:33.294816200Z"
    }
   },
   "outputs": [],
   "source": [
    "import numpy as np\n",
    "from sklearn.base import BaseEstimator, RegressorMixin, TransformerMixin\n",
    "from sklearn.preprocessing import MultiLabelBinarizer, StandardScaler\n",
    "import pandas as pd\n",
    "from sklearn.cluster import KMeans\n",
    "from sklearn.model_selection import train_test_split\n",
    "from itertools import islice"
   ]
  },
  {
   "cell_type": "code",
   "execution_count": 3,
   "outputs": [],
   "source": [
    "n_movie_clusters = 5\n",
    "rating_multiplier = 5\n",
    "year_multiplier = 0.05\n",
    "test_sample_size = 100_000\n",
    "\n",
    "weight_genre, weight_cluster, weight_movie = 0.35, 0.45, 0.2"
   ],
   "metadata": {
    "collapsed": false,
    "ExecuteTime": {
     "end_time": "2024-05-30T15:31:33.653930100Z",
     "start_time": "2024-05-30T15:31:33.653930100Z"
    }
   },
   "id": "5e877cfddcddd87f"
  },
  {
   "cell_type": "code",
   "execution_count": 4,
   "outputs": [],
   "source": [
    "def custom_mse_scorer(y_true, y_pred):\n",
    "    return np.mean((y_true - y_pred) ** 2)\n",
    "\n",
    "def custom_mae_scorer(y_true, y_pred):\n",
    "    return np.mean(abs(y_true - y_pred))\n",
    "\n",
    "def custom_accuracy_scorer(y_true, y_pred, tol=(1.0 + 1e-9)):\n",
    "    accuracy = np.isclose(y_pred, y_true, atol=tol).mean()\n",
    "    return accuracy"
   ],
   "metadata": {
    "collapsed": false,
    "ExecuteTime": {
     "end_time": "2024-05-30T15:31:34.382834100Z",
     "start_time": "2024-05-30T15:31:34.377241Z"
    }
   },
   "id": "10c34b718bfe3511"
  },
  {
   "cell_type": "code",
   "execution_count": 15,
   "outputs": [],
   "source": [
    "class GenreBasedRegressor(BaseEstimator, RegressorMixin):\n",
    "    def __init__(self, movies_hot_df):\n",
    "        self.user_genre_df = None\n",
    "        self.movies_hot_df = movies_hot_df\n",
    "        \n",
    "    def fit(self, X, y=None):\n",
    "        ratings_train_df = pd.concat([X, y], axis=1)\n",
    "        self.user_genre_df = pd.DataFrame({\"userId\": ratings_train_df[\"userId\"].unique()})\n",
    "        genres = self.movies_hot_df[\"Genres_Split\"].explode().unique()\n",
    "        \n",
    "        for genre in genres:\n",
    "            self.user_genre_df[genre] = pd.Series(np.zeros(self.user_genre_df.shape[0]))\n",
    "            self.user_genre_df[\"count_\"+genre] = pd.Series(np.zeros(self.user_genre_df.shape[0]))\n",
    "        \n",
    "        self.user_genre_df.set_index(\"userId\", inplace=True)\n",
    "        \n",
    "        movies_exploded_df = self.movies_hot_df[[\"Genres_Split\"]].explode('Genres_Split').rename(columns={'Genres_Split': 'genre'})\n",
    "        merged_df = ratings_train_df.merge(movies_exploded_df, on='movieId')\n",
    "        \n",
    "        agg_df = merged_df.groupby(['userId', 'genre']).agg(\n",
    "            total_rating=('rating', 'sum'),\n",
    "            count=('rating', 'count')\n",
    "        ).reset_index()\n",
    "        \n",
    "        agg_df['average_rating'] = agg_df['total_rating'] / agg_df['count']\n",
    "        \n",
    "        self.user_genre_df = agg_df.pivot(index='userId', columns='genre', values=['average_rating', 'count'])\n",
    "        self.user_genre_df.columns = [f'{stat}_{genre}' for stat, genre in self.user_genre_df.columns]\n",
    "        self.user_genre_df = self.user_genre_df.reset_index()\n",
    "        self.user_genre_df.fillna(3.5, inplace=True)\n",
    "        self.user_genre_df.drop([\"count_\"+col for col in genres], axis=1, inplace=True)\n",
    "        self.user_genre_df.set_index(\"userId\", inplace=True)\n",
    "        \n",
    "        return self\n",
    "        \n",
    "    def predict(self, X, rounded=True, default=3.5):\n",
    "        y_pred = []\n",
    "        for i, row in X.iterrows():\n",
    "            y_pred.append(self._predict(row[\"userId\"], row[\"movieId\"], rounded, default))\n",
    "        return y_pred\n",
    "        \n",
    "    def _predict(self, user_id, movie_id, rounded=True, default=3.5):\n",
    "        if user_id not in self.user_genre_df.index or movie_id not in self.movies_hot_df.index:\n",
    "            return default\n",
    "        \n",
    "        movie_genres = self.movies_hot_df.loc[movie_id][\"Genres_Split\"]\n",
    "        movie_genres = [\"average_rating_\"+x for x in movie_genres]\n",
    "        res = self.user_genre_df.loc[user_id][movie_genres].mean()\n",
    "        return round(res * 2) / 2 if rounded else res\n",
    "        \n",
    "       \n",
    "class ClusterBasedRegressor(BaseEstimator, RegressorMixin):\n",
    "    def __init__(self, movies_hot_df):\n",
    "        self.users_df = None\n",
    "        self.movies_hot_df = movies_hot_df.copy()\n",
    "        \n",
    "    def fit(self, X, y=None):\n",
    "        ratings_train_df = pd.concat([X, y], axis=1)\n",
    "        \n",
    "        self.movies_hot_df[\"rating_mean\"] *= rating_multiplier\n",
    "        self.movies_hot_df['year'] *= year_multiplier\n",
    "        \n",
    "        kmeans = KMeans(n_clusters=n_movie_clusters, random_state=42)\n",
    "        self.movies_hot_df['Cluster'] = kmeans.fit_predict(self.movies_hot_df.drop([\"Genres_Split\"], axis=1))\n",
    "        \n",
    "        self.movies_hot_df[\"rating_mean\"] /= rating_multiplier\n",
    "        \n",
    "        ratings_with_clusters = ratings_train_df.merge(self.movies_hot_df, left_on='movieId', right_index=True)\n",
    "        \n",
    "        user_cluster_stats = ratings_with_clusters.groupby(['userId', 'Cluster'])['rating'].agg(['count', 'sum']).reset_index()\n",
    "        user_cluster_pivot = user_cluster_stats.pivot(index='userId', columns='Cluster', values=['count', 'sum']).fillna(0)\n",
    "        user_cluster_pivot.columns = [f'Cluster_{stat}_{cluster}' for stat, cluster in user_cluster_pivot.columns]\n",
    "        \n",
    "        for cluster in range(n_movie_clusters):\n",
    "            count_col = f'Cluster_count_{cluster}'\n",
    "            sum_col = f'Cluster_sum_{cluster}'\n",
    "            mean_col = f'Cluster_mean_{cluster}'\n",
    "            if count_col in user_cluster_pivot.columns and sum_col in user_cluster_pivot.columns:\n",
    "                user_cluster_pivot[mean_col] = user_cluster_pivot[sum_col] / user_cluster_pivot[count_col]\n",
    "            else:\n",
    "                user_cluster_pivot[count_col] = 0\n",
    "                user_cluster_pivot[sum_col] = 0\n",
    "                user_cluster_pivot[mean_col] = 0\n",
    "        \n",
    "        user_cluster_pivot = user_cluster_pivot.fillna(0)\n",
    "        self.users_df = user_cluster_pivot.reset_index()\n",
    "        self.users_df.set_index(\"userId\", inplace=True)\n",
    "        \n",
    "        sum_sums = self.users_df[[\"Cluster_sum_\"+str(x) for x in range(n_movie_clusters)]].sum(axis=1)\n",
    "        count_sums = self.users_df[[\"Cluster_count_\"+str(x) for x in range(n_movie_clusters)]].sum(axis=1)\n",
    "        self.users_df[\"rating_mean\"] = sum_sums / count_sums\n",
    "        \n",
    "        return self\n",
    "        \n",
    "    def predict(self, X, rounded=True):\n",
    "        y_pred = []\n",
    "        for i, row in X.iterrows():\n",
    "            y_pred.append(self._predict(row[\"userId\"], row[\"movieId\"], rounded))\n",
    "        return y_pred\n",
    "        \n",
    "    def _predict(self, user_id, movie_id, rounded=True):\n",
    "        if user_id not in self.users_df.index or movie_id not in self.movies_hot_df.index:\n",
    "            return 3.5\n",
    "        \n",
    "        cluster = int(self.movies_hot_df.loc[movie_id][\"Cluster\"])\n",
    "        user_pred = self.users_df.loc[user_id][f\"Cluster_mean_{cluster}\"]\n",
    "        return round(user_pred * 2) / 2 if rounded else user_pred\n",
    "        \n",
    "        \n",
    "class MovieBasedRegressor(BaseEstimator, RegressorMixin):\n",
    "    def __init__(self):\n",
    "        self.movie_ratings = None\n",
    "        \n",
    "    def fit(self, X, y=None):\n",
    "        self.movie_ratings = X[\"rating_mean\"]\n",
    "        return self\n",
    "        \n",
    "    def predict(self, X, rounded=True):\n",
    "        y_pred = []\n",
    "        for i, row in X.iterrows():\n",
    "            y_pred.append(self._predict(row[\"userId\"], row[\"movieId\"], rounded))\n",
    "        return y_pred\n",
    "        \n",
    "    def _predict(self, user_id, movie_id, rounded=True):\n",
    "        if movie_id not in self.movie_ratings.index:\n",
    "            return 3.5\n",
    "        \n",
    "        film_pred = self.movie_ratings.loc[movie_id]\n",
    "        return round(film_pred * 2) / 2 if rounded else film_pred\n",
    "    \n",
    "    \n",
    "class HybridRegressor(BaseEstimator, RegressorMixin):\n",
    "    def __init__(\n",
    "            self, \n",
    "            movies_hot_df,\n",
    "            weights = (0.35, 0.45, 0.2),\n",
    "            genre_based_regressor: GenreBasedRegressor = None,\n",
    "            cluster_based_regressor: ClusterBasedRegressor = None,\n",
    "            movie_based_regressor: MovieBasedRegressor = None):  \n",
    "        self.movies_hot_df = movies_hot_df\n",
    "        self.weights = weights\n",
    "        self.genre_based_regressor = (\n",
    "            genre_based_regressor \n",
    "            if genre_based_regressor is not None \n",
    "            else GenreBasedRegressor(movies_hot_df)\n",
    "        )\n",
    "        self.cluster_based_regressor = (\n",
    "            cluster_based_regressor \n",
    "            if cluster_based_regressor is not None \n",
    "            else ClusterBasedRegressor(movies_hot_df)\n",
    "        )\n",
    "        self.movie_based_regressor = (\n",
    "            movie_based_regressor \n",
    "            if movie_based_regressor is not None \n",
    "            else MovieBasedRegressor()\n",
    "        )\n",
    "        \n",
    "    def fit(self, X, y=None):\n",
    "        self.genre_based_regressor = self.genre_based_regressor.fit(X, y)\n",
    "        self.cluster_based_regressor = self.cluster_based_regressor.fit(X, y)\n",
    "        self.movie_based_regressor = self.movie_based_regressor.fit(movies_hot_df)\n",
    "        return self\n",
    "        \n",
    "    def predict(self, X, rounded=True):\n",
    "        genre_predictions = self.genre_based_regressor.predict(X, False)\n",
    "        cluster_predictions = self.cluster_based_regressor.predict(X, False)\n",
    "        movie_predictions = self.movie_based_regressor.predict(X, False)\n",
    "        \n",
    "        y_pred = np.array([\n",
    "            np.array([genre_pred, cluster_pred, movie_pred]).dot(np.array(self.weights))\n",
    "            for genre_pred, cluster_pred, movie_pred \n",
    "            in zip(genre_predictions, cluster_predictions, movie_predictions)\n",
    "        ])\n",
    "        return np.round(y_pred * 2) / 2 if rounded else y_pred\n",
    "        \n",
    "\n",
    "class PreProcessingBase(BaseEstimator, TransformerMixin):\n",
    "    def fit(self, X, y=None):\n",
    "        return self\n",
    "    \n",
    "    def transform(self, X):   \n",
    "        X = X.copy()\n",
    "        X['Genres_Split'] = X['genres'].apply(lambda x: x.split('|'))\n",
    "        mlb = MultiLabelBinarizer()\n",
    "        binary_matrix = mlb.fit_transform(X['Genres_Split'])\n",
    "        binary_df = pd.DataFrame(binary_matrix, columns=mlb.classes_)\n",
    "        movies_hot_df = pd.concat([X.reset_index(), binary_df], axis=1).set_index(\"movieId\")\n",
    "        return movies_hot_df.drop([\"title\", \"genres\"], axis=1)\n",
    "    \n",
    "    \n",
    "class PreProcessingAggregated(PreProcessingBase):\n",
    "    def fit(self, X, y=None):\n",
    "        return self\n",
    "    \n",
    "    def transform(self, X):\n",
    "        movies_df, ratings_train_df = X\n",
    "        movies_hot_df = super().transform(movies_df)\n",
    "        \n",
    "        movies_df = movies_df.copy()\n",
    "        movies_hot_df = movies_hot_df.merge(ratings_train_df.groupby(\"movieId\")[\"rating\"].mean().reset_index(), on=\"movieId\")\n",
    "        movies_hot_df.rename(columns={\"rating\": \"rating_mean\"}, inplace=True)\n",
    "        movies_hot_df = movies_hot_df.set_index(\"movieId\")\n",
    "        \n",
    "        movies_hot_year_df = movies_hot_df.copy()\n",
    "        movies_df.reset_index(inplace=True)\n",
    "        years = movies_df[movies_df['movieId'].isin(movies_hot_df.index)]['title'].str.extract(r'\\((\\d{4})\\)')\n",
    "        years.index = movies_hot_year_df.index\n",
    "        years[0] = pd.to_numeric(years[0], errors='coerce')\n",
    "        movies_hot_df['year'] = years.fillna(years.median())\n",
    "        \n",
    "        return movies_hot_df"
   ],
   "metadata": {
    "collapsed": false,
    "ExecuteTime": {
     "end_time": "2024-05-30T15:39:18.726566500Z",
     "start_time": "2024-05-30T15:39:18.658423400Z"
    }
   },
   "id": "c5cceff0f1ba75ca"
  },
  {
   "cell_type": "code",
   "execution_count": 16,
   "outputs": [],
   "source": [
    "ratings_df = pd.read_csv(\"data/ratings.csv\")\n",
    "movies_df = pd.read_csv(\"data/movies.csv\", index_col=\"movieId\")\n",
    "\n",
    "X = ratings_df.drop([\"rating\"], axis=1)\n",
    "y = ratings_df[\"rating\"]\n",
    "\n",
    "X_train, X_test, y_train, y_test = train_test_split(X, y, train_size=0.9, random_state=42)\n",
    "ratings_train_df = pd.concat([X_train, y_train], axis=1)\n",
    "ratings_test_df = pd.concat([X_test, y_test], axis=1)"
   ],
   "metadata": {
    "collapsed": false,
    "ExecuteTime": {
     "end_time": "2024-05-30T15:39:37.250951200Z",
     "start_time": "2024-05-30T15:39:19.593463900Z"
    }
   },
   "id": "851d7b6bf19788bd"
  },
  {
   "cell_type": "code",
   "execution_count": 17,
   "outputs": [],
   "source": [
    "movies_hot_df = PreProcessingAggregated().transform((movies_df, ratings_train_df))"
   ],
   "metadata": {
    "collapsed": false,
    "ExecuteTime": {
     "end_time": "2024-05-30T15:39:38.580737200Z",
     "start_time": "2024-05-30T15:39:37.250951200Z"
    }
   },
   "id": "cb37e994b4a89aa"
  },
  {
   "cell_type": "code",
   "execution_count": 19,
   "outputs": [
    {
     "name": "stderr",
     "output_type": "stream",
     "text": [
      "C:\\Users\\Василий\\AppData\\Roaming\\Python\\Python311\\site-packages\\sklearn\\cluster\\_kmeans.py:1416: FutureWarning: The default value of `n_init` will change from 10 to 'auto' in 1.4. Set the value of `n_init` explicitly to suppress the warning\n",
      "  super()._check_params_vs_input(X, default_n_init=10)\n"
     ]
    },
    {
     "name": "stdout",
     "output_type": "stream",
     "text": [
      "MSE: 0.757\n",
      "MAE: 0.667\n",
      "ACCURACY: 0.778\n"
     ]
    }
   ],
   "source": [
    "hybrid_regressor = HybridRegressor(\n",
    "    movies_hot_df).fit(X_train, y_train)\n",
    "\n",
    "x_test_sample = ratings_test_df.sample(frac=1, random_state=42)\n",
    "x_test_sample = x_test_sample[:test_sample_size]\n",
    "y_true = x_test_sample[\"rating\"].values\n",
    "\n",
    "hybrid_predictions = hybrid_regressor.predict(x_test_sample, False)\n",
    "print_stats(get_performance_stats(y_true, hybrid_predictions))"
   ],
   "metadata": {
    "collapsed": false,
    "ExecuteTime": {
     "end_time": "2024-05-30T15:44:38.940981200Z",
     "start_time": "2024-05-30T15:42:30.464098900Z"
    }
   },
   "id": "67a5f8743db2909b"
  },
  {
   "cell_type": "code",
   "execution_count": null,
   "outputs": [],
   "source": [
    "genre_based_regressor = GenreBasedRegressor(movies_hot_df).fit(X_train, y_train)"
   ],
   "metadata": {
    "collapsed": false
   },
   "id": "73d509c4a1260f8a"
  },
  {
   "cell_type": "code",
   "execution_count": null,
   "outputs": [],
   "source": [
    "cluster_based_regressor = ClusterBasedRegressor(movies_hot_df).fit(X_train, y_train)"
   ],
   "metadata": {
    "collapsed": false
   },
   "id": "7af9e5f6b60da71e"
  },
  {
   "cell_type": "code",
   "execution_count": null,
   "outputs": [],
   "source": [
    "movie_based_regressor = MovieBasedRegressor().fit(movies_hot_df)"
   ],
   "metadata": {
    "collapsed": false
   },
   "id": "747e058ccc64fb02"
  },
  {
   "cell_type": "code",
   "execution_count": 8,
   "outputs": [],
   "source": [
    "def get_performance_stats(y_true, y_pred):\n",
    "    mse = custom_mse_scorer(np.array(y_pred), np.array(y_true))\n",
    "    mae = custom_mae_scorer(np.array(y_pred), np.array(y_true))\n",
    "    acc = custom_accuracy_scorer(np.array(y_pred), np.array(y_true))\n",
    "    \n",
    "    return {\"mse\": mse, \"mae\": mae, \"accuracy\": acc}\n",
    "\n",
    "def print_stats(stats):\n",
    "    for key, value in stats.items():\n",
    "        print(key.upper() + \": \" + str(round(value, 3)))"
   ],
   "metadata": {
    "collapsed": false,
    "ExecuteTime": {
     "end_time": "2024-05-30T15:35:39.650232400Z",
     "start_time": "2024-05-30T15:35:39.633075Z"
    }
   },
   "id": "723d696740ed8568"
  },
  {
   "cell_type": "code",
   "execution_count": null,
   "outputs": [],
   "source": [
    "x_test_sample = ratings_test_df.sample(frac=1, random_state=42)\n",
    "x_test_sample = x_test_sample[:test_sample_size]\n",
    "y_true = x_test_sample[\"rating\"].values\n",
    "\n",
    "genre_predictions = genre_based_regressor.predict(x_test_sample, False)\n",
    "print_stats(get_performance_stats(y_true, genre_predictions))"
   ],
   "metadata": {
    "collapsed": false
   },
   "id": "e79df23d96884003"
  },
  {
   "cell_type": "code",
   "execution_count": null,
   "outputs": [],
   "source": [
    "cluster_predictions = cluster_based_regressor.predict(x_test_sample, False)\n",
    "print_stats(get_performance_stats(y_true, cluster_predictions))"
   ],
   "metadata": {
    "collapsed": false
   },
   "id": "445d6a658b27eb04"
  },
  {
   "cell_type": "code",
   "execution_count": null,
   "outputs": [],
   "source": [
    "movie_predictions = movie_based_regressor.predict(x_test_sample, False)\n",
    "print_stats(get_performance_stats(y_true, cluster_predictions))"
   ],
   "metadata": {
    "collapsed": false
   },
   "id": "c84358f7e781db26"
  },
  {
   "cell_type": "code",
   "execution_count": null,
   "outputs": [],
   "source": [
    "weights = np.array([weight_genre, weight_cluster, weight_movie])\n",
    "y_pred = np.array([\n",
    "    np.array([genre_pred, cluster_pred, movie_pred]).dot(weights)\n",
    "    for genre_pred, cluster_pred, movie_pred \n",
    "    in zip(genre_predictions, cluster_predictions, movie_predictions)\n",
    "])\n",
    "\n",
    "print_stats(get_performance_stats(y_true, y_pred))"
   ],
   "metadata": {
    "collapsed": false
   },
   "id": "412d9c60d70da87a"
  },
  {
   "cell_type": "markdown",
   "source": [
    "# Testing"
   ],
   "metadata": {
    "collapsed": false
   },
   "id": "75df1b710a65f4d2"
  },
  {
   "cell_type": "code",
   "execution_count": null,
   "outputs": [],
   "source": [
    "# ratings_df = pd.read_csv(\"data/ratings.csv\")\n",
    "# movies_df = pd.read_csv(\"data/movies.csv\", index_col=\"movieId\")\n",
    "# \n",
    "# X = ratings_df.drop([\"rating\"], axis=1)\n",
    "# y = ratings_df[\"rating\"]\n",
    "# X_train, X_test, y_train, y_test = train_test_split(X, y, train_size=0.9, random_state=42)\n",
    "# ratings_train_df = pd.concat([X_train, y_train], axis=1)\n",
    "# ratings_test_df = pd.concat([X_test, y_test], axis=1)\n",
    "# \n",
    "# \n",
    "# movies_df['Genres_Split'] = movies_df['genres'].apply(lambda x: x.split('|'))\n",
    "# mlb = MultiLabelBinarizer()\n",
    "# binary_matrix = mlb.fit_transform(movies_df['Genres_Split'])\n",
    "# binary_df = pd.DataFrame(binary_matrix, columns=mlb.classes_)\n",
    "# movies_hot_df = movies_df.join(binary_df)"
   ],
   "metadata": {
    "collapsed": false
   },
   "id": "815c585daf8a1484"
  },
  {
   "cell_type": "code",
   "execution_count": null,
   "outputs": [],
   "source": [
    "movie_genres = movies_hot_df.loc[X[\"movieId\"]][\"Genres_Split\"]\n",
    "print(type(movie_genres))"
   ],
   "metadata": {
    "collapsed": false
   },
   "id": "bdf1b3c7f1d1f04d"
  },
  {
   "cell_type": "code",
   "execution_count": null,
   "outputs": [],
   "source": [
    "movie_genres = movie_genres.apply(lambda cell: [\"average_rating_\"+x for x in cell])\n",
    "movie_genres.head()"
   ],
   "metadata": {
    "collapsed": false
   },
   "id": "2b4a353a4e7ec3e8"
  },
  {
   "cell_type": "code",
   "execution_count": null,
   "outputs": [],
   "source": [
    "X"
   ],
   "metadata": {
    "collapsed": false
   },
   "id": "55fc416eaf65a12e"
  },
  {
   "cell_type": "code",
   "execution_count": null,
   "outputs": [],
   "source": [
    "genre_based_regressor.user_genre_df"
   ],
   "metadata": {
    "collapsed": false
   },
   "id": "5f5ce0095333d151"
  },
  {
   "cell_type": "code",
   "execution_count": null,
   "outputs": [],
   "source": [
    "X[\"userId\"].apply(lambda x: (x in genre_based_regressor.user_genre_df.index.values))"
   ],
   "metadata": {
    "collapsed": false
   },
   "id": "a1d523b08e552dab"
  },
  {
   "cell_type": "code",
   "execution_count": null,
   "outputs": [],
   "source": [
    "res = genre_based_regressor.user_genre_df.loc[X[\"userId\"]][movie_genres].mean()"
   ],
   "metadata": {
    "collapsed": false
   },
   "id": "d8ad4741414abb3e"
  },
  {
   "cell_type": "markdown",
   "source": [
    "# Hand clustering by genre"
   ],
   "metadata": {
    "collapsed": false
   },
   "id": "4898dfc41f04deee"
  },
  {
   "cell_type": "code",
   "execution_count": null,
   "outputs": [],
   "source": [
    "user_genre_df = pd.DataFrame({\"userId\": ratings_train_df[\"userId\"].unique()})\n",
    "genres = movies_hot_df[\"Genres_Split\"].explode().unique()\n",
    "\n",
    "for genre in genres:\n",
    "    user_genre_df[genre] = pd.Series(np.zeros(user_genre_df.shape[0]))\n",
    "    user_genre_df[\"count_\"+genre] = pd.Series(np.zeros(user_genre_df.shape[0]))\n",
    "\n",
    "user_genre_df.set_index(\"userId\", inplace=True)\n",
    "\n",
    "movies_df = movies_df.explode('Genres_Split').rename(columns={'Genres_Split': 'genre'})\n",
    "merged_df = ratings_train_df.merge(movies_df, on='movieId')\n",
    "\n",
    "agg_df = merged_df.groupby(['userId', 'genre']).agg(\n",
    "    total_rating=('rating', 'sum'),\n",
    "    count=('rating', 'count')\n",
    ").reset_index()\n",
    "\n",
    "agg_df['average_rating'] = agg_df['total_rating'] / agg_df['count']\n",
    "\n",
    "user_genre_df = agg_df.pivot(index='userId', columns='genre', values=['average_rating', 'count'])\n",
    "user_genre_df.columns = [f'{stat}_{genre}' for stat, genre in user_genre_df.columns]\n",
    "user_genre_df = user_genre_df.reset_index()\n",
    "user_genre_df.fillna(3.5, inplace=True)\n",
    "user_genre_df.drop([\"count_\"+col for col in genres], axis=1, inplace=True)\n",
    "user_genre_df.set_index(\"userId\", inplace=True)"
   ],
   "metadata": {
    "collapsed": false
   },
   "id": "f3dcdea1262408b3"
  },
  {
   "cell_type": "code",
   "execution_count": null,
   "outputs": [],
   "source": [
    "x_test_sample = ratings_test_df.sample(frac=1, random_state=42)\n",
    "y_true = x_test_sample[\"rating\"].values[:100_000]\n",
    "\n",
    "genre_prediction_arr = genre_prediction(x_test_sample[:100_000])\n",
    "\n",
    "mse = custom_mse_scorer(np.array(genre_prediction_arr), np.array(y_true))\n",
    "mae = custom_mae_scorer(np.array(genre_prediction_arr), np.array(y_true))\n",
    "print(\"MSE:\", mse)\n",
    "print(\"MAE:\", mae)"
   ],
   "metadata": {
    "collapsed": false
   },
   "id": "dc691aaba388aa94"
  },
  {
   "cell_type": "code",
   "execution_count": null,
   "outputs": [],
   "source": [
    "# weight_combinations = []\n",
    "# coefs = [x/20 for x in range(0, 21)]\n",
    "# for coef_a in coefs:\n",
    "#     for coef_b in coefs:\n",
    "#         if coef_a + coef_b  > 1:\n",
    "#             continue\n",
    "#         coef_c = 1 - coef_a - coef_b\n",
    "#         weight_combinations.append((coef_a, coef_b, coef_c))"
   ],
   "metadata": {
    "collapsed": false
   },
   "id": "825a9ee47ccd18e6"
  },
  {
   "cell_type": "markdown",
   "source": [
    "# Clustering stuff"
   ],
   "metadata": {
    "collapsed": false
   },
   "id": "124abaded4d296c0"
  },
  {
   "cell_type": "code",
   "execution_count": null,
   "outputs": [],
   "source": [],
   "metadata": {
    "collapsed": false
   },
   "id": "4be49cf6a31c6fc5"
  },
  {
   "cell_type": "code",
   "execution_count": null,
   "outputs": [],
   "source": [
    "movies_hot_df"
   ],
   "metadata": {
    "collapsed": false
   },
   "id": "60a2dc0174ee6c1c"
  },
  {
   "cell_type": "code",
   "execution_count": null,
   "outputs": [],
   "source": [
    "movies_hot_df.isna().sum()"
   ],
   "metadata": {
    "collapsed": false
   },
   "id": "4eddfea1ae4ccf34"
  },
  {
   "cell_type": "code",
   "execution_count": null,
   "outputs": [],
   "source": [],
   "metadata": {
    "collapsed": false
   },
   "id": "8a5486a66352ec97"
  },
  {
   "cell_type": "code",
   "execution_count": null,
   "outputs": [],
   "source": [
    "movies_hot_df"
   ],
   "metadata": {
    "collapsed": false
   },
   "id": "e6ff854d27990b2c"
  },
  {
   "cell_type": "code",
   "execution_count": null,
   "outputs": [],
   "source": [
    "movies_hot_df.isna().sum()"
   ],
   "metadata": {
    "collapsed": false
   },
   "id": "b21e80e007fc88c9"
  },
  {
   "cell_type": "code",
   "execution_count": null,
   "outputs": [],
   "source": [
    "# movies_hot_df, users_df = None, None\n",
    "# \n",
    "# # for n_movie_clusters in range(2, 11):\n",
    "# #     for rating_multiplier in range(1, 6):\n",
    "# #         for year_multiplier in range(5, 26, 5):\n",
    "# #             year_multiplier = 1 / year_multiplier\n",
    "# \n",
    "# ratings_df = pd.read_csv(\"data/ratings.csv\")\n",
    "# movies_df = pd.read_csv(\"data/movies.csv\", index_col=\"movieId\")\n",
    "# \n",
    "# X = ratings_df.drop([\"rating\"], axis=1)\n",
    "# y = ratings_df[\"rating\"]\n",
    "# X_train, X_test, y_train, y_test = train_test_split(X, y, train_size=0.9, random_state=42)\n",
    "# \n",
    "# ratings_train_df = pd.concat([X_train, y_train], axis=1)\n",
    "# ratings_test_df = pd.concat([X_test, y_test], axis=1)\n",
    "# \n",
    "# \n",
    "# \n",
    "# \n",
    "# movies_df['Genres_Split'] = movies_df['genres'].apply(lambda x: x.split('|'))\n",
    "# mlb = MultiLabelBinarizer()\n",
    "# binary_matrix = mlb.fit_transform(movies_df['Genres_Split'])\n",
    "# binary_df = pd.DataFrame(binary_matrix, columns=mlb.classes_)\n",
    "# movies_hot_df = movies_df.join(binary_df)\n",
    "\n",
    "\n",
    "\n",
    "\n",
    "\n",
    "\n",
    "\n",
    "\n",
    "    \n",
    "    # results[(coef_a, coef_b, coef_c)] = {\"mae\": mae, \"mse\": mse}\n",
    "                \n",
    "                \n",
    "                # with open(\"overnight_testing.txt\", \"a\") as file:\n",
    "                #     file.write(str(rating_multiplier) + \" \" + str(year_multiplier) + \" \" + str(n_movie_clusters) + \"\\n\")\n",
    "                #     file.write(str(sorted(results.items(), key=lambda x: (x[1][\"mse\"], x[1][\"mae\"]))) + \"\\n\")\n",
    "                \n",
    "                # results = {}"
   ],
   "metadata": {
    "collapsed": false
   },
   "id": "747d031ee08978cd"
  },
  {
   "cell_type": "code",
   "execution_count": null,
   "outputs": [],
   "source": [],
   "metadata": {
    "collapsed": false
   },
   "id": "d67264b4f560c41d"
  },
  {
   "cell_type": "code",
   "execution_count": null,
   "outputs": [],
   "source": [
    "movies_hot_df"
   ],
   "metadata": {
    "collapsed": false
   },
   "id": "234188358f53919f"
  },
  {
   "cell_type": "code",
   "execution_count": null,
   "outputs": [],
   "source": [
    "ratings_test_grouped = ratings_train_df.copy()\n",
    "ratings_test_grouped[\"rating_count\"] = np.ones(ratings_test_grouped.shape[0])\n",
    "ratings_test_grouped = ratings_test_grouped.groupby(\"userId\")[\"rating_count\"].sum().to_frame()\n",
    "ratings_test_df = ratings_test_df.merge(ratings_test_grouped, on=\"userId\")\n",
    "ratings_test_df.head()"
   ],
   "metadata": {
    "collapsed": false
   },
   "id": "5365b4766e9bb0bc"
  },
  {
   "cell_type": "code",
   "execution_count": null,
   "outputs": [],
   "source": [
    "cluster_user_prediction_arr = []\n",
    "film_prediction_arr = []\n",
    "genre_prediction_arr = []\n",
    "\n",
    "ratings_test_a_df = ratings_test_df[ratings_test_df[\"rating_count\"] >= 0]\n",
    "x_test_sample = ratings_test_a_df.sample(frac=1, random_state=42)\n",
    "y_true = x_test_sample[\"rating\"].values[:100_000]\n",
    "\n",
    "for i, row in islice(x_test_sample.iterrows(), 0, 100_000):\n",
    "    cluster_user_prediction_arr.append(cluster_user_prediction(row[\"userId\"], row[\"movieId\"], False))\n",
    "    film_prediction_arr.append(film_prediction(row[\"userId\"], row[\"movieId\"], False))\n",
    "    genre_prediction_arr.append(genre_prediction(row[\"userId\"], row[\"movieId\"], False))\n",
    "    \n",
    "    \n",
    "# results = {}\n",
    "# for coef_a, coef_b, coef_c in weight_combinations:"
   ],
   "metadata": {
    "collapsed": false
   },
   "id": "8634826f572f0c7e"
  },
  {
   "cell_type": "code",
   "execution_count": null,
   "outputs": [],
   "source": [
    "y_pred = []\n",
    "\n",
    "for i in range(100_000):\n",
    "    y_pred.append(\n",
    "        genre_prediction_arr[i] * coef_a +\n",
    "        cluster_user_prediction_arr[i] * coef_b +\n",
    "        film_prediction_arr[i] * coef_c\n",
    "    )\n",
    "\n",
    "mse = custom_mse_scorer(np.array(y_pred), np.array(y_true))\n",
    "mae = custom_mae_scorer(np.array(y_pred), np.array(y_true))\n",
    "print(\"MSE:\", mse)\n",
    "print(\"MAE:\", mae)"
   ],
   "metadata": {
    "collapsed": false
   },
   "id": "a959e578d3a4762f"
  },
  {
   "cell_type": "markdown",
   "source": [
    "# Baseline"
   ],
   "metadata": {
    "collapsed": false
   },
   "id": "2240a32db6eb9465"
  },
  {
   "cell_type": "code",
   "execution_count": null,
   "outputs": [],
   "source": [
    "def custom_mse_scorer(y_true, y_pred):\n",
    "    return np.mean((y_true - y_pred) ** 2)\n",
    "\n",
    "def custom_mae_scorer(y_true, y_pred):\n",
    "    return np.mean(abs(y_true - y_pred))"
   ],
   "metadata": {
    "collapsed": false
   },
   "id": "80c38d9b745e393"
  },
  {
   "cell_type": "code",
   "execution_count": null,
   "outputs": [],
   "source": [
    "ratings_df = pd.read_csv(\"data/ratings.csv\")\n",
    "movies_df = pd.read_csv(\"data/movies.csv\", index_col=\"movieId\")"
   ],
   "metadata": {
    "collapsed": false
   },
   "id": "ecbc0fe98f3904ef"
  },
  {
   "cell_type": "code",
   "execution_count": null,
   "outputs": [],
   "source": [
    "acc_mse = custom_mse_scorer(ratings_df[\"rating\"], np.zeros(ratings_df.shape[0]) + 2.5)\n",
    "acc_mae = custom_mae_scorer(ratings_df[\"rating\"], np.zeros(ratings_df.shape[0]) + 2.5)"
   ],
   "metadata": {
    "collapsed": false
   },
   "id": "fed5a2c381480703"
  },
  {
   "cell_type": "code",
   "execution_count": null,
   "outputs": [],
   "source": [
    "print(\"MSE:\", acc_mse)\n",
    "print(\"MAE:\", acc_mae)"
   ],
   "metadata": {
    "collapsed": false
   },
   "id": "9cb9a2d75acab303"
  },
  {
   "cell_type": "code",
   "execution_count": null,
   "outputs": [],
   "source": [
    "X = ratings_df.drop([\"rating\"], axis=1)\n",
    "y = ratings_df[\"rating\"]\n",
    "X_train, X_test, y_train, y_test = train_test_split(X, y, train_size=0.9, random_state=42)\n",
    "\n",
    "ratings_train_df = pd.concat([X_train, y_train], axis=1)\n",
    "ratings_test_df = pd.concat([X_test, y_test], axis=1)"
   ],
   "metadata": {
    "collapsed": false
   },
   "id": "e7d10d8d26c0c23"
  },
  {
   "cell_type": "code",
   "execution_count": null,
   "outputs": [],
   "source": [
    "y_pred, y_true = [], []\n",
    "unknown_count = 0\n",
    "\n",
    "for i, row in islice(ratings_test_df.iterrows(), 0, 100_000):\n",
    "    try:\n",
    "        y_pred.append(cluster_user_prediction(row[\"userId\"], row[\"movieId\"]))\n",
    "    except:\n",
    "        y_pred.append(3.5)\n",
    "        unknown_count += 1\n",
    "\n",
    "    y_true.append(row[\"rating\"])\n",
    "\n",
    "acc_mse = custom_mse_scorer(np.array(y_pred), np.array(y_true))\n",
    "acc = custom_mae_scorer(np.array(y_pred), np.array(y_true))\n",
    "\n",
    "print(\"MSE:\", acc_mse)\n",
    "print(\"MAE:\", acc)\n",
    "# \n",
    "# y_pred, y_true = [], []\n",
    "# unknown_count = 0\n",
    "# \n",
    "# for i, row in islice(ratings_test_df.iterrows(), 0, 100_000):\n",
    "#     try:\n",
    "#         y_pred.append(cluster_film_prediction(row[\"userId\"], row[\"movieId\"]))\n",
    "#     except:\n",
    "#         y_pred.append(3.5)\n",
    "#         unknown_count += 1\n",
    "# \n",
    "#     y_true.append(row[\"rating\"])\n",
    "# \n",
    "# acc_mse = custom_mse_scorer(np.array(y_pred), np.array(y_true))\n",
    "# acc = custom_mae_scorer(np.array(y_pred), np.array(y_true))\n",
    "# print(\"MSE:\", acc_mse)\n",
    "# print(\"MAE:\", acc)"
   ],
   "metadata": {
    "collapsed": false
   },
   "id": "1bd0a9e515717af0"
  },
  {
   "cell_type": "code",
   "execution_count": 1,
   "outputs": [
    {
     "data": {
      "text/plain": "<Figure size 1000x600 with 3 Axes>",
      "image/png": "[encoded data removed]"
     },
     "metadata": {},
     "output_type": "display_data"
    }
   ],
   "source": [
    "import matplotlib.pyplot as plt\n",
    "\n",
    "# Data\n",
    "attributes = [100, 300, 500, 700, 900]\n",
    "mse_values = [0.8709787068254514, 0.7373011594182215, 0.7040590543653152, 0.7103933803964357, 0.7052506790672214]\n",
    "mae_values = [0.718844228738666, 0.6606363015609624, 0.6456593853695873, 0.6496066713598331, 0.6414389084899733]\n",
    "accuracy_values = [0.7541, 0.7782, 0.7878, 0.7869, 0.786]\n",
    "\n",
    "# Plotting\n",
    "plt.figure(figsize=(10, 6))\n",
    "\n",
    "plt.subplot(3, 1, 1)\n",
    "plt.plot(attributes, mse_values, marker='o')\n",
    "plt.title('Mean Squared Error (MSE) vs Attribute')\n",
    "plt.xlabel('Attribute')\n",
    "plt.ylabel('MSE')\n",
    "\n",
    "plt.subplot(3, 1, 2)\n",
    "plt.plot(attributes, mae_values, marker='o')\n",
    "plt.title('Mean Absolute Error (MAE) vs Attribute')\n",
    "plt.xlabel('Attribute')\n",
    "plt.ylabel('MAE')\n",
    "\n",
    "plt.subplot(3, 1, 3)\n",
    "plt.plot(attributes, accuracy_values, marker='o')\n",
    "plt.title('Accuracy vs Attribute')\n",
    "plt.xlabel('Attribute')\n",
    "plt.ylabel('Accuracy')\n",
    "\n",
    "plt.tight_layout()\n",
    "plt.show()\n"
   ],
   "metadata": {
    "collapsed": false,
    "ExecuteTime": {
     "end_time": "2024-05-30T18:11:57.693636700Z",
     "start_time": "2024-05-30T18:11:57.110339Z"
    }
   },
   "id": "e1a4ec616e6100ce"
  },
  {
   "cell_type": "code",
   "execution_count": null,
   "outputs": [],
   "source": [],
   "metadata": {
    "collapsed": false
   },
   "id": "6e74edeb05c63cef"
  }
 ],
 "metadata": {
  "kernelspec": {
   "display_name": "Python 3",
   "language": "python",
   "name": "python3"
  },
  "language_info": {
   "codemirror_mode": {
    "name": "ipython",
    "version": 2
   },
   "file_extension": ".py",
   "mimetype": "text/x-python",
   "name": "python",
   "nbconvert_exporter": "python",
   "pygments_lexer": "ipython2",
   "version": "2.7.6"
  }
 },
 "nbformat": 4,
 "nbformat_minor": 5
}
