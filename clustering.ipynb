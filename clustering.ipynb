{
 "cells": [
  {
   "cell_type": "code",
   "execution_count": null,
   "id": "initial_id",
   "metadata": {
    "collapsed": true
   },
   "outputs": [],
   "source": [
    "import numpy as np\n",
    "from sklearn.base import BaseEstimator\n",
    "from sklearn.preprocessing import MultiLabelBinarizer\n",
    "import pandas as pd\n",
    "from sklearn.cluster import KMeans\n",
    "from sklearn.model_selection import train_test_split\n",
    "from itertools import islice"
   ]
  },
  {
   "cell_type": "code",
   "execution_count": null,
   "outputs": [],
   "source": [
    "def cluster_rule_based_prediction(user_id, movie_id, rounded=True):\n",
    "    cluster = int(movies_hot_df.loc[movie_id][\"Cluster\"])\n",
    "    user_pred = users_df.loc[user_id][f\"Cluster_mean_{cluster}\"]\n",
    "    class_pred = cluster_ratings[cluster]\n",
    "    film_pred = movies_hot_df.loc[movie_id][\"rating_mean\"]\n",
    "    # return round((user_pred * 0.7 + class_pred * 0.1 + film_pred * 0.3) * 2) / 2\n",
    "    # return round(film_pred * 2) / 2\n",
    "    return round(user_pred * 2) / 2 if rounded else user_pred\n",
    "\n",
    "class ClusterRuleBasedEstimator(BaseEstimator):\n",
    "    def fit(self, X, y=None):\n",
    "        return self\n",
    "\n",
    "    def predict(self, X):\n",
    "        return np.array([cluster_rule_based_prediction(user, movie) for user, movie in X])\n",
    "\n",
    "\n",
    "def custom_scorer(y_true, y_pred):\n",
    "    return np.mean((y_true - y_pred) ** 2)\n",
    "\n",
    "\n",
    "def custom_mae_scorer(y_true, y_pred):\n",
    "    return np.mean(abs(y_true - y_pred))\n",
    "\n",
    "\n",
    "def custom_accuracy_scorer(y_true, y_pred, tol=(0.5 + 1e-9)):\n",
    "    accuracy = np.isclose(y_pred, y_true, atol=tol).mean()\n",
    "    return accuracy"
   ],
   "metadata": {
    "collapsed": false
   },
   "id": "1af1049f533f4ac5"
  },
  {
   "cell_type": "code",
   "execution_count": null,
   "outputs": [],
   "source": [
    "ratings_df = pd.read_csv(\"data/ratings.csv\")\n",
    "movies_df = pd.read_csv(\"data/movies.csv\", index_col=\"movieId\")\n",
    "\n",
    "X = ratings_df.drop([\"rating\"], axis=1)\n",
    "y = ratings_df[\"rating\"]\n",
    "X_train, X_test, y_train, y_test = train_test_split(X, y, train_size=0.9, random_state=42)\n",
    "\n",
    "ratings_train_df = pd.concat([X_train, y_train], axis=1)\n",
    "ratings_test_df = pd.concat([X_test, y_test], axis=1)\n",
    "\n",
    "n_movie_clusters = 2\n",
    "n_user_clusters = 100\n",
    "\n",
    "movies_df['Genres_Split'] = movies_df['genres'].apply(lambda x: x.split('|'))\n",
    "mlb = MultiLabelBinarizer()\n",
    "binary_matrix = mlb.fit_transform(movies_df['Genres_Split'])\n",
    "binary_df = pd.DataFrame(binary_matrix, columns=mlb.classes_)\n",
    "\n",
    "movies_df.reset_index(inplace=True)\n",
    "movies_hot_df = pd.concat([movies_df, binary_df], axis=1)\n",
    "movies_hot_df = movies_hot_df.drop(['genres', 'Genres_Split'], axis=1)\n",
    "movies_hot_df = movies_hot_df.merge(ratings_train_df.groupby(\"movieId\")[\"rating\"].mean().reset_index(), on=\"movieId\")\n",
    "movies_hot_df.rename(columns={\"rating\": \"rating_mean\"}, inplace=True)\n",
    "movies_hot_df = movies_hot_df.drop([\"title\"], axis=1).set_index(\"movieId\")\n",
    "\n",
    "movies_hot_df[\"rating_mean\"] /= 3\n",
    "\n",
    "kmeans = KMeans(n_clusters=n_movie_clusters, random_state=42)\n",
    "movies_hot_df['Cluster'] = kmeans.fit_predict(movies_hot_df)\n",
    "\n",
    "ratings_with_clusters = ratings_train_df.merge(movies_hot_df, left_on='movieId', right_index=True)\n",
    "\n",
    "user_cluster_stats = ratings_with_clusters.groupby(['userId', 'Cluster'])['rating'].agg(['count', 'sum']).reset_index()\n",
    "user_cluster_pivot = user_cluster_stats.pivot(index='userId', columns='Cluster', values=['count', 'sum']).fillna(0)\n",
    "user_cluster_pivot.columns = [f'Cluster_{stat}_{cluster}' for stat, cluster in user_cluster_pivot.columns]\n",
    "\n",
    "for cluster in range(n_movie_clusters):\n",
    "    count_col = f'Cluster_count_{cluster}'\n",
    "    sum_col = f'Cluster_sum_{cluster}'\n",
    "    mean_col = f'Cluster_mean_{cluster}'\n",
    "    if count_col in user_cluster_pivot.columns and sum_col in user_cluster_pivot.columns:\n",
    "        user_cluster_pivot[mean_col] = user_cluster_pivot[sum_col] / user_cluster_pivot[count_col]\n",
    "    else:\n",
    "        user_cluster_pivot[count_col] = 0\n",
    "        user_cluster_pivot[sum_col] = 0\n",
    "        user_cluster_pivot[mean_col] = 0\n",
    "\n",
    "user_cluster_pivot = user_cluster_pivot.fillna(0)\n",
    "users_df = user_cluster_pivot.reset_index()\n",
    "users_df.set_index(\"userId\", inplace=True)\n",
    "users_df.head()\n",
    "cluster_ratings = ratings_train_df.merge(\n",
    "    movies_hot_df.reset_index()[[\"Cluster\", \"movieId\"]],\n",
    "    on=\"movieId\") \\\n",
    "    .groupby(\"Cluster\")[\"rating\"].mean()"
   ],
   "metadata": {
    "collapsed": false
   },
   "id": "b665354cfee6d25f"
  },
  {
   "cell_type": "code",
   "execution_count": null,
   "outputs": [],
   "source": [
    "y_pred, y_true = [], []\n",
    "unknown_count = 0\n",
    "\n",
    "for i, row in islice(ratings_test_df.iterrows(), 0, 100_000):\n",
    "    try:\n",
    "        y_pred.append(cluster_rule_based_prediction(row[\"userId\"], row[\"movieId\"]))\n",
    "    except:\n",
    "        y_pred.append(3.5)\n",
    "        unknown_count += 1\n",
    "\n",
    "    y_true.append(row[\"rating\"])\n",
    "\n",
    "acc_mse = custom_scorer(np.array(y_pred), np.array(y_true))\n",
    "acc = custom_mae_scorer(np.array(y_pred), np.array(y_true))\n",
    "print(\"MSE:\", acc_mse)\n",
    "print(\"MAE:\", acc)"
   ],
   "metadata": {
    "collapsed": false
   },
   "id": "533500c6a2345da3"
  },
  {
   "cell_type": "code",
   "execution_count": null,
   "outputs": [],
   "source": [],
   "metadata": {
    "collapsed": false
   },
   "id": "d15463ddb3527f93"
  }
 ],
 "metadata": {
  "kernelspec": {
   "display_name": "Python 3",
   "language": "python",
   "name": "python3"
  },
  "language_info": {
   "codemirror_mode": {
    "name": "ipython",
    "version": 2
   },
   "file_extension": ".py",
   "mimetype": "text/x-python",
   "name": "python",
   "nbconvert_exporter": "python",
   "pygments_lexer": "ipython2",
   "version": "2.7.6"
  }
 },
 "nbformat": 4,
 "nbformat_minor": 5
}
