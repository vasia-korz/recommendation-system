{
 "cells": [
  {
   "cell_type": "markdown",
   "source": [
    "# Test of flagman performance\n",
    "\n",
    "In this notebook we compare the improvement made by the hybrid model over the baseline."
   ],
   "metadata": {
    "collapsed": false
   },
   "id": "1ce0c6439adb27d7"
  },
  {
   "cell_type": "code",
   "execution_count": 1,
   "id": "initial_id",
   "metadata": {
    "collapsed": true,
    "ExecuteTime": {
     "end_time": "2024-05-31T10:01:01.463671200Z",
     "start_time": "2024-05-31T10:01:00.954925800Z"
    }
   },
   "outputs": [],
   "source": [
    "from movie_lens_lib import *\n",
    "import pandas as pd\n",
    "from sklearn.model_selection import train_test_split"
   ]
  },
  {
   "cell_type": "markdown",
   "source": [
    "## Constants"
   ],
   "metadata": {
    "collapsed": false
   },
   "id": "fc6fb4e2a4c5bcf5"
  },
  {
   "cell_type": "code",
   "execution_count": 2,
   "outputs": [],
   "source": [
    "n_movie_clusters = 7\n",
    "rating_multiplier = 5\n",
    "year_multiplier = 0.05\n",
    "test_sample_size = 100_000\n",
    "weight_genre, weight_cluster, weight_movie = 0.35, 0.45, 0.2\n",
    "train_size = 0.9\n",
    "random_state = 42"
   ],
   "metadata": {
    "collapsed": false,
    "ExecuteTime": {
     "end_time": "2024-05-31T10:01:01.477007800Z",
     "start_time": "2024-05-31T10:01:01.463671200Z"
    }
   },
   "id": "32e75f71c8bee821"
  },
  {
   "cell_type": "markdown",
   "source": [
    "## Import & Split dataset"
   ],
   "metadata": {
    "collapsed": false
   },
   "id": "5c86840d37e286e3"
  },
  {
   "cell_type": "code",
   "execution_count": 3,
   "outputs": [],
   "source": [
    "ratings_df = pd.read_csv(\"data/ratings.csv\")\n",
    "movies_df = pd.read_csv(\"data/movies.csv\", index_col=\"movieId\")\n",
    "\n",
    "X = ratings_df.drop([\"rating\"], axis=1)\n",
    "y = ratings_df[\"rating\"]\n",
    "\n",
    "X_train, X_test, y_train, y_test = train_test_split(X, y, train_size=train_size, random_state=random_state)\n",
    "ratings_train_df = pd.concat([X_train, y_train], axis=1)\n",
    "ratings_test_df = pd.concat([X_test, y_test], axis=1)"
   ],
   "metadata": {
    "collapsed": false,
    "ExecuteTime": {
     "end_time": "2024-05-31T10:01:17.478672300Z",
     "start_time": "2024-05-31T10:01:01.477007800Z"
    }
   },
   "id": "6735412f0824a406"
  },
  {
   "cell_type": "markdown",
   "source": [
    "## Preprocess"
   ],
   "metadata": {
    "collapsed": false
   },
   "id": "d467359b2c2d5e42"
  },
  {
   "cell_type": "code",
   "execution_count": 4,
   "outputs": [],
   "source": [
    "movies_hot_df = PreProcessingAggregated().transform((movies_df, ratings_train_df))"
   ],
   "metadata": {
    "collapsed": false,
    "ExecuteTime": {
     "end_time": "2024-05-31T10:01:18.874562100Z",
     "start_time": "2024-05-31T10:01:17.481675600Z"
    }
   },
   "id": "34c1f982e01c9bdc"
  },
  {
   "cell_type": "markdown",
   "source": [
    "## Baseline performance\n",
    "We are going to compare 3 baseline models in this section.\n",
    "\n",
    "### Naive constant\n",
    "\n",
    "As the first baseline we predict rating of **2.5** for every pair of USER - MOVIE."
   ],
   "metadata": {
    "collapsed": false
   },
   "id": "3a0e9ce4a12a3bb5"
  },
  {
   "cell_type": "code",
   "execution_count": 5,
   "outputs": [
    {
     "name": "stdout",
     "output_type": "stream",
     "text": [
      "MSE: 2.221\n",
      "MAE: 1.297\n",
      "ACCURACY: 0.453\n"
     ]
    }
   ],
   "source": [
    "y_pred = np.zeros(y_test.shape[0]) + 2.5\n",
    "print_stats(naive_baseline_results := get_performance_stats(y_test, y_pred))"
   ],
   "metadata": {
    "collapsed": false,
    "ExecuteTime": {
     "end_time": "2024-05-31T10:01:19.077140600Z",
     "start_time": "2024-05-31T10:01:18.877564600Z"
    }
   },
   "id": "89852ef664dce374"
  },
  {
   "cell_type": "markdown",
   "source": [
    "### Mean rating over the training set"
   ],
   "metadata": {
    "collapsed": false
   },
   "id": "88bedbb5dd552d7a"
  },
  {
   "cell_type": "code",
   "execution_count": 6,
   "outputs": [
    {
     "name": "stdout",
     "output_type": "stream",
     "text": [
      "MSE: 1.133\n",
      "MAE: 0.843\n",
      "ACCURACY: 0.675\n"
     ]
    }
   ],
   "source": [
    "y_pred = np.zeros(y_test.shape[0]) + y_train.mean()\n",
    "print_stats(global_mean_baseline_results := get_performance_stats(y_test, y_pred))"
   ],
   "metadata": {
    "collapsed": false,
    "ExecuteTime": {
     "end_time": "2024-05-31T10:01:19.357943500Z",
     "start_time": "2024-05-31T10:01:19.079141900Z"
    }
   },
   "id": "c6b26484506f9e7e"
  },
  {
   "cell_type": "markdown",
   "source": [
    "### Mean rating for the movie\n",
    "\n",
    "We have implemented the regressor for this task, and it is put into movie_lens_lib.py"
   ],
   "metadata": {
    "collapsed": false
   },
   "id": "e1821c5b235e7af5"
  },
  {
   "cell_type": "code",
   "execution_count": 7,
   "outputs": [
    {
     "name": "stdout",
     "output_type": "stream",
     "text": [
      "MSE: 0.933\n",
      "MAE: 0.746\n",
      "ACCURACY: 0.725\n"
     ]
    }
   ],
   "source": [
    "x_test_sample = ratings_test_df.sample(frac=1, random_state=42)\n",
    "x_test_sample = x_test_sample[:test_sample_size]\n",
    "y_true = x_test_sample[\"rating\"].values\n",
    "\n",
    "movie_regressor = MovieBasedRegressor().fit(movies_hot_df)\n",
    "movie_predictions = movie_regressor.predict(x_test_sample, False)\n",
    "print_stats(movie_regressor_results := get_performance_stats(y_true, movie_predictions))"
   ],
   "metadata": {
    "collapsed": false,
    "ExecuteTime": {
     "end_time": "2024-05-31T10:01:19.865242200Z",
     "start_time": "2024-05-31T10:01:19.359942400Z"
    }
   },
   "id": "d6a883502bc819be"
  },
  {
   "cell_type": "markdown",
   "source": [
    "## Hybrid performance"
   ],
   "metadata": {
    "collapsed": false
   },
   "id": "e086dad2e9c83d37"
  },
  {
   "cell_type": "code",
   "execution_count": 8,
   "outputs": [
    {
     "name": "stdout",
     "output_type": "stream",
     "text": [
      "MSE: 0.768\n",
      "MAE: 0.672\n",
      "ACCURACY: 0.774\n"
     ]
    }
   ],
   "source": [
    "x_test_sample = ratings_test_df.sample(frac=1, random_state=42)\n",
    "x_test_sample = x_test_sample[:test_sample_size]\n",
    "y_true = x_test_sample[\"rating\"].values\n",
    "\n",
    "hybrid_regressor = HybridRegressor(\n",
    "    movies_hot_df,\n",
    "    cluster_based_regressor = ClusterBasedRegressor(\n",
    "        movies_hot_df,\n",
    "        n_movie_clusters,\n",
    "        rating_multiplier,\n",
    "        year_multiplier,\n",
    "        random_state\n",
    "    )\n",
    ").fit(X_train, y_train)\n",
    "\n",
    "hybrid_predictions = hybrid_regressor.predict(x_test_sample, False)\n",
    "print_stats(hybrid_results := get_performance_stats(y_true, hybrid_predictions))"
   ],
   "metadata": {
    "collapsed": false,
    "ExecuteTime": {
     "end_time": "2024-05-31T10:02:23.120098500Z",
     "start_time": "2024-05-31T10:01:19.867234300Z"
    }
   },
   "id": "b9481c48cff9490d"
  },
  {
   "cell_type": "markdown",
   "source": [
    "## Performance comparison"
   ],
   "metadata": {
    "collapsed": false
   },
   "id": "7fadc28bf596897e"
  },
  {
   "cell_type": "code",
   "execution_count": 9,
   "outputs": [],
   "source": [
    "import matplotlib.pyplot as plt\n",
    "import seaborn as sns"
   ],
   "metadata": {
    "collapsed": false,
    "ExecuteTime": {
     "end_time": "2024-05-31T10:02:23.133098400Z",
     "start_time": "2024-05-31T10:02:23.111099700Z"
    }
   },
   "id": "ee3d3b4f44d061df"
  },
  {
   "cell_type": "code",
   "execution_count": 10,
   "outputs": [
    {
     "data": {
      "text/plain": "<Figure size 1200x500 with 3 Axes>",
      "image/png": "[encoded data removed]"
     },
     "metadata": {},
     "output_type": "display_data"
    }
   ],
   "source": [
    "results = [naive_baseline_results, global_mean_baseline_results, movie_regressor_results, hybrid_results]\n",
    "result_names = [\"Naive Baseline\", \"Global Mean Baseline\", \"Movie Regressor\", \"Hybrid\"]\n",
    "\n",
    "data = []\n",
    "for name, result in zip(result_names, results):\n",
    "    for metric, value in result.items():\n",
    "        data.append({\"Model\": name, \"Metric\": metric, \"Value\": value})\n",
    "\n",
    "df = pd.DataFrame(data)\n",
    "\n",
    "sns.set(style=\"whitegrid\")\n",
    "sns.set_context(\"talk\")\n",
    "\n",
    "colors = sns.color_palette(\"Set2\", len(result_names))\n",
    "\n",
    "fig, axs = plt.subplots(1, 3, figsize=(12, 5))  # Adjust width for horizontal layout\n",
    "\n",
    "sns.barplot(x=\"Model\", y=\"Value\", hue=\"Model\", data=df[df[\"Metric\"] == \"mae\"], palette=colors, width=0.5, ax=axs[0], dodge=False)\n",
    "axs[0].set_title(\"MAE\", fontsize=20)\n",
    "axs[0].set_ylabel(\"MAE\", fontsize=16)\n",
    "axs[0].set_xlabel(\"\")\n",
    "axs[0].tick_params(axis='y', labelsize=14)\n",
    "axs[0].set_xticks([])\n",
    "\n",
    "sns.barplot(x=\"Model\", y=\"Value\", hue=\"Model\", data=df[df[\"Metric\"] == \"mse\"], palette=colors, width=0.5, ax=axs[1], dodge=False)\n",
    "axs[1].set_title(\"MSE\", fontsize=20)\n",
    "axs[1].set_ylabel(\"MSE\", fontsize=16)\n",
    "axs[1].set_xlabel(\"\")\n",
    "axs[1].tick_params(axis='y', labelsize=14)\n",
    "axs[1].set_xticks([])\n",
    "\n",
    "sns.barplot(x=\"Model\", y=\"Value\", hue=\"Model\", data=df[df[\"Metric\"] == \"accuracy\"], palette=colors, width=0.5, ax=axs[2], dodge=False)\n",
    "axs[2].set_title(\"Accuracy\", fontsize=20)\n",
    "axs[2].set_ylabel(\"Accuracy\", fontsize=16)\n",
    "axs[2].set_xlabel(\"\")\n",
    "axs[2].tick_params(axis='y', labelsize=14)\n",
    "axs[2].set_xticks([])\n",
    "\n",
    "handles = [plt.Rectangle((0,0),1,1, color=color) for color in colors]\n",
    "labels = result_names\n",
    "fig.legend(handles, labels, loc='lower center', ncol=4, fontsize=18, title=\"Models\", title_fontsize=20, bbox_to_anchor=(0.5, -0.05))\n",
    "\n",
    "plt.tight_layout(rect=(0.0, 0.1, 1.0, 1.0))\n",
    "plt.show()"
   ],
   "metadata": {
    "collapsed": false,
    "ExecuteTime": {
     "end_time": "2024-05-31T10:02:23.678434900Z",
     "start_time": "2024-05-31T10:02:23.116099300Z"
    }
   },
   "id": "e821a15051e8e1d6"
  },
  {
   "cell_type": "code",
   "execution_count": 10,
   "outputs": [],
   "source": [],
   "metadata": {
    "collapsed": false,
    "ExecuteTime": {
     "end_time": "2024-05-31T10:02:23.695383800Z",
     "start_time": "2024-05-31T10:02:23.685383300Z"
    }
   },
   "id": "d816da5dfd746a7f"
  }
 ],
 "metadata": {
  "kernelspec": {
   "display_name": "Python 3",
   "language": "python",
   "name": "python3"
  },
  "language_info": {
   "codemirror_mode": {
    "name": "ipython",
    "version": 2
   },
   "file_extension": ".py",
   "mimetype": "text/x-python",
   "name": "python",
   "nbconvert_exporter": "python",
   "pygments_lexer": "ipython2",
   "version": "2.7.6"
  }
 },
 "nbformat": 4,
 "nbformat_minor": 5
}
