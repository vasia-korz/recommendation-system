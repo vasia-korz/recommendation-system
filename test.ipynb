{
 "cells": [
  {
   "cell_type": "markdown",
   "id": "1ce0c6439adb27d7",
   "metadata": {
    "collapsed": false
   },
   "source": [
    "# Test of flagman performance\n",
    "\n",
    "In this notebook we compare the improvement made by the hybrid model over the baseline."
   ]
  },
  {
   "cell_type": "code",
   "execution_count": 1,
   "id": "initial_id",
   "metadata": {
    "ExecuteTime": {
     "end_time": "2024-05-31T10:16:27.109780600Z",
     "start_time": "2024-05-31T10:16:26.560083400Z"
    },
    "collapsed": true
   },
   "outputs": [],
   "source": [
    "import pandas as pd\n",
    "from sklearn.model_selection import train_test_split\n",
    "\n",
    "from movie_lens_lib import *\n",
    "from visualization import hybrid_vs_baselines_visualization"
   ]
  },
  {
   "cell_type": "markdown",
   "id": "fc6fb4e2a4c5bcf5",
   "metadata": {
    "collapsed": false
   },
   "source": [
    "## Constants"
   ]
  },
  {
   "cell_type": "code",
   "execution_count": 2,
   "id": "32e75f71c8bee821",
   "metadata": {
    "ExecuteTime": {
     "end_time": "2024-05-31T10:16:27.116889600Z",
     "start_time": "2024-05-31T10:16:27.114888400Z"
    },
    "collapsed": false
   },
   "outputs": [],
   "source": [
    "n_movie_clusters = 5\n",
    "rating_multiplier = 5\n",
    "year_multiplier = 0.05\n",
    "weight_genre, weight_cluster, weight_movie = 0.35, 0.45, 0.2\n",
    "train_size = 0.9\n",
    "random_state = 42"
   ]
  },
  {
   "cell_type": "markdown",
   "id": "5c86840d37e286e3",
   "metadata": {
    "collapsed": false
   },
   "source": [
    "## Import & Split dataset"
   ]
  },
  {
   "cell_type": "code",
   "execution_count": 3,
   "id": "6735412f0824a406",
   "metadata": {
    "ExecuteTime": {
     "end_time": "2024-05-31T10:16:42.967863Z",
     "start_time": "2024-05-31T10:16:27.116889600Z"
    },
    "collapsed": false
   },
   "outputs": [],
   "source": [
    "ratings_df = pd.read_csv(\"data/ratings.csv\")\n",
    "movies_df = pd.read_csv(\"data/movies.csv\", index_col=\"movieId\")\n",
    "\n",
    "X = ratings_df.drop([\"rating\"], axis=1)\n",
    "y = ratings_df[\"rating\"]\n",
    "\n",
    "X_train, X_test, y_train, y_test = train_test_split(X, y, train_size=train_size, random_state=random_state)\n",
    "ratings_train_df = pd.concat([X_train, y_train], axis=1)\n",
    "ratings_test_df = pd.concat([X_test, y_test], axis=1)"
   ]
  },
  {
   "cell_type": "markdown",
   "id": "d467359b2c2d5e42",
   "metadata": {
    "collapsed": false
   },
   "source": [
    "## Preprocess"
   ]
  },
  {
   "cell_type": "code",
   "execution_count": 4,
   "id": "34c1f982e01c9bdc",
   "metadata": {
    "ExecuteTime": {
     "end_time": "2024-05-31T10:16:44.238940400Z",
     "start_time": "2024-05-31T10:16:42.967863Z"
    },
    "collapsed": false
   },
   "outputs": [],
   "source": [
    "movies_hot_df = PreProcessingAggregated().transform((movies_df, ratings_train_df))"
   ]
  },
  {
   "cell_type": "markdown",
   "id": "3a0e9ce4a12a3bb5",
   "metadata": {
    "collapsed": false
   },
   "source": [
    "## Baseline performance\n",
    "We are going to compare 3 baseline models in this section.\n",
    "\n",
    "### Naive constant\n",
    "\n",
    "As the first baseline we predict rating of **2.5** for every pair of USER - MOVIE."
   ]
  },
  {
   "cell_type": "code",
   "execution_count": 5,
   "id": "89852ef664dce374",
   "metadata": {
    "ExecuteTime": {
     "end_time": "2024-05-31T10:16:44.429893200Z",
     "start_time": "2024-05-31T10:16:44.238940400Z"
    },
    "collapsed": false
   },
   "outputs": [
    {
     "name": "stdout",
     "output_type": "stream",
     "text": [
      "MSE: 2.221\n",
      "MAE: 1.297\n",
      "ACCURACY: 0.453\n"
     ]
    }
   ],
   "source": [
    "y_pred = np.zeros(y_test.shape[0]) + 2.5\n",
    "print_stats(naive_baseline_results := get_performance_stats(y_test, y_pred))"
   ]
  },
  {
   "cell_type": "markdown",
   "id": "88bedbb5dd552d7a",
   "metadata": {
    "collapsed": false
   },
   "source": [
    "### Mean rating over the training set"
   ]
  },
  {
   "cell_type": "code",
   "execution_count": 6,
   "id": "c6b26484506f9e7e",
   "metadata": {
    "ExecuteTime": {
     "end_time": "2024-05-31T10:16:44.709903300Z",
     "start_time": "2024-05-31T10:16:44.429893200Z"
    },
    "collapsed": false
   },
   "outputs": [
    {
     "name": "stdout",
     "output_type": "stream",
     "text": [
      "MSE: 1.133\n",
      "MAE: 0.843\n",
      "ACCURACY: 0.675\n"
     ]
    }
   ],
   "source": [
    "y_pred = np.zeros(y_test.shape[0]) + y_train.mean()\n",
    "print_stats(global_mean_baseline_results := get_performance_stats(y_test, y_pred))"
   ]
  },
  {
   "cell_type": "markdown",
   "id": "e1821c5b235e7af5",
   "metadata": {
    "collapsed": false
   },
   "source": [
    "### Mean rating for the movie\n",
    "\n",
    "We have implemented the regressor for this task, and it is put into movie_lens_lib.py"
   ]
  },
  {
   "cell_type": "code",
   "execution_count": 7,
   "id": "d6a883502bc819be",
   "metadata": {
    "ExecuteTime": {
     "end_time": "2024-05-31T10:16:45.180201900Z",
     "start_time": "2024-05-31T10:16:44.709903300Z"
    },
    "collapsed": false
   },
   "outputs": [
    {
     "name": "stdout",
     "output_type": "stream",
     "text": [
      "MSE: 0.932\n",
      "MAE: 0.745\n",
      "ACCURACY: 0.727\n"
     ]
    }
   ],
   "source": [
    "movie_regressor = MovieBasedRegressor().fit(movies_hot_df)\n",
    "movie_predictions = movie_regressor.predict(X_test, False)\n",
    "print_stats(movie_regressor_results := get_performance_stats(y_test, movie_predictions))"
   ]
  },
  {
   "cell_type": "markdown",
   "id": "e086dad2e9c83d37",
   "metadata": {
    "collapsed": false
   },
   "source": [
    "## Hybrid performance"
   ]
  },
  {
   "cell_type": "code",
   "execution_count": 8,
   "id": "b9481c48cff9490d",
   "metadata": {
    "ExecuteTime": {
     "end_time": "2024-05-31T10:17:43.882477100Z",
     "start_time": "2024-05-31T10:16:45.180201900Z"
    },
    "collapsed": false
   },
   "outputs": [
    {
     "name": "stdout",
     "output_type": "stream",
     "text": [
      "MSE: 0.75\n",
      "MAE: 0.664\n",
      "ACCURACY: 0.78\n"
     ]
    }
   ],
   "source": [
    "hybrid_regressor = HybridRegressor(\n",
    "    movies_hot_df,\n",
    "    cluster_based_regressor = ClusterBasedRegressor(\n",
    "        movies_hot_df,\n",
    "        n_movie_clusters,\n",
    "        rating_multiplier,\n",
    "        year_multiplier,\n",
    "        random_state\n",
    "    )\n",
    ").fit(X_train, y_train)\n",
    "\n",
    "hybrid_predictions = hybrid_regressor.predict(X_test, False)\n",
    "print_stats(hybrid_results := get_performance_stats(y_test, hybrid_predictions))"
   ]
  },
  {
   "cell_type": "markdown",
   "id": "7fadc28bf596897e",
   "metadata": {
    "collapsed": false
   },
   "source": [
    "## Performance comparison"
   ]
  },
  {
   "cell_type": "code",
   "execution_count": 9,
   "id": "e821a15051e8e1d6",
   "metadata": {
    "ExecuteTime": {
     "end_time": "2024-05-31T10:17:44.418572Z",
     "start_time": "2024-05-31T10:17:43.882477100Z"
    },
    "collapsed": false
   },
   "outputs": [
    {
     "data": {
      "image/png": "[encoded data removed]",
      "text/plain": [
       "<Figure size 1200x500 with 3 Axes>"
      ]
     },
     "metadata": {},
     "output_type": "display_data"
    }
   ],
   "source": [
    "results = {\n",
    "    \"Naive Baseline\": naive_baseline_results,\n",
    "    \"Global Mean Baseline\": global_mean_baseline_results,\n",
    "    \"Movie Regressor\": movie_regressor_results,\n",
    "    \"Hybrid\": hybrid_results\n",
    "}\n",
    "hybrid_vs_baselines_visualization(results)"
   ]
  }
 ],
 "metadata": {
  "kernelspec": {
   "display_name": "Python 3",
   "language": "python",
   "name": "python3"
  },
  "language_info": {
   "codemirror_mode": {
    "name": "ipython",
    "version": 3
   },
   "file_extension": ".py",
   "mimetype": "text/x-python",
   "name": "python",
   "nbconvert_exporter": "python",
   "pygments_lexer": "ipython3",
   "version": "3.11.6"
  }
 },
 "nbformat": 4,
 "nbformat_minor": 5
}
