{
 "cells": [
  {
   "cell_type": "markdown",
   "id": "fb170b25",
   "metadata": {},
   "source": [
    "# Samples of library usage\n",
    "Here you can find a set of use cases of the library."
   ]
  },
  {
   "cell_type": "markdown",
   "id": "2d94ad02",
   "metadata": {},
   "source": [
    "## Imports"
   ]
  },
  {
   "cell_type": "code",
   "execution_count": 1,
   "id": "initial_id",
   "metadata": {
    "collapsed": true,
    "ExecuteTime": {
     "end_time": "2024-05-31T11:54:01.257743400Z",
     "start_time": "2024-05-31T11:54:00.813067900Z"
    }
   },
   "outputs": [],
   "source": [
    "from movie_lens_lib import *\n",
    "import pandas as pd\n",
    "from sklearn.model_selection import train_test_split"
   ]
  },
  {
   "cell_type": "markdown",
   "id": "b0f0723ec572db8c",
   "metadata": {
    "collapsed": false
   },
   "source": [
    "## Constants\n",
    "\n",
    "The following set of constants was estimated to give the best performance results on the test set for the Hybrid model (random_seed and train_size of course weren't chosen upon that). "
   ]
  },
  {
   "cell_type": "code",
   "execution_count": 2,
   "id": "48c661c2a76a0496",
   "metadata": {
    "collapsed": false,
    "ExecuteTime": {
     "end_time": "2024-05-31T11:54:01.257743400Z",
     "start_time": "2024-05-31T11:54:01.255766700Z"
    }
   },
   "outputs": [],
   "source": [
    "n_movie_clusters = 5\n",
    "rating_multiplier = 5\n",
    "year_multiplier = 0.05\n",
    "weight_genre, weight_cluster, weight_movie = 0.35, 0.45, 0.2\n",
    "train_size = 0.9\n",
    "random_state = 42"
   ]
  },
  {
   "cell_type": "markdown",
   "id": "be7a15e5c21403d5",
   "metadata": {
    "collapsed": false
   },
   "source": [
    "## Import & Split of the dataset\n",
    "\n",
    "Library is working with movie lens dataset."
   ]
  },
  {
   "cell_type": "code",
   "execution_count": 3,
   "id": "c9d5bc9ed56d81ef",
   "metadata": {
    "collapsed": false,
    "ExecuteTime": {
     "end_time": "2024-05-31T11:54:16.954000800Z",
     "start_time": "2024-05-31T11:54:01.260740800Z"
    }
   },
   "outputs": [],
   "source": [
    "ratings_df = pd.read_csv(\"data/ratings.csv\")\n",
    "movies_df = pd.read_csv(\"data/movies.csv\", index_col=\"movieId\")\n",
    "\n",
    "X = ratings_df.drop([\"rating\"], axis=1)\n",
    "y = ratings_df[\"rating\"]\n",
    "\n",
    "X_train, X_test, y_train, y_test = train_test_split(X, y, train_size=train_size, random_state=random_state)\n",
    "ratings_train_df = pd.concat([X_train, y_train], axis=1)\n",
    "ratings_test_df = pd.concat([X_test, y_test], axis=1)"
   ]
  },
  {
   "cell_type": "markdown",
   "id": "3fc7d549",
   "metadata": {},
   "source": [
    "## Preprocess\n",
    "\n",
    "There are two preprocessing transformers.\n",
    "\n",
    "* **PreProcessingBase()** is used for GenreBasedRegressor\n",
    "* **PreProcessingAggregated()** is required for ClusterBasedRegressor and MovieBasedRegressor, however, is also compatible with GenreBasedRegressor"
   ]
  },
  {
   "cell_type": "code",
   "execution_count": 4,
   "id": "f18f3dbb",
   "metadata": {
    "ExecuteTime": {
     "end_time": "2024-05-31T11:54:17.184313500Z",
     "start_time": "2024-05-31T11:54:16.958000300Z"
    }
   },
   "outputs": [
    {
     "data": {
      "text/plain": "                                              Genres_Split  \\\nmovieId                                                      \n1        [Adventure, Animation, Children, Comedy, Fantasy]   \n2                           [Adventure, Children, Fantasy]   \n3                                        [Comedy, Romance]   \n4                                 [Comedy, Drama, Romance]   \n5                                                 [Comedy]   \n\n         (no genres listed)  Action  Adventure  Animation  Children  Comedy  \\\nmovieId                                                                       \n1                         0       0          1          1         1       1   \n2                         0       0          1          0         1       0   \n3                         0       0          0          0         0       1   \n4                         0       0          0          0         0       1   \n5                         0       0          0          0         0       1   \n\n         Crime  Documentary  Drama  ...  Film-Noir  Horror  IMAX  Musical  \\\nmovieId                             ...                                     \n1            0            0      0  ...          0       0     0        0   \n2            0            0      0  ...          0       0     0        0   \n3            0            0      0  ...          0       0     0        0   \n4            0            0      1  ...          0       0     0        0   \n5            0            0      0  ...          0       0     0        0   \n\n         Mystery  Romance  Sci-Fi  Thriller  War  Western  \nmovieId                                                    \n1              0        0       0         0    0        0  \n2              0        0       0         0    0        0  \n3              0        1       0         0    0        0  \n4              0        1       0         0    0        0  \n5              0        0       0         0    0        0  \n\n[5 rows x 21 columns]",
      "text/html": "<div>\n<style scoped>\n    .dataframe tbody tr th:only-of-type {\n        vertical-align: middle;\n    }\n\n    .dataframe tbody tr th {\n        vertical-align: top;\n    }\n\n    .dataframe thead th {\n        text-align: right;\n    }\n</style>\n<table border=\"1\" class=\"dataframe\">\n  <thead>\n    <tr style=\"text-align: right;\">\n      <th></th>\n      <th>Genres_Split</th>\n      <th>(no genres listed)</th>\n      <th>Action</th>\n      <th>Adventure</th>\n      <th>Animation</th>\n      <th>Children</th>\n      <th>Comedy</th>\n      <th>Crime</th>\n      <th>Documentary</th>\n      <th>Drama</th>\n      <th>...</th>\n      <th>Film-Noir</th>\n      <th>Horror</th>\n      <th>IMAX</th>\n      <th>Musical</th>\n      <th>Mystery</th>\n      <th>Romance</th>\n      <th>Sci-Fi</th>\n      <th>Thriller</th>\n      <th>War</th>\n      <th>Western</th>\n    </tr>\n    <tr>\n      <th>movieId</th>\n      <th></th>\n      <th></th>\n      <th></th>\n      <th></th>\n      <th></th>\n      <th></th>\n      <th></th>\n      <th></th>\n      <th></th>\n      <th></th>\n      <th></th>\n      <th></th>\n      <th></th>\n      <th></th>\n      <th></th>\n      <th></th>\n      <th></th>\n      <th></th>\n      <th></th>\n      <th></th>\n      <th></th>\n    </tr>\n  </thead>\n  <tbody>\n    <tr>\n      <th>1</th>\n      <td>[Adventure, Animation, Children, Comedy, Fantasy]</td>\n      <td>0</td>\n      <td>0</td>\n      <td>1</td>\n      <td>1</td>\n      <td>1</td>\n      <td>1</td>\n      <td>0</td>\n      <td>0</td>\n      <td>0</td>\n      <td>...</td>\n      <td>0</td>\n      <td>0</td>\n      <td>0</td>\n      <td>0</td>\n      <td>0</td>\n      <td>0</td>\n      <td>0</td>\n      <td>0</td>\n      <td>0</td>\n      <td>0</td>\n    </tr>\n    <tr>\n      <th>2</th>\n      <td>[Adventure, Children, Fantasy]</td>\n      <td>0</td>\n      <td>0</td>\n      <td>1</td>\n      <td>0</td>\n      <td>1</td>\n      <td>0</td>\n      <td>0</td>\n      <td>0</td>\n      <td>0</td>\n      <td>...</td>\n      <td>0</td>\n      <td>0</td>\n      <td>0</td>\n      <td>0</td>\n      <td>0</td>\n      <td>0</td>\n      <td>0</td>\n      <td>0</td>\n      <td>0</td>\n      <td>0</td>\n    </tr>\n    <tr>\n      <th>3</th>\n      <td>[Comedy, Romance]</td>\n      <td>0</td>\n      <td>0</td>\n      <td>0</td>\n      <td>0</td>\n      <td>0</td>\n      <td>1</td>\n      <td>0</td>\n      <td>0</td>\n      <td>0</td>\n      <td>...</td>\n      <td>0</td>\n      <td>0</td>\n      <td>0</td>\n      <td>0</td>\n      <td>0</td>\n      <td>1</td>\n      <td>0</td>\n      <td>0</td>\n      <td>0</td>\n      <td>0</td>\n    </tr>\n    <tr>\n      <th>4</th>\n      <td>[Comedy, Drama, Romance]</td>\n      <td>0</td>\n      <td>0</td>\n      <td>0</td>\n      <td>0</td>\n      <td>0</td>\n      <td>1</td>\n      <td>0</td>\n      <td>0</td>\n      <td>1</td>\n      <td>...</td>\n      <td>0</td>\n      <td>0</td>\n      <td>0</td>\n      <td>0</td>\n      <td>0</td>\n      <td>1</td>\n      <td>0</td>\n      <td>0</td>\n      <td>0</td>\n      <td>0</td>\n    </tr>\n    <tr>\n      <th>5</th>\n      <td>[Comedy]</td>\n      <td>0</td>\n      <td>0</td>\n      <td>0</td>\n      <td>0</td>\n      <td>0</td>\n      <td>1</td>\n      <td>0</td>\n      <td>0</td>\n      <td>0</td>\n      <td>...</td>\n      <td>0</td>\n      <td>0</td>\n      <td>0</td>\n      <td>0</td>\n      <td>0</td>\n      <td>0</td>\n      <td>0</td>\n      <td>0</td>\n      <td>0</td>\n      <td>0</td>\n    </tr>\n  </tbody>\n</table>\n<p>5 rows × 21 columns</p>\n</div>"
     },
     "execution_count": 4,
     "metadata": {},
     "output_type": "execute_result"
    }
   ],
   "source": [
    "PreProcessingBase().fit_transform(movies_df).head()"
   ]
  },
  {
   "cell_type": "code",
   "execution_count": 5,
   "id": "9f777aab",
   "metadata": {
    "ExecuteTime": {
     "end_time": "2024-05-31T11:54:18.687082300Z",
     "start_time": "2024-05-31T11:54:17.183316100Z"
    }
   },
   "outputs": [
    {
     "data": {
      "text/plain": "                                              Genres_Split  \\\nmovieId                                                      \n1        [Adventure, Animation, Children, Comedy, Fantasy]   \n2                           [Adventure, Children, Fantasy]   \n3                                        [Comedy, Romance]   \n4                                 [Comedy, Drama, Romance]   \n5                                                 [Comedy]   \n\n         (no genres listed)  Action  Adventure  Animation  Children  Comedy  \\\nmovieId                                                                       \n1                         0       0          1          1         1       1   \n2                         0       0          1          0         1       0   \n3                         0       0          0          0         0       1   \n4                         0       0          0          0         0       1   \n5                         0       0          0          0         0       1   \n\n         Crime  Documentary  Drama  ...  IMAX  Musical  Mystery  Romance  \\\nmovieId                             ...                                    \n1            0            0      0  ...     0        0        0        0   \n2            0            0      0  ...     0        0        0        0   \n3            0            0      0  ...     0        0        0        1   \n4            0            0      1  ...     0        0        0        1   \n5            0            0      0  ...     0        0        0        0   \n\n         Sci-Fi  Thriller  War  Western  rating_mean    year  \nmovieId                                                       \n1             0         0    0        0     3.893497  1995.0  \n2             0         0    0        0     3.278157  1995.0  \n3             0         0    0        0     3.169460  1995.0  \n4             0         0    0        0     2.866337  1995.0  \n5             0         0    0        0     3.079414  1995.0  \n\n[5 rows x 23 columns]",
      "text/html": "<div>\n<style scoped>\n    .dataframe tbody tr th:only-of-type {\n        vertical-align: middle;\n    }\n\n    .dataframe tbody tr th {\n        vertical-align: top;\n    }\n\n    .dataframe thead th {\n        text-align: right;\n    }\n</style>\n<table border=\"1\" class=\"dataframe\">\n  <thead>\n    <tr style=\"text-align: right;\">\n      <th></th>\n      <th>Genres_Split</th>\n      <th>(no genres listed)</th>\n      <th>Action</th>\n      <th>Adventure</th>\n      <th>Animation</th>\n      <th>Children</th>\n      <th>Comedy</th>\n      <th>Crime</th>\n      <th>Documentary</th>\n      <th>Drama</th>\n      <th>...</th>\n      <th>IMAX</th>\n      <th>Musical</th>\n      <th>Mystery</th>\n      <th>Romance</th>\n      <th>Sci-Fi</th>\n      <th>Thriller</th>\n      <th>War</th>\n      <th>Western</th>\n      <th>rating_mean</th>\n      <th>year</th>\n    </tr>\n    <tr>\n      <th>movieId</th>\n      <th></th>\n      <th></th>\n      <th></th>\n      <th></th>\n      <th></th>\n      <th></th>\n      <th></th>\n      <th></th>\n      <th></th>\n      <th></th>\n      <th></th>\n      <th></th>\n      <th></th>\n      <th></th>\n      <th></th>\n      <th></th>\n      <th></th>\n      <th></th>\n      <th></th>\n      <th></th>\n      <th></th>\n    </tr>\n  </thead>\n  <tbody>\n    <tr>\n      <th>1</th>\n      <td>[Adventure, Animation, Children, Comedy, Fantasy]</td>\n      <td>0</td>\n      <td>0</td>\n      <td>1</td>\n      <td>1</td>\n      <td>1</td>\n      <td>1</td>\n      <td>0</td>\n      <td>0</td>\n      <td>0</td>\n      <td>...</td>\n      <td>0</td>\n      <td>0</td>\n      <td>0</td>\n      <td>0</td>\n      <td>0</td>\n      <td>0</td>\n      <td>0</td>\n      <td>0</td>\n      <td>3.893497</td>\n      <td>1995.0</td>\n    </tr>\n    <tr>\n      <th>2</th>\n      <td>[Adventure, Children, Fantasy]</td>\n      <td>0</td>\n      <td>0</td>\n      <td>1</td>\n      <td>0</td>\n      <td>1</td>\n      <td>0</td>\n      <td>0</td>\n      <td>0</td>\n      <td>0</td>\n      <td>...</td>\n      <td>0</td>\n      <td>0</td>\n      <td>0</td>\n      <td>0</td>\n      <td>0</td>\n      <td>0</td>\n      <td>0</td>\n      <td>0</td>\n      <td>3.278157</td>\n      <td>1995.0</td>\n    </tr>\n    <tr>\n      <th>3</th>\n      <td>[Comedy, Romance]</td>\n      <td>0</td>\n      <td>0</td>\n      <td>0</td>\n      <td>0</td>\n      <td>0</td>\n      <td>1</td>\n      <td>0</td>\n      <td>0</td>\n      <td>0</td>\n      <td>...</td>\n      <td>0</td>\n      <td>0</td>\n      <td>0</td>\n      <td>1</td>\n      <td>0</td>\n      <td>0</td>\n      <td>0</td>\n      <td>0</td>\n      <td>3.169460</td>\n      <td>1995.0</td>\n    </tr>\n    <tr>\n      <th>4</th>\n      <td>[Comedy, Drama, Romance]</td>\n      <td>0</td>\n      <td>0</td>\n      <td>0</td>\n      <td>0</td>\n      <td>0</td>\n      <td>1</td>\n      <td>0</td>\n      <td>0</td>\n      <td>1</td>\n      <td>...</td>\n      <td>0</td>\n      <td>0</td>\n      <td>0</td>\n      <td>1</td>\n      <td>0</td>\n      <td>0</td>\n      <td>0</td>\n      <td>0</td>\n      <td>2.866337</td>\n      <td>1995.0</td>\n    </tr>\n    <tr>\n      <th>5</th>\n      <td>[Comedy]</td>\n      <td>0</td>\n      <td>0</td>\n      <td>0</td>\n      <td>0</td>\n      <td>0</td>\n      <td>1</td>\n      <td>0</td>\n      <td>0</td>\n      <td>0</td>\n      <td>...</td>\n      <td>0</td>\n      <td>0</td>\n      <td>0</td>\n      <td>0</td>\n      <td>0</td>\n      <td>0</td>\n      <td>0</td>\n      <td>0</td>\n      <td>3.079414</td>\n      <td>1995.0</td>\n    </tr>\n  </tbody>\n</table>\n<p>5 rows × 23 columns</p>\n</div>"
     },
     "execution_count": 5,
     "metadata": {},
     "output_type": "execute_result"
    }
   ],
   "source": [
    "movies_hot_df = PreProcessingAggregated().transform((movies_df, ratings_train_df))\n",
    "movies_hot_df.head()"
   ]
  },
  {
   "cell_type": "markdown",
   "id": "035c64ee",
   "metadata": {},
   "source": [
    "## Regression\n",
    "\n",
    "Examples of how models can be fit."
   ]
  },
  {
   "cell_type": "markdown",
   "source": [
    "### GenreBasedRegressor"
   ],
   "metadata": {
    "collapsed": false
   },
   "id": "115d88e0938db2a4"
  },
  {
   "cell_type": "code",
   "execution_count": 6,
   "id": "914b991f",
   "metadata": {
    "ExecuteTime": {
     "end_time": "2024-05-31T11:55:00.712984600Z",
     "start_time": "2024-05-31T11:54:18.688082800Z"
    }
   },
   "outputs": [],
   "source": [
    "genre_based_regressor = GenreBasedRegressor(movies_hot_df).fit(X_train, y_train)"
   ]
  },
  {
   "cell_type": "markdown",
   "source": [
    "### ClusterBasedRegressor"
   ],
   "metadata": {
    "collapsed": false
   },
   "id": "457c3ba5855087c3"
  },
  {
   "cell_type": "code",
   "execution_count": 7,
   "id": "4be21c3e",
   "metadata": {
    "ExecuteTime": {
     "end_time": "2024-05-31T11:55:12.627020400Z",
     "start_time": "2024-05-31T11:55:00.704986600Z"
    }
   },
   "outputs": [],
   "source": [
    "cluster_based_regressor = ClusterBasedRegressor(\n",
    "    movies_hot_df,\n",
    "    n_movie_clusters,\n",
    "    rating_multiplier,\n",
    "    year_multiplier,\n",
    "    random_state\n",
    ").fit(X_train, y_train)"
   ]
  },
  {
   "cell_type": "markdown",
   "source": [
    "### MovieBasedRegressor"
   ],
   "metadata": {
    "collapsed": false
   },
   "id": "8a2e66b28b713130"
  },
  {
   "cell_type": "code",
   "execution_count": 8,
   "id": "a302a6ff",
   "metadata": {
    "ExecuteTime": {
     "end_time": "2024-05-31T11:55:12.636924800Z",
     "start_time": "2024-05-31T11:55:12.629020200Z"
    }
   },
   "outputs": [],
   "source": [
    "movie_based_regressor = MovieBasedRegressor().fit(movies_hot_df)"
   ]
  },
  {
   "cell_type": "markdown",
   "source": [
    "### HybridRegressor\n",
    "\n",
    "We may initialize HybridRegressor in various ways, namely:\n",
    "* create HybridRegressor with default parameters\n",
    "* pass parametrized regressors as parameters\n",
    "\n",
    "Cell below shows initialization of HybridRegressor with **default parameters**."
   ],
   "metadata": {
    "collapsed": false
   },
   "id": "6bad6c3559b5cf16"
  },
  {
   "cell_type": "code",
   "execution_count": 9,
   "outputs": [],
   "source": [
    "hybrid_regressor_with_default = HybridRegressor(movies_hot_df).fit(X_train, y_train)"
   ],
   "metadata": {
    "collapsed": false,
    "ExecuteTime": {
     "end_time": "2024-05-31T11:56:04.737397500Z",
     "start_time": "2024-05-31T11:55:12.633925100Z"
    }
   },
   "id": "caa9cb13f22a45e8"
  },
  {
   "cell_type": "markdown",
   "source": [
    "Cell below shows initialization of HybridRegressor **parametrized** with already created regressors. We could fit the model, but as all the regressors are already fit we may skip that call.\n",
    "\n",
    "**Note:** As **HybridRegressor** is a combination of GenreBasedRegressor, ClusterBasedRegressor and MovieBasedRegressor, we may also assign the weights for each of the regressors. Weights correspond to the importance of the output of each regressor model."
   ],
   "metadata": {
    "collapsed": false
   },
   "id": "75a7c1e6af55bef9"
  },
  {
   "cell_type": "code",
   "execution_count": 10,
   "outputs": [],
   "source": [
    "hybrid_regressor_parametrized = HybridRegressor(\n",
    "    movies_hot_df,\n",
    "    (weight_genre, weight_cluster, weight_movie),\n",
    "    genre_based_regressor,\n",
    "    cluster_based_regressor, \n",
    "    movie_based_regressor\n",
    ")"
   ],
   "metadata": {
    "collapsed": false,
    "ExecuteTime": {
     "end_time": "2024-05-31T11:56:04.741404100Z",
     "start_time": "2024-05-31T11:56:04.736431300Z"
    }
   },
   "id": "868b3567e114bee0"
  },
  {
   "cell_type": "markdown",
   "id": "e5390399",
   "metadata": {},
   "source": [
    "## Prediction\n",
    "\n",
    "Predictions will be made based on the test set."
   ]
  },
  {
   "cell_type": "markdown",
   "source": [
    "### GenreBasedRegressor"
   ],
   "metadata": {
    "collapsed": false
   },
   "id": "5f14a373e7858f1"
  },
  {
   "cell_type": "code",
   "execution_count": 11,
   "id": "bd9eb946",
   "metadata": {
    "ExecuteTime": {
     "end_time": "2024-05-31T11:56:26.229770900Z",
     "start_time": "2024-05-31T11:56:04.740405100Z"
    }
   },
   "outputs": [],
   "source": [
    "genre_predictions = genre_based_regressor.predict(X_test, False)"
   ]
  },
  {
   "cell_type": "markdown",
   "source": [
    "### ClusterBasedRegressor"
   ],
   "metadata": {
    "collapsed": false
   },
   "id": "c88b4e5c5a188344"
  },
  {
   "cell_type": "code",
   "execution_count": 12,
   "id": "0f58019a",
   "metadata": {
    "ExecuteTime": {
     "end_time": "2024-05-31T11:56:27.331202400Z",
     "start_time": "2024-05-31T11:56:26.232771500Z"
    }
   },
   "outputs": [],
   "source": [
    "cluster_predictions = cluster_based_regressor.predict(X_test, False)"
   ]
  },
  {
   "cell_type": "markdown",
   "source": [
    "### MovieBasedRegressor"
   ],
   "metadata": {
    "collapsed": false
   },
   "id": "3fde814dad8b060c"
  },
  {
   "cell_type": "code",
   "execution_count": 13,
   "id": "f7a20cf3",
   "metadata": {
    "ExecuteTime": {
     "end_time": "2024-05-31T11:56:27.554356500Z",
     "start_time": "2024-05-31T11:56:27.334204Z"
    }
   },
   "outputs": [],
   "source": [
    "movie_predictions = movie_based_regressor.predict(X_test, False)"
   ]
  },
  {
   "cell_type": "markdown",
   "source": [
    "### HybridRegressor\n",
    "\n",
    "The cell below presents the basic functioning logic behind the HybridRegressor (without an explicit call)."
   ],
   "metadata": {
    "collapsed": false
   },
   "id": "8c748177c3000343"
  },
  {
   "cell_type": "code",
   "execution_count": 14,
   "id": "33d95f9f",
   "metadata": {
    "ExecuteTime": {
     "end_time": "2024-05-31T11:56:27.614406200Z",
     "start_time": "2024-05-31T11:56:27.559357800Z"
    }
   },
   "outputs": [],
   "source": [
    "weights = np.array([weight_genre, weight_cluster, weight_movie])\n",
    "hybrid_predictions_implicit = np.column_stack([genre_predictions, cluster_predictions, movie_predictions]).dot(weights)"
   ]
  },
  {
   "cell_type": "markdown",
   "source": [
    "In the cell below we get predictions from HybridRegressor with default parameters."
   ],
   "metadata": {
    "collapsed": false
   },
   "id": "2bb598d8d2adc81d"
  },
  {
   "cell_type": "code",
   "execution_count": 15,
   "outputs": [],
   "source": [
    "hybrid_predictions_default = hybrid_regressor_with_default.predict(X_test, False)"
   ],
   "metadata": {
    "collapsed": false,
    "ExecuteTime": {
     "end_time": "2024-05-31T11:56:56.715876800Z",
     "start_time": "2024-05-31T11:56:27.616406400Z"
    }
   },
   "id": "64a9fe320802dbfe"
  },
  {
   "cell_type": "markdown",
   "source": [
    "In the cell below we get predictions from HybridRegressor which was parametrized."
   ],
   "metadata": {
    "collapsed": false
   },
   "id": "4c66e4087e1de2f8"
  },
  {
   "cell_type": "code",
   "execution_count": 16,
   "outputs": [],
   "source": [
    "hybrid_predictions_parametrized = hybrid_regressor_parametrized.predict(X_test, False)"
   ],
   "metadata": {
    "collapsed": false,
    "ExecuteTime": {
     "end_time": "2024-05-31T11:57:25.900358Z",
     "start_time": "2024-05-31T11:56:56.716871700Z"
    }
   },
   "id": "df0a5a525246da37"
  },
  {
   "cell_type": "markdown",
   "id": "071f133e",
   "metadata": {},
   "source": [
    "## Evaluation"
   ]
  },
  {
   "cell_type": "code",
   "execution_count": 18,
   "id": "80254a67",
   "metadata": {
    "ExecuteTime": {
     "end_time": "2024-05-31T13:03:13.827760500Z",
     "start_time": "2024-05-31T13:03:10.916129900Z"
    }
   },
   "outputs": [
    {
     "name": "stdout",
     "output_type": "stream",
     "text": [
      "--------------------\n",
      "Genre based prediction\n",
      "MSE: 0.856\n",
      "MAE: 0.711\n",
      "ACCURACY: 0.751\n",
      "--------------------\n",
      "Clustering based prediction\n",
      "MSE: 0.802\n",
      "MAE: 0.669\n",
      "ACCURACY: 0.788\n",
      "--------------------\n",
      "Movie based prediction\n",
      "MSE: 0.932\n",
      "MAE: 0.745\n",
      "ACCURACY: 0.727\n",
      "--------------------\n",
      "Hybrid prediction (by logic)\n",
      "MSE: 0.75\n",
      "MAE: 0.664\n",
      "ACCURACY: 0.78\n",
      "--------------------\n",
      "Hybrid prediction (default parameters)\n",
      "MSE: 0.755\n",
      "MAE: 0.667\n",
      "ACCURACY: 0.778\n",
      "--------------------\n",
      "Hybrid prediction (parametrized)\n",
      "MSE: 0.75\n",
      "MAE: 0.664\n",
      "ACCURACY: 0.78\n"
     ]
    }
   ],
   "source": [
    "print(\"-\" * 20)\n",
    "print(\"Genre based prediction\")\n",
    "print_stats(get_performance_stats(y_test, genre_predictions))\n",
    "\n",
    "print(\"-\" * 20)\n",
    "print(\"Clustering based prediction\")\n",
    "print_stats(get_performance_stats(y_test, cluster_predictions))\n",
    "\n",
    "print(\"-\" * 20)\n",
    "print(\"Movie based prediction\")\n",
    "print_stats(get_performance_stats(y_test, movie_predictions))\n",
    "\n",
    "print(\"-\" * 20)\n",
    "print(\"Hybrid prediction (by logic)\")\n",
    "print_stats(get_performance_stats(y_test, hybrid_predictions_implicit))\n",
    "\n",
    "print(\"-\" * 20)\n",
    "print(\"Hybrid prediction (default parameters)\")\n",
    "print_stats(get_performance_stats(y_test, hybrid_predictions_default))\n",
    "\n",
    "print(\"-\" * 20)\n",
    "print(\"Hybrid prediction (parametrized)\")\n",
    "print_stats(get_performance_stats(y_test, hybrid_predictions_parametrized))"
   ]
  },
  {
   "cell_type": "markdown",
   "source": [
    "As we see results for parametrized and logic based Hybrid models are the same as they used the same regressors. It is important to note that parametrized version might have different results than the model on the default parameters due to unset random_state in the default version."
   ],
   "metadata": {
    "collapsed": false
   },
   "id": "d5d06deff0f92e5c"
  }
 ],
 "metadata": {
  "kernelspec": {
   "display_name": "Python 3",
   "language": "python",
   "name": "python3"
  },
  "language_info": {
   "codemirror_mode": {
    "name": "ipython",
    "version": 3
   },
   "file_extension": ".py",
   "mimetype": "text/x-python",
   "name": "python",
   "nbconvert_exporter": "python",
   "pygments_lexer": "ipython3",
   "version": "3.11.6"
  }
 },
 "nbformat": 4,
 "nbformat_minor": 5
}
