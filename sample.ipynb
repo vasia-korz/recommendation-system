{
 "cells": [
  {
   "cell_type": "code",
   "execution_count": 2,
   "id": "initial_id",
   "metadata": {
    "collapsed": true,
    "ExecuteTime": {
     "end_time": "2024-05-30T14:54:59.314040900Z",
     "start_time": "2024-05-30T14:54:57.515522900Z"
    }
   },
   "outputs": [],
   "source": [
    "from movie_lens_lib import *\n",
    "import pandas as pd\n",
    "from sklearn.model_selection import train_test_split"
   ]
  },
  {
   "cell_type": "markdown",
   "source": [
    "## Constants"
   ],
   "metadata": {
    "collapsed": false
   },
   "id": "b0f0723ec572db8c"
  },
  {
   "cell_type": "code",
   "execution_count": 3,
   "outputs": [],
   "source": [
    "n_movie_clusters = 5\n",
    "rating_multiplier = 5\n",
    "year_multiplier = 0.05\n",
    "test_sample_size = 100_000\n",
    "weight_genre, weight_cluster, weight_movie = 0.35, 0.45, 0.2\n",
    "train_size = 0.9\n",
    "random_state = 42"
   ],
   "metadata": {
    "collapsed": false,
    "ExecuteTime": {
     "end_time": "2024-05-30T14:54:59.320399400Z",
     "start_time": "2024-05-30T14:54:59.320399400Z"
    }
   },
   "id": "48c661c2a76a0496"
  },
  {
   "cell_type": "markdown",
   "source": [
    "## Importing & Split of the dataset"
   ],
   "metadata": {
    "collapsed": false
   },
   "id": "be7a15e5c21403d5"
  },
  {
   "cell_type": "code",
   "execution_count": 4,
   "outputs": [],
   "source": [
    "ratings_df = pd.read_csv(\"data/ratings.csv\")\n",
    "movies_df = pd.read_csv(\"data/movies.csv\", index_col=\"movieId\")\n",
    "\n",
    "X = ratings_df.drop([\"rating\"], axis=1)\n",
    "y = ratings_df[\"rating\"]\n",
    "\n",
    "X_train, X_test, y_train, y_test = train_test_split(X, y, train_size=train_size, random_state=random_state)\n",
    "ratings_train_df = pd.concat([X_train, y_train], axis=1)\n",
    "ratings_test_df = pd.concat([X_test, y_test], axis=1)"
   ],
   "metadata": {
    "collapsed": false,
    "ExecuteTime": {
     "end_time": "2024-05-30T14:57:17.928699200Z",
     "start_time": "2024-05-30T14:57:02.737769600Z"
    }
   },
   "id": "c9d5bc9ed56d81ef"
  },
  {
   "cell_type": "markdown",
   "source": [
    "## Preprocessing & Fitting"
   ],
   "metadata": {
    "collapsed": false
   },
   "id": "e0e9bd9f22cbfa58"
  },
  {
   "cell_type": "code",
   "execution_count": 5,
   "outputs": [
    {
     "name": "stderr",
     "output_type": "stream",
     "text": [
      "C:\\Users\\Василий\\AppData\\Roaming\\Python\\Python311\\site-packages\\sklearn\\cluster\\_kmeans.py:1416: FutureWarning: The default value of `n_init` will change from 10 to 'auto' in 1.4. Set the value of `n_init` explicitly to suppress the warning\n",
      "  super()._check_params_vs_input(X, default_n_init=10)\n"
     ]
    }
   ],
   "source": [
    "movies_hot_df = PreProcessingAggregated().transform((movies_df, ratings_train_df))\n",
    "\n",
    "genre_based_regressor = GenreBasedRegressor(movies_hot_df).fit(X_train, y_train)\n",
    "cluster_based_regressor = ClusterBasedRegressor(\n",
    "    movies_hot_df,\n",
    "    n_movie_clusters,\n",
    "    rating_multiplier,\n",
    "    year_multiplier\n",
    ").fit(X_train, y_train)\n",
    "movie_based_regressor = MovieBasedRegressor().fit(movies_hot_df)"
   ],
   "metadata": {
    "collapsed": false,
    "ExecuteTime": {
     "end_time": "2024-05-30T14:58:41.689322Z",
     "start_time": "2024-05-30T14:57:28.811500200Z"
    }
   },
   "id": "ccfb71ade2cdd97c"
  },
  {
   "cell_type": "markdown",
   "source": [
    "## Testing"
   ],
   "metadata": {
    "collapsed": false
   },
   "id": "45239aafbb7360d5"
  },
  {
   "cell_type": "code",
   "execution_count": 6,
   "outputs": [],
   "source": [
    "x_test_sample = ratings_test_df.sample(frac=1, random_state=42)\n",
    "x_test_sample = x_test_sample[:test_sample_size]\n",
    "y_true = x_test_sample[\"rating\"].values"
   ],
   "metadata": {
    "collapsed": false,
    "ExecuteTime": {
     "end_time": "2024-05-30T14:58:43.199500100Z",
     "start_time": "2024-05-30T14:58:41.736735100Z"
    }
   },
   "id": "ec16db184ce5979d"
  },
  {
   "cell_type": "markdown",
   "source": [
    "### Prediction based on genre"
   ],
   "metadata": {
    "collapsed": false
   },
   "id": "1acf78894a46ad0"
  },
  {
   "cell_type": "code",
   "execution_count": 7,
   "outputs": [
    {
     "name": "stdout",
     "output_type": "stream",
     "text": [
      "MSE: 0.864\n",
      "MAE: 0.714\n",
      "ACCURACY: 0.749\n"
     ]
    }
   ],
   "source": [
    "genre_predictions = genre_based_regressor.predict(x_test_sample, False)\n",
    "print_stats(get_performance_stats(y_true, genre_predictions))"
   ],
   "metadata": {
    "collapsed": false,
    "ExecuteTime": {
     "end_time": "2024-05-30T14:59:24.256310800Z",
     "start_time": "2024-05-30T14:58:43.199500100Z"
    }
   },
   "id": "a013cb0777de2261"
  },
  {
   "cell_type": "markdown",
   "source": [
    "### Prediction based on clustering"
   ],
   "metadata": {
    "collapsed": false
   },
   "id": "5be3baf7464052ac"
  },
  {
   "cell_type": "code",
   "execution_count": 8,
   "outputs": [
    {
     "name": "stdout",
     "output_type": "stream",
     "text": [
      "MSE: 0.812\n",
      "MAE: 0.673\n",
      "ACCURACY: 0.786\n"
     ]
    }
   ],
   "source": [
    "cluster_predictions = cluster_based_regressor.predict(x_test_sample, False)\n",
    "print_stats(get_performance_stats(y_true, cluster_predictions))"
   ],
   "metadata": {
    "collapsed": false,
    "ExecuteTime": {
     "end_time": "2024-05-30T14:59:37.583335300Z",
     "start_time": "2024-05-30T14:59:24.256310800Z"
    }
   },
   "id": "a172583ce10a0b7f"
  },
  {
   "cell_type": "markdown",
   "source": [
    "### Prediction based on movie rating"
   ],
   "metadata": {
    "collapsed": false
   },
   "id": "80e7a44fe7d1f3fd"
  },
  {
   "cell_type": "code",
   "execution_count": 9,
   "outputs": [
    {
     "name": "stdout",
     "output_type": "stream",
     "text": [
      "MSE: 0.812\n",
      "MAE: 0.673\n",
      "ACCURACY: 0.786\n"
     ]
    }
   ],
   "source": [
    "movie_predictions = movie_based_regressor.predict(x_test_sample, False)\n",
    "print_stats(get_performance_stats(y_true, cluster_predictions))"
   ],
   "metadata": {
    "collapsed": false,
    "ExecuteTime": {
     "end_time": "2024-05-30T14:59:41.642916600Z",
     "start_time": "2024-05-30T14:59:37.583335300Z"
    }
   },
   "id": "35e487c16d5c7bf6"
  },
  {
   "cell_type": "markdown",
   "source": [
    "### Prediction based on hybrid"
   ],
   "metadata": {
    "collapsed": false
   },
   "id": "887f7a39cdaf1137"
  },
  {
   "cell_type": "code",
   "execution_count": 10,
   "outputs": [
    {
     "name": "stdout",
     "output_type": "stream",
     "text": [
      "MSE: 0.757\n",
      "MAE: 0.667\n",
      "ACCURACY: 0.778\n"
     ]
    }
   ],
   "source": [
    "weights = np.array([weight_genre, weight_cluster, weight_movie])\n",
    "\n",
    "y_pred = np.array([\n",
    "    np.array([genre_pred, cluster_pred, movie_pred]).dot(weights)\n",
    "    for genre_pred, cluster_pred, movie_pred\n",
    "    in zip(genre_predictions, cluster_predictions, movie_predictions)\n",
    "])\n",
    "\n",
    "print_stats(get_performance_stats(y_true, y_pred))"
   ],
   "metadata": {
    "collapsed": false,
    "ExecuteTime": {
     "end_time": "2024-05-30T14:59:41.771602Z",
     "start_time": "2024-05-30T14:59:41.642916600Z"
    }
   },
   "id": "27af7528d557816f"
  },
  {
   "cell_type": "code",
   "execution_count": null,
   "outputs": [],
   "source": [],
   "metadata": {
    "collapsed": false
   },
   "id": "a803228bfe135193"
  }
 ],
 "metadata": {
  "kernelspec": {
   "display_name": "Python 3",
   "language": "python",
   "name": "python3"
  },
  "language_info": {
   "codemirror_mode": {
    "name": "ipython",
    "version": 2
   },
   "file_extension": ".py",
   "mimetype": "text/x-python",
   "name": "python",
   "nbconvert_exporter": "python",
   "pygments_lexer": "ipython2",
   "version": "2.7.6"
  }
 },
 "nbformat": 4,
 "nbformat_minor": 5
}
